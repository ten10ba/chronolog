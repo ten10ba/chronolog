{
 "cells": [
  {
   "cell_type": "code",
   "execution_count": 1,
   "metadata": {},
   "outputs": [],
   "source": [
    "import os\n",
    "import numpy\n",
    "import pandas as pd\n",
    "import matplotlib\n",
    "import matplotlib.pyplot as plt\n",
    "import matplotlib.ticker as mtick\n",
    "import matplotlib.image as mpimg\n",
    "from itertools import cycle\n",
    "import seaborn as sns\n",
    "import statsmodels.api as sm \n",
    "from scipy.interpolate import interp1d\n",
    "from prophet import Prophet\n",
    "\n",
    "pd.set_option('display.max_columns', 50)\n",
    "plt.style.use('bmh')\n",
    "color_cycle = cycle(plt.rcParams['axes.prop_cycle'].by_key()['color'])"
   ]
  },
  {
   "cell_type": "code",
   "execution_count": 2,
   "metadata": {},
   "outputs": [
    {
     "name": "stdout",
     "output_type": "stream",
     "text": [
      "CPU times: total: 2.95 s\n",
      "Wall time: 8.83 s\n"
     ]
    }
   ],
   "source": [
    "%%time\n",
    "oj = os.path.join\n",
    "INPUT_DIR = '../input/m5-forecasting-accuracy/'\n",
    "train = pd.read_csv(oj(INPUT_DIR, 'trainset.csv'))\n",
    "price = pd.read_csv(oj(INPUT_DIR, 'sell_prices.csv'))\n",
    "calendar = pd.read_csv(oj(INPUT_DIR, 'calendar.csv'))\n",
    "\n",
    "sample_submit = pd.read_csv(oj(INPUT_DIR, 'submit.csv'))"
   ]
  },
  {
   "cell_type": "code",
   "execution_count": 6,
   "metadata": {},
   "outputs": [
    {
     "name": "stdout",
     "output_type": "stream",
     "text": [
      "[nan 'SuperBowl' 'ValentinesDay' 'PresidentsDay' 'LentStart' 'LentWeek2'\n",
      " 'StPatricksDay' 'Purim End' 'OrthodoxEaster' 'Pesach End' 'Cinco De Mayo'\n",
      " \"Mother's day\" 'MemorialDay' 'NBAFinalsStart' 'NBAFinalsEnd'\n",
      " \"Father's day\" 'IndependenceDay' 'Ramadan starts' 'Eid al-Fitr'\n",
      " 'LaborDay' 'ColumbusDay' 'Halloween' 'EidAlAdha' 'VeteransDay'\n",
      " 'Thanksgiving' 'Christmas' 'Chanukah End' 'NewYear' 'OrthodoxChristmas'\n",
      " 'MartinLutherKingDay' 'Easter']\n"
     ]
    }
   ],
   "source": [
    "print(calendar['event_name_1'].unique())"
   ]
  },
  {
   "cell_type": "code",
   "execution_count": 7,
   "metadata": {},
   "outputs": [
    {
     "name": "stdout",
     "output_type": "stream",
     "text": [
      "[nan 'Sporting' 'Cultural' 'National' 'Religious']\n"
     ]
    }
   ],
   "source": [
    "print(calendar['event_type_1'].unique())"
   ]
  },
  {
   "cell_type": "code",
   "execution_count": 8,
   "metadata": {},
   "outputs": [
    {
     "name": "stdout",
     "output_type": "stream",
     "text": [
      "[nan 'Easter' 'Cinco De Mayo' 'OrthodoxEaster' \"Father's day\"]\n"
     ]
    }
   ],
   "source": [
    "print(calendar['event_name_2'].unique())"
   ]
  },
  {
   "cell_type": "code",
   "execution_count": 9,
   "metadata": {},
   "outputs": [
    {
     "name": "stdout",
     "output_type": "stream",
     "text": [
      "[nan 'Cultural' 'Religious']\n"
     ]
    }
   ],
   "source": [
    "print(calendar['event_type_2'].unique())"
   ]
  },
  {
   "cell_type": "code",
   "execution_count": 10,
   "metadata": {},
   "outputs": [
    {
     "name": "stdout",
     "output_type": "stream",
     "text": [
      "  store_id        item_id  wm_yr_wk  sell_price\n",
      "0     CA_1  HOBBIES_1_001     11325        9.58\n",
      "1     CA_1  HOBBIES_1_001     11326        9.58\n",
      "2     CA_1  HOBBIES_1_001     11327        8.26\n",
      "3     CA_1  HOBBIES_1_001     11328        8.26\n",
      "4     CA_1  HOBBIES_1_001     11329        8.26\n",
      "(6841121, 4)\n"
     ]
    }
   ],
   "source": [
    "print(price.head())\n",
    "print(price.shape)"
   ]
  },
  {
   "cell_type": "code",
   "execution_count": null,
   "metadata": {},
   "outputs": [],
   "source": []
  },
  {
   "cell_type": "code",
   "execution_count": 26,
   "metadata": {},
   "outputs": [
    {
     "name": "stdout",
     "output_type": "stream",
     "text": [
      "(30490, 1933)\n"
     ]
    }
   ],
   "source": [
    "print(train.shape)"
   ]
  },
  {
   "cell_type": "code",
   "execution_count": 3,
   "metadata": {},
   "outputs": [
    {
     "name": "stderr",
     "output_type": "stream",
     "text": [
      "C:\\Users\\sasa4\\AppData\\Local\\Temp\\ipykernel_26652\\4000262814.py:7: SettingWithCopyWarning: \n",
      "A value is trying to be set on a copy of a slice from a DataFrame.\n",
      "Try using .loc[row_indexer,col_indexer] = value instead\n",
      "\n",
      "See the caveats in the documentation: https://pandas.pydata.org/pandas-docs/stable/user_guide/indexing.html#returning-a-view-versus-a-copy\n",
      "  df_train['y'] = train.loc[i,'d_1':].values\n"
     ]
    },
    {
     "name": "stdout",
     "output_type": "stream",
     "text": [
      "              ds       d  wm_yr_wk  y  sell_price\n",
      "0     2011-01-29     d_1     11101  0         NaN\n",
      "1     2011-01-30     d_2     11101  0         NaN\n",
      "2     2011-01-31     d_3     11101  0         NaN\n",
      "3     2011-02-01     d_4     11101  0         NaN\n",
      "4     2011-02-02     d_5     11101  0         NaN\n",
      "...          ...     ...       ... ..         ...\n",
      "1922  2016-05-04  d_1923     11614  1        8.38\n",
      "1923  2016-05-05  d_1924     11614  1        8.38\n",
      "1924  2016-05-06  d_1925     11614  0        8.38\n",
      "1925  2016-05-07  d_1926     11615  2        8.38\n",
      "1926  2016-05-08  d_1927     11615  1        8.38\n",
      "\n",
      "[1927 rows x 5 columns]\n",
      "-------------------\n"
     ]
    },
    {
     "name": "stderr",
     "output_type": "stream",
     "text": [
      "21:19:26 - cmdstanpy - INFO - Chain [1] start processing\n",
      "21:19:26 - cmdstanpy - INFO - Chain [1] done processing\n"
     ]
    },
    {
     "name": "stdout",
     "output_type": "stream",
     "text": [
      "             ds\n",
      "0    2011-01-29\n",
      "1    2011-01-30\n",
      "2    2011-01-31\n",
      "3    2011-02-01\n",
      "4    2011-02-02\n",
      "...         ...\n",
      "1936 2016-05-18\n",
      "1937 2016-05-19\n",
      "1938 2016-05-20\n",
      "1939 2016-05-21\n",
      "1940 2016-05-22\n",
      "\n",
      "[1941 rows x 1 columns]\n",
      "             ds     trend  yhat_lower  yhat_upper  trend_lower  trend_upper  \\\n",
      "1927 2016-05-09  0.870011   -0.064421    1.490281     0.870011     0.870011   \n",
      "1928 2016-05-10  0.870593   -0.069714    1.600720     0.870593     0.870593   \n",
      "1929 2016-05-11  0.871175   -0.170017    1.459229     0.871175     0.871175   \n",
      "1930 2016-05-12  0.871758   -0.151227    1.490637     0.871758     0.871758   \n",
      "1931 2016-05-13  0.872340   -0.109431    1.488859     0.872340     0.872340   \n",
      "1932 2016-05-14  0.872922    0.000032    1.657664     0.872922     0.872922   \n",
      "1933 2016-05-15  0.873504   -0.038845    1.480936     0.873504     0.873504   \n",
      "1934 2016-05-16  0.874086   -0.112172    1.385361     0.874086     0.874086   \n",
      "1935 2016-05-17  0.874668   -0.166155    1.531865     0.874668     0.874668   \n",
      "1936 2016-05-18  0.875250   -0.151967    1.370771     0.875250     0.875250   \n",
      "1937 2016-05-19  0.875833   -0.181306    1.327102     0.875833     0.875833   \n",
      "1938 2016-05-20  0.876415   -0.160464    1.395549     0.876415     0.876415   \n",
      "1939 2016-05-21  0.876997    0.046865    1.585996     0.876997     0.876997   \n",
      "1940 2016-05-22  0.877579   -0.088748    1.507103     0.877579     0.877579   \n",
      "\n",
      "      additive_terms  additive_terms_lower  additive_terms_upper    weekly  \\\n",
      "1927       -0.147498             -0.147498             -0.147498 -0.034508   \n",
      "1928       -0.093009             -0.093009             -0.093009  0.030495   \n",
      "1929       -0.209631             -0.209631             -0.209631 -0.075416   \n",
      "1930       -0.217205             -0.217205             -0.217205 -0.072224   \n",
      "1931       -0.181042             -0.181042             -0.181042 -0.025386   \n",
      "1932       -0.021188             -0.021188             -0.021188  0.144895   \n",
      "1933       -0.143967             -0.143967             -0.143967  0.032143   \n",
      "1934       -0.220087             -0.220087             -0.220087 -0.034508   \n",
      "1935       -0.163846             -0.163846             -0.163846  0.030495   \n",
      "1936       -0.277672             -0.277672             -0.277672 -0.075416   \n",
      "1937       -0.281416             -0.281416             -0.281416 -0.072224   \n",
      "1938       -0.240422             -0.240422             -0.240422 -0.025386   \n",
      "1939       -0.074793             -0.074793             -0.074793  0.144895   \n",
      "1940       -0.190929             -0.190929             -0.190929  0.032143   \n",
      "\n",
      "      weekly_lower  weekly_upper    yearly  yearly_lower  yearly_upper  \\\n",
      "1927     -0.034508     -0.034508 -0.112990     -0.112990     -0.112990   \n",
      "1928      0.030495      0.030495 -0.123505     -0.123505     -0.123505   \n",
      "1929     -0.075416     -0.075416 -0.134215     -0.134215     -0.134215   \n",
      "1930     -0.072224     -0.072224 -0.144982     -0.144982     -0.144982   \n",
      "1931     -0.025386     -0.025386 -0.155656     -0.155656     -0.155656   \n",
      "1932      0.144895      0.144895 -0.166084     -0.166084     -0.166084   \n",
      "1933      0.032143      0.032143 -0.176110     -0.176110     -0.176110   \n",
      "1934     -0.034508     -0.034508 -0.185579     -0.185579     -0.185579   \n",
      "1935      0.030495      0.030495 -0.194341     -0.194341     -0.194341   \n",
      "1936     -0.075416     -0.075416 -0.202256     -0.202256     -0.202256   \n",
      "1937     -0.072224     -0.072224 -0.209192     -0.209192     -0.209192   \n",
      "1938     -0.025386     -0.025386 -0.215036     -0.215036     -0.215036   \n",
      "1939      0.144895      0.144895 -0.219689     -0.219689     -0.219689   \n",
      "1940      0.032143      0.032143 -0.223072     -0.223072     -0.223072   \n",
      "\n",
      "      multiplicative_terms  multiplicative_terms_lower  \\\n",
      "1927                   0.0                         0.0   \n",
      "1928                   0.0                         0.0   \n",
      "1929                   0.0                         0.0   \n",
      "1930                   0.0                         0.0   \n",
      "1931                   0.0                         0.0   \n",
      "1932                   0.0                         0.0   \n",
      "1933                   0.0                         0.0   \n",
      "1934                   0.0                         0.0   \n",
      "1935                   0.0                         0.0   \n",
      "1936                   0.0                         0.0   \n",
      "1937                   0.0                         0.0   \n",
      "1938                   0.0                         0.0   \n",
      "1939                   0.0                         0.0   \n",
      "1940                   0.0                         0.0   \n",
      "\n",
      "      multiplicative_terms_upper      yhat  \n",
      "1927                         0.0  0.722513  \n",
      "1928                         0.0  0.777584  \n",
      "1929                         0.0  0.661544  \n",
      "1930                         0.0  0.654552  \n",
      "1931                         0.0  0.691298  \n",
      "1932                         0.0  0.851733  \n",
      "1933                         0.0  0.729537  \n",
      "1934                         0.0  0.653999  \n",
      "1935                         0.0  0.710823  \n",
      "1936                         0.0  0.597579  \n",
      "1937                         0.0  0.594416  \n",
      "1938                         0.0  0.635993  \n",
      "1939                         0.0  0.802204  \n",
      "1940                         0.0  0.686650  \n"
     ]
    },
    {
     "data": {
      "image/png": "[encoded data removed]",
      "text/plain": [
       "<Figure size 720x432 with 1 Axes>"
      ]
     },
     "metadata": {},
     "output_type": "display_data"
    }
   ],
   "source": [
    "for i in range(train.shape[0]):\n",
    "    df = pd.DataFrame(calendar[['date', 'd', 'wm_yr_wk']])\n",
    "    df_train =  df.loc[0:1926]\n",
    "    df_test = df.loc[1927:]\n",
    "    #print(df_train)\n",
    "    #print(df_test)\n",
    "    df_train['y'] = train.loc[i,'d_1':].values\n",
    "    df_train = pd.merge(df_train, price[(price['store_id'] == train.loc[i,'store_id']) & (price['item_id'] == train.loc[0,'item_id'])][['wm_yr_wk', 'sell_price']], how='left', on=['wm_yr_wk'])\n",
    "    df_train = df_train.rename(columns={'date': 'ds'})\n",
    "    #df_train = df_train.drop([\"price\"], axis=1)\n",
    "    print(df_train)\n",
    "    print(\"-------------------\")\n",
    "\n",
    "    print(\"wataru\")\n",
    "    \n",
    "    model = Prophet()\n",
    "    model.fit(df_train)\n",
    "    future = model.make_future_dataframe(periods=14)\n",
    "    print(future)\n",
    "    forecast = model.predict(future)\n",
    "    print(forecast.tail(14))\n",
    "    model.plot(forecast.tail(14))\n",
    "    plt.show()\n",
    "    #df_train.to_csv('df_train' + str(i) + '.csv', index=False)"
   ]
  },
  {
   "cell_type": "code",
   "execution_count": null,
   "metadata": {},
   "outputs": [],
   "source": []
  }
 ],
 "metadata": {
  "kernelspec": {
   "display_name": ".venv",
   "language": "python",
   "name": "python3"
  },
  "language_info": {
   "codemirror_mode": {
    "name": "ipython",
    "version": 3
   },
   "file_extension": ".py",
   "mimetype": "text/x-python",
   "name": "python",
   "nbconvert_exporter": "python",
   "pygments_lexer": "ipython3",
   "version": "3.9.7"
  }
 },
 "nbformat": 4,
 "nbformat_minor": 2
}
