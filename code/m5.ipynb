{
 "cells": [
  {
   "cell_type": "code",
   "execution_count": 47,
   "metadata": {},
   "outputs": [],
   "source": [
    "import os\n",
    "import numpy as np\n",
    "import pandas as pd\n",
    "import matplotlib\n",
    "import matplotlib.pyplot as plt\n",
    "import matplotlib.ticker as mtick\n",
    "import matplotlib.image as mpimg\n",
    "import optuna\n",
    "from itertools import cycle\n",
    "import seaborn as sns\n",
    "import statsmodels.api as sm \n",
    "from scipy.interpolate import interp1d\n",
    "from prophet import Prophet\n",
    "from prophet.plot import add_changepoints_to_plot\n",
    "from sklearn.metrics import mean_squared_error\n",
    "import time\n",
    "\n",
    "pd.set_option('display.max_columns', 50)\n",
    "plt.style.use('bmh')\n",
    "color_cycle = cycle(plt.rcParams['axes.prop_cycle'].by_key()['color'])"
   ]
  },
  {
   "cell_type": "code",
   "execution_count": 48,
   "metadata": {},
   "outputs": [
    {
     "name": "stdout",
     "output_type": "stream",
     "text": [
      "CPU times: total: 1.77 s\n",
      "Wall time: 5.64 s\n"
     ]
    }
   ],
   "source": [
    "%%time\n",
    "oj = os.path.join\n",
    "INPUT_DIR = '../input/m5-forecasting-accuracy/'\n",
    "train = pd.read_csv(oj(INPUT_DIR, 'trainset.csv'))\n",
    "price = pd.read_csv(oj(INPUT_DIR, 'sell_prices.csv'))\n",
    "calendar = pd.read_csv(oj(INPUT_DIR, 'calendar.csv'))\n",
    "\n",
    "sample_submit = pd.read_csv(oj(INPUT_DIR, 'submit.csv'))"
   ]
  },
  {
   "cell_type": "code",
   "execution_count": 49,
   "metadata": {},
   "outputs": [
    {
     "name": "stdout",
     "output_type": "stream",
     "text": [
      "           ds  lower_window  upper_window        holiday\n",
      "0  2011-02-06             0             1      SuperBowl\n",
      "1  2011-02-14             0             1  ValentinesDay\n",
      "2  2011-02-21             0             1  PresidentsDay\n",
      "3  2011-03-09             0             1      LentStart\n",
      "4  2011-03-16             0             1      LentWeek2\n"
     ]
    }
   ],
   "source": [
    "holidays = calendar[['date', 'event_name_1', 'event_type_1', 'event_name_2', 'event_type_2']]\n",
    "holidays = holidays.rename(columns={'date': 'ds'})\n",
    "holidays['lower_window'] = 0\n",
    "holidays['upper_window'] = 1\n",
    "holidays1 = holidays.dropna(subset = ['event_name_1'])\n",
    "holidays2 = holidays.dropna(subset = ['event_name_2'])\n",
    "holidays1 = holidays1[['ds', 'lower_window', 'upper_window', 'event_name_1']]\n",
    "holidays1 = holidays1.rename(columns={'event_name_1': 'holiday'})\n",
    "holidays2 = holidays2[['ds', 'lower_window', 'upper_window', 'event_name_2']]\n",
    "holidays2 = holidays2.rename(columns={'event_name_2': 'holiday'})\n",
    "holidays = pd.concat((holidays1, holidays2))\n",
    "holidays = holidays.reset_index(drop=True)\n",
    "print(holidays.head())\n"
   ]
  },
  {
   "cell_type": "code",
   "execution_count": 53,
   "metadata": {},
   "outputs": [],
   "source": [
    "def objective(trial):\n",
    "    params = {'changepoint_prior_scale' : \n",
    "                 trial.suggest_uniform('changepoint_prior_scale',\n",
    "                                       0.1,0.5\n",
    "                                      ),\n",
    "              'seasonality_prior_scale' : \n",
    "                 trial.suggest_uniform('seasonality_prior_scale',\n",
    "                                       0.1,10\n",
    "                                      ),\n",
    "              'seasonality_mode' : \n",
    "                 trial.suggest_categorical('seasonality_mode',\n",
    "                                           ['additive', 'multiplicative']\n",
    "                                          ),\n",
    "              'changepoint_range' : \n",
    "                  trial.suggest_discrete_uniform('changepoint_range', \n",
    "                                                 0.8, 1, \n",
    "                                                 0.1),\n",
    "             }\n",
    "    \n",
    "    model = Prophet(holidays=holidays,\n",
    "    **params)\n",
    "    model.fit(train_opt)\n",
    "\n",
    "    \n",
    "    forecast =  model.predict(val_opt)\n",
    "    \n",
    "    val_rmse = np.sqrt(mean_squared_error(val_opt.y, forecast.yhat))\n",
    "    return val_rmse\n",
    "\n"
   ]
  },
  {
   "cell_type": "code",
   "execution_count": 54,
   "metadata": {},
   "outputs": [
    {
     "name": "stdout",
     "output_type": "stream",
     "text": [
      "df read 0.0010001659393310547\n"
     ]
    },
    {
     "name": "stderr",
     "output_type": "stream",
     "text": [
      "C:\\Users\\fuyuki\\AppData\\Local\\Temp\\ipykernel_53100\\3653885342.py:14: SettingWithCopyWarning: \n",
      "A value is trying to be set on a copy of a slice from a DataFrame.\n",
      "Try using .loc[row_indexer,col_indexer] = value instead\n",
      "\n",
      "See the caveats in the documentation: https://pandas.pydata.org/pandas-docs/stable/user_guide/indexing.html#returning-a-view-versus-a-copy\n",
      "  df_train['y'] = train.loc[i,'d_1':].values\n",
      "[I 2023-12-11 04:19:37,059] A new study created in memory with name: no-name-46529446-a655-4dd4-8005-901726500148\n"
     ]
    },
    {
     "name": "stdout",
     "output_type": "stream",
     "text": [
      "slice 0.5823326110839844\n"
     ]
    },
    {
     "name": "stderr",
     "output_type": "stream",
     "text": [
      "C:\\Users\\fuyuki\\AppData\\Local\\Temp\\ipykernel_53100\\465002941.py:3: FutureWarning: suggest_uniform has been deprecated in v3.0.0. This feature will be removed in v6.0.0. See https://github.com/optuna/optuna/releases/tag/v3.0.0. Use suggest_float instead.\n",
      "  trial.suggest_uniform('changepoint_prior_scale',\n",
      "C:\\Users\\fuyuki\\AppData\\Local\\Temp\\ipykernel_53100\\465002941.py:7: FutureWarning: suggest_uniform has been deprecated in v3.0.0. This feature will be removed in v6.0.0. See https://github.com/optuna/optuna/releases/tag/v3.0.0. Use suggest_float instead.\n",
      "  trial.suggest_uniform('seasonality_prior_scale',\n",
      "C:\\Users\\fuyuki\\AppData\\Local\\Temp\\ipykernel_53100\\465002941.py:15: FutureWarning: suggest_discrete_uniform has been deprecated in v3.0.0. This feature will be removed in v6.0.0. See https://github.com/optuna/optuna/releases/tag/v3.0.0. Use suggest_float(..., step=...) instead.\n",
      "  trial.suggest_discrete_uniform('changepoint_range',\n",
      "04:19:37 - cmdstanpy - INFO - Chain [1] start processing\n",
      "04:19:37 - cmdstanpy - INFO - Chain [1] done processing\n",
      "[I 2023-12-11 04:19:37,611] Trial 0 finished with value: 1.1812268069181924 and parameters: {'changepoint_prior_scale': 0.3258593158971895, 'seasonality_prior_scale': 8.177095319131318, 'seasonality_mode': 'additive', 'changepoint_range': 0.8}. Best is trial 0 with value: 1.1812268069181924.\n",
      "C:\\Users\\fuyuki\\AppData\\Local\\Temp\\ipykernel_53100\\465002941.py:3: FutureWarning: suggest_uniform has been deprecated in v3.0.0. This feature will be removed in v6.0.0. See https://github.com/optuna/optuna/releases/tag/v3.0.0. Use suggest_float instead.\n",
      "  trial.suggest_uniform('changepoint_prior_scale',\n",
      "C:\\Users\\fuyuki\\AppData\\Local\\Temp\\ipykernel_53100\\465002941.py:7: FutureWarning: suggest_uniform has been deprecated in v3.0.0. This feature will be removed in v6.0.0. See https://github.com/optuna/optuna/releases/tag/v3.0.0. Use suggest_float instead.\n",
      "  trial.suggest_uniform('seasonality_prior_scale',\n",
      "C:\\Users\\fuyuki\\AppData\\Local\\Temp\\ipykernel_53100\\465002941.py:15: FutureWarning: suggest_discrete_uniform has been deprecated in v3.0.0. This feature will be removed in v6.0.0. See https://github.com/optuna/optuna/releases/tag/v3.0.0. Use suggest_float(..., step=...) instead.\n",
      "  trial.suggest_discrete_uniform('changepoint_range',\n",
      "04:19:37 - cmdstanpy - INFO - Chain [1] start processing\n",
      "04:19:37 - cmdstanpy - INFO - Chain [1] done processing\n",
      "[I 2023-12-11 04:19:38,167] Trial 1 finished with value: 1.1807643305773599 and parameters: {'changepoint_prior_scale': 0.2552549574405563, 'seasonality_prior_scale': 0.2955019990244532, 'seasonality_mode': 'multiplicative', 'changepoint_range': 0.9}. Best is trial 1 with value: 1.1807643305773599.\n",
      "C:\\Users\\fuyuki\\AppData\\Local\\Temp\\ipykernel_53100\\465002941.py:3: FutureWarning: suggest_uniform has been deprecated in v3.0.0. This feature will be removed in v6.0.0. See https://github.com/optuna/optuna/releases/tag/v3.0.0. Use suggest_float instead.\n",
      "  trial.suggest_uniform('changepoint_prior_scale',\n",
      "C:\\Users\\fuyuki\\AppData\\Local\\Temp\\ipykernel_53100\\465002941.py:7: FutureWarning: suggest_uniform has been deprecated in v3.0.0. This feature will be removed in v6.0.0. See https://github.com/optuna/optuna/releases/tag/v3.0.0. Use suggest_float instead.\n",
      "  trial.suggest_uniform('seasonality_prior_scale',\n",
      "C:\\Users\\fuyuki\\AppData\\Local\\Temp\\ipykernel_53100\\465002941.py:15: FutureWarning: suggest_discrete_uniform has been deprecated in v3.0.0. This feature will be removed in v6.0.0. See https://github.com/optuna/optuna/releases/tag/v3.0.0. Use suggest_float(..., step=...) instead.\n",
      "  trial.suggest_discrete_uniform('changepoint_range',\n",
      "04:19:38 - cmdstanpy - INFO - Chain [1] start processing\n",
      "04:19:38 - cmdstanpy - INFO - Chain [1] done processing\n",
      "[I 2023-12-11 04:19:38,722] Trial 2 finished with value: 1.2087762693469344 and parameters: {'changepoint_prior_scale': 0.28765418665831, 'seasonality_prior_scale': 1.5889252373329947, 'seasonality_mode': 'multiplicative', 'changepoint_range': 1.0}. Best is trial 1 with value: 1.1807643305773599.\n",
      "C:\\Users\\fuyuki\\AppData\\Local\\Temp\\ipykernel_53100\\465002941.py:3: FutureWarning: suggest_uniform has been deprecated in v3.0.0. This feature will be removed in v6.0.0. See https://github.com/optuna/optuna/releases/tag/v3.0.0. Use suggest_float instead.\n",
      "  trial.suggest_uniform('changepoint_prior_scale',\n",
      "C:\\Users\\fuyuki\\AppData\\Local\\Temp\\ipykernel_53100\\465002941.py:7: FutureWarning: suggest_uniform has been deprecated in v3.0.0. This feature will be removed in v6.0.0. See https://github.com/optuna/optuna/releases/tag/v3.0.0. Use suggest_float instead.\n",
      "  trial.suggest_uniform('seasonality_prior_scale',\n",
      "C:\\Users\\fuyuki\\AppData\\Local\\Temp\\ipykernel_53100\\465002941.py:15: FutureWarning: suggest_discrete_uniform has been deprecated in v3.0.0. This feature will be removed in v6.0.0. See https://github.com/optuna/optuna/releases/tag/v3.0.0. Use suggest_float(..., step=...) instead.\n",
      "  trial.suggest_discrete_uniform('changepoint_range',\n",
      "04:19:38 - cmdstanpy - INFO - Chain [1] start processing\n",
      "04:19:39 - cmdstanpy - INFO - Chain [1] done processing\n",
      "[I 2023-12-11 04:19:39,256] Trial 3 finished with value: 1.1827945360311136 and parameters: {'changepoint_prior_scale': 0.25633521460743297, 'seasonality_prior_scale': 1.7182388881411916, 'seasonality_mode': 'additive', 'changepoint_range': 0.9}. Best is trial 1 with value: 1.1807643305773599.\n",
      "C:\\Users\\fuyuki\\AppData\\Local\\Temp\\ipykernel_53100\\465002941.py:3: FutureWarning: suggest_uniform has been deprecated in v3.0.0. This feature will be removed in v6.0.0. See https://github.com/optuna/optuna/releases/tag/v3.0.0. Use suggest_float instead.\n",
      "  trial.suggest_uniform('changepoint_prior_scale',\n",
      "C:\\Users\\fuyuki\\AppData\\Local\\Temp\\ipykernel_53100\\465002941.py:7: FutureWarning: suggest_uniform has been deprecated in v3.0.0. This feature will be removed in v6.0.0. See https://github.com/optuna/optuna/releases/tag/v3.0.0. Use suggest_float instead.\n",
      "  trial.suggest_uniform('seasonality_prior_scale',\n",
      "C:\\Users\\fuyuki\\AppData\\Local\\Temp\\ipykernel_53100\\465002941.py:15: FutureWarning: suggest_discrete_uniform has been deprecated in v3.0.0. This feature will be removed in v6.0.0. See https://github.com/optuna/optuna/releases/tag/v3.0.0. Use suggest_float(..., step=...) instead.\n",
      "  trial.suggest_discrete_uniform('changepoint_range',\n",
      "04:19:39 - cmdstanpy - INFO - Chain [1] start processing\n",
      "04:19:39 - cmdstanpy - INFO - Chain [1] done processing\n",
      "[I 2023-12-11 04:19:39,808] Trial 4 finished with value: 1.2045125018173761 and parameters: {'changepoint_prior_scale': 0.2983114692138252, 'seasonality_prior_scale': 6.544523895203303, 'seasonality_mode': 'multiplicative', 'changepoint_range': 0.9}. Best is trial 1 with value: 1.1807643305773599.\n"
     ]
    },
    {
     "name": "stdout",
     "output_type": "stream",
     "text": [
      "model initialized 0.1004798412322998\n"
     ]
    },
    {
     "name": "stderr",
     "output_type": "stream",
     "text": [
      "04:19:41 - cmdstanpy - INFO - Chain [1] start processing\n",
      "04:19:42 - cmdstanpy - INFO - Chain [1] done processing\n"
     ]
    },
    {
     "name": "stdout",
     "output_type": "stream",
     "text": [
      "predict 0.4626200199127197\n",
      "df read 0.0\n"
     ]
    },
    {
     "name": "stderr",
     "output_type": "stream",
     "text": [
      "C:\\Users\\fuyuki\\AppData\\Local\\Temp\\ipykernel_53100\\3653885342.py:14: SettingWithCopyWarning: \n",
      "A value is trying to be set on a copy of a slice from a DataFrame.\n",
      "Try using .loc[row_indexer,col_indexer] = value instead\n",
      "\n",
      "See the caveats in the documentation: https://pandas.pydata.org/pandas-docs/stable/user_guide/indexing.html#returning-a-view-versus-a-copy\n",
      "  df_train['y'] = train.loc[i,'d_1':].values\n",
      "[I 2023-12-11 04:19:43,667] A new study created in memory with name: no-name-d04b5d89-eeae-4385-897e-da420624d07a\n"
     ]
    },
    {
     "name": "stdout",
     "output_type": "stream",
     "text": [
      "slice 0.5724325180053711\n"
     ]
    },
    {
     "name": "stderr",
     "output_type": "stream",
     "text": [
      "C:\\Users\\fuyuki\\AppData\\Local\\Temp\\ipykernel_53100\\465002941.py:3: FutureWarning: suggest_uniform has been deprecated in v3.0.0. This feature will be removed in v6.0.0. See https://github.com/optuna/optuna/releases/tag/v3.0.0. Use suggest_float instead.\n",
      "  trial.suggest_uniform('changepoint_prior_scale',\n",
      "C:\\Users\\fuyuki\\AppData\\Local\\Temp\\ipykernel_53100\\465002941.py:7: FutureWarning: suggest_uniform has been deprecated in v3.0.0. This feature will be removed in v6.0.0. See https://github.com/optuna/optuna/releases/tag/v3.0.0. Use suggest_float instead.\n",
      "  trial.suggest_uniform('seasonality_prior_scale',\n",
      "C:\\Users\\fuyuki\\AppData\\Local\\Temp\\ipykernel_53100\\465002941.py:15: FutureWarning: suggest_discrete_uniform has been deprecated in v3.0.0. This feature will be removed in v6.0.0. See https://github.com/optuna/optuna/releases/tag/v3.0.0. Use suggest_float(..., step=...) instead.\n",
      "  trial.suggest_discrete_uniform('changepoint_range',\n",
      "04:19:43 - cmdstanpy - INFO - Chain [1] start processing\n",
      "04:19:44 - cmdstanpy - INFO - Chain [1] done processing\n",
      "[I 2023-12-11 04:19:44,240] Trial 0 finished with value: 3.3764262007225585 and parameters: {'changepoint_prior_scale': 0.25010122697790504, 'seasonality_prior_scale': 5.062437674093563, 'seasonality_mode': 'multiplicative', 'changepoint_range': 0.9}. Best is trial 0 with value: 3.3764262007225585.\n",
      "C:\\Users\\fuyuki\\AppData\\Local\\Temp\\ipykernel_53100\\465002941.py:3: FutureWarning: suggest_uniform has been deprecated in v3.0.0. This feature will be removed in v6.0.0. See https://github.com/optuna/optuna/releases/tag/v3.0.0. Use suggest_float instead.\n",
      "  trial.suggest_uniform('changepoint_prior_scale',\n",
      "C:\\Users\\fuyuki\\AppData\\Local\\Temp\\ipykernel_53100\\465002941.py:7: FutureWarning: suggest_uniform has been deprecated in v3.0.0. This feature will be removed in v6.0.0. See https://github.com/optuna/optuna/releases/tag/v3.0.0. Use suggest_float instead.\n",
      "  trial.suggest_uniform('seasonality_prior_scale',\n",
      "C:\\Users\\fuyuki\\AppData\\Local\\Temp\\ipykernel_53100\\465002941.py:15: FutureWarning: suggest_discrete_uniform has been deprecated in v3.0.0. This feature will be removed in v6.0.0. See https://github.com/optuna/optuna/releases/tag/v3.0.0. Use suggest_float(..., step=...) instead.\n",
      "  trial.suggest_discrete_uniform('changepoint_range',\n",
      "04:19:44 - cmdstanpy - INFO - Chain [1] start processing\n",
      "04:19:44 - cmdstanpy - INFO - Chain [1] done processing\n",
      "[I 2023-12-11 04:19:44,809] Trial 1 finished with value: 1.511603312545951 and parameters: {'changepoint_prior_scale': 0.23484624334596754, 'seasonality_prior_scale': 2.9036764637934147, 'seasonality_mode': 'additive', 'changepoint_range': 0.8}. Best is trial 1 with value: 1.511603312545951.\n",
      "C:\\Users\\fuyuki\\AppData\\Local\\Temp\\ipykernel_53100\\465002941.py:3: FutureWarning: suggest_uniform has been deprecated in v3.0.0. This feature will be removed in v6.0.0. See https://github.com/optuna/optuna/releases/tag/v3.0.0. Use suggest_float instead.\n",
      "  trial.suggest_uniform('changepoint_prior_scale',\n",
      "C:\\Users\\fuyuki\\AppData\\Local\\Temp\\ipykernel_53100\\465002941.py:7: FutureWarning: suggest_uniform has been deprecated in v3.0.0. This feature will be removed in v6.0.0. See https://github.com/optuna/optuna/releases/tag/v3.0.0. Use suggest_float instead.\n",
      "  trial.suggest_uniform('seasonality_prior_scale',\n",
      "C:\\Users\\fuyuki\\AppData\\Local\\Temp\\ipykernel_53100\\465002941.py:15: FutureWarning: suggest_discrete_uniform has been deprecated in v3.0.0. This feature will be removed in v6.0.0. See https://github.com/optuna/optuna/releases/tag/v3.0.0. Use suggest_float(..., step=...) instead.\n",
      "  trial.suggest_discrete_uniform('changepoint_range',\n",
      "04:19:45 - cmdstanpy - INFO - Chain [1] start processing\n",
      "04:19:45 - cmdstanpy - INFO - Chain [1] done processing\n",
      "[I 2023-12-11 04:19:45,381] Trial 2 finished with value: 1.5548532734522882 and parameters: {'changepoint_prior_scale': 0.3891030212956009, 'seasonality_prior_scale': 0.6598615579889184, 'seasonality_mode': 'multiplicative', 'changepoint_range': 0.9}. Best is trial 1 with value: 1.511603312545951.\n",
      "C:\\Users\\fuyuki\\AppData\\Local\\Temp\\ipykernel_53100\\465002941.py:3: FutureWarning: suggest_uniform has been deprecated in v3.0.0. This feature will be removed in v6.0.0. See https://github.com/optuna/optuna/releases/tag/v3.0.0. Use suggest_float instead.\n",
      "  trial.suggest_uniform('changepoint_prior_scale',\n",
      "C:\\Users\\fuyuki\\AppData\\Local\\Temp\\ipykernel_53100\\465002941.py:7: FutureWarning: suggest_uniform has been deprecated in v3.0.0. This feature will be removed in v6.0.0. See https://github.com/optuna/optuna/releases/tag/v3.0.0. Use suggest_float instead.\n",
      "  trial.suggest_uniform('seasonality_prior_scale',\n",
      "C:\\Users\\fuyuki\\AppData\\Local\\Temp\\ipykernel_53100\\465002941.py:15: FutureWarning: suggest_discrete_uniform has been deprecated in v3.0.0. This feature will be removed in v6.0.0. See https://github.com/optuna/optuna/releases/tag/v3.0.0. Use suggest_float(..., step=...) instead.\n",
      "  trial.suggest_discrete_uniform('changepoint_range',\n",
      "04:19:45 - cmdstanpy - INFO - Chain [1] start processing\n",
      "04:19:45 - cmdstanpy - INFO - Chain [1] done processing\n",
      "[I 2023-12-11 04:19:45,966] Trial 3 finished with value: 3.4132909445140203 and parameters: {'changepoint_prior_scale': 0.2412713442497516, 'seasonality_prior_scale': 6.33258051308114, 'seasonality_mode': 'multiplicative', 'changepoint_range': 0.8}. Best is trial 1 with value: 1.511603312545951.\n",
      "C:\\Users\\fuyuki\\AppData\\Local\\Temp\\ipykernel_53100\\465002941.py:3: FutureWarning: suggest_uniform has been deprecated in v3.0.0. This feature will be removed in v6.0.0. See https://github.com/optuna/optuna/releases/tag/v3.0.0. Use suggest_float instead.\n",
      "  trial.suggest_uniform('changepoint_prior_scale',\n",
      "C:\\Users\\fuyuki\\AppData\\Local\\Temp\\ipykernel_53100\\465002941.py:7: FutureWarning: suggest_uniform has been deprecated in v3.0.0. This feature will be removed in v6.0.0. See https://github.com/optuna/optuna/releases/tag/v3.0.0. Use suggest_float instead.\n",
      "  trial.suggest_uniform('seasonality_prior_scale',\n",
      "C:\\Users\\fuyuki\\AppData\\Local\\Temp\\ipykernel_53100\\465002941.py:15: FutureWarning: suggest_discrete_uniform has been deprecated in v3.0.0. This feature will be removed in v6.0.0. See https://github.com/optuna/optuna/releases/tag/v3.0.0. Use suggest_float(..., step=...) instead.\n",
      "  trial.suggest_discrete_uniform('changepoint_range',\n",
      "04:19:46 - cmdstanpy - INFO - Chain [1] start processing\n",
      "04:19:46 - cmdstanpy - INFO - Chain [1] done processing\n",
      "[I 2023-12-11 04:19:46,524] Trial 4 finished with value: 2.085167265729473 and parameters: {'changepoint_prior_scale': 0.38879585280039486, 'seasonality_prior_scale': 0.4782274731429663, 'seasonality_mode': 'additive', 'changepoint_range': 0.8}. Best is trial 1 with value: 1.511603312545951.\n"
     ]
    },
    {
     "name": "stdout",
     "output_type": "stream",
     "text": [
      "model initialized 0.10451364517211914\n"
     ]
    },
    {
     "name": "stderr",
     "output_type": "stream",
     "text": [
      "04:19:48 - cmdstanpy - INFO - Chain [1] start processing\n",
      "04:19:48 - cmdstanpy - INFO - Chain [1] done processing\n"
     ]
    },
    {
     "name": "stdout",
     "output_type": "stream",
     "text": [
      "predict 0.4451878070831299\n",
      "df read 0.0009989738464355469\n"
     ]
    },
    {
     "name": "stderr",
     "output_type": "stream",
     "text": [
      "C:\\Users\\fuyuki\\AppData\\Local\\Temp\\ipykernel_53100\\3653885342.py:14: SettingWithCopyWarning: \n",
      "A value is trying to be set on a copy of a slice from a DataFrame.\n",
      "Try using .loc[row_indexer,col_indexer] = value instead\n",
      "\n",
      "See the caveats in the documentation: https://pandas.pydata.org/pandas-docs/stable/user_guide/indexing.html#returning-a-view-versus-a-copy\n",
      "  df_train['y'] = train.loc[i,'d_1':].values\n",
      "[I 2023-12-11 04:19:50,165] A new study created in memory with name: no-name-d47cfe84-dffc-4ceb-8233-a3d5897d5650\n"
     ]
    },
    {
     "name": "stdout",
     "output_type": "stream",
     "text": [
      "slice 0.5991928577423096\n"
     ]
    },
    {
     "name": "stderr",
     "output_type": "stream",
     "text": [
      "C:\\Users\\fuyuki\\AppData\\Local\\Temp\\ipykernel_53100\\465002941.py:3: FutureWarning: suggest_uniform has been deprecated in v3.0.0. This feature will be removed in v6.0.0. See https://github.com/optuna/optuna/releases/tag/v3.0.0. Use suggest_float instead.\n",
      "  trial.suggest_uniform('changepoint_prior_scale',\n",
      "C:\\Users\\fuyuki\\AppData\\Local\\Temp\\ipykernel_53100\\465002941.py:7: FutureWarning: suggest_uniform has been deprecated in v3.0.0. This feature will be removed in v6.0.0. See https://github.com/optuna/optuna/releases/tag/v3.0.0. Use suggest_float instead.\n",
      "  trial.suggest_uniform('seasonality_prior_scale',\n",
      "C:\\Users\\fuyuki\\AppData\\Local\\Temp\\ipykernel_53100\\465002941.py:15: FutureWarning: suggest_discrete_uniform has been deprecated in v3.0.0. This feature will be removed in v6.0.0. See https://github.com/optuna/optuna/releases/tag/v3.0.0. Use suggest_float(..., step=...) instead.\n",
      "  trial.suggest_discrete_uniform('changepoint_range',\n",
      "04:19:50 - cmdstanpy - INFO - Chain [1] start processing\n",
      "04:19:50 - cmdstanpy - INFO - Chain [1] done processing\n",
      "[I 2023-12-11 04:19:50,721] Trial 0 finished with value: 4.29518930015576 and parameters: {'changepoint_prior_scale': 0.4089904156852955, 'seasonality_prior_scale': 1.8234762133205038, 'seasonality_mode': 'multiplicative', 'changepoint_range': 1.0}. Best is trial 0 with value: 4.29518930015576.\n",
      "C:\\Users\\fuyuki\\AppData\\Local\\Temp\\ipykernel_53100\\465002941.py:3: FutureWarning: suggest_uniform has been deprecated in v3.0.0. This feature will be removed in v6.0.0. See https://github.com/optuna/optuna/releases/tag/v3.0.0. Use suggest_float instead.\n",
      "  trial.suggest_uniform('changepoint_prior_scale',\n",
      "C:\\Users\\fuyuki\\AppData\\Local\\Temp\\ipykernel_53100\\465002941.py:7: FutureWarning: suggest_uniform has been deprecated in v3.0.0. This feature will be removed in v6.0.0. See https://github.com/optuna/optuna/releases/tag/v3.0.0. Use suggest_float instead.\n",
      "  trial.suggest_uniform('seasonality_prior_scale',\n",
      "C:\\Users\\fuyuki\\AppData\\Local\\Temp\\ipykernel_53100\\465002941.py:15: FutureWarning: suggest_discrete_uniform has been deprecated in v3.0.0. This feature will be removed in v6.0.0. See https://github.com/optuna/optuna/releases/tag/v3.0.0. Use suggest_float(..., step=...) instead.\n",
      "  trial.suggest_discrete_uniform('changepoint_range',\n",
      "04:19:50 - cmdstanpy - INFO - Chain [1] start processing\n",
      "04:19:51 - cmdstanpy - INFO - Chain [1] done processing\n",
      "[I 2023-12-11 04:19:51,283] Trial 1 finished with value: 3.874160877581997 and parameters: {'changepoint_prior_scale': 0.21135834825834254, 'seasonality_prior_scale': 6.913083699674641, 'seasonality_mode': 'multiplicative', 'changepoint_range': 1.0}. Best is trial 1 with value: 3.874160877581997.\n",
      "C:\\Users\\fuyuki\\AppData\\Local\\Temp\\ipykernel_53100\\465002941.py:3: FutureWarning: suggest_uniform has been deprecated in v3.0.0. This feature will be removed in v6.0.0. See https://github.com/optuna/optuna/releases/tag/v3.0.0. Use suggest_float instead.\n",
      "  trial.suggest_uniform('changepoint_prior_scale',\n",
      "C:\\Users\\fuyuki\\AppData\\Local\\Temp\\ipykernel_53100\\465002941.py:7: FutureWarning: suggest_uniform has been deprecated in v3.0.0. This feature will be removed in v6.0.0. See https://github.com/optuna/optuna/releases/tag/v3.0.0. Use suggest_float instead.\n",
      "  trial.suggest_uniform('seasonality_prior_scale',\n",
      "C:\\Users\\fuyuki\\AppData\\Local\\Temp\\ipykernel_53100\\465002941.py:15: FutureWarning: suggest_discrete_uniform has been deprecated in v3.0.0. This feature will be removed in v6.0.0. See https://github.com/optuna/optuna/releases/tag/v3.0.0. Use suggest_float(..., step=...) instead.\n",
      "  trial.suggest_discrete_uniform('changepoint_range',\n",
      "04:19:51 - cmdstanpy - INFO - Chain [1] start processing\n",
      "04:19:51 - cmdstanpy - INFO - Chain [1] done processing\n",
      "[I 2023-12-11 04:19:51,833] Trial 2 finished with value: 3.592005476032262 and parameters: {'changepoint_prior_scale': 0.3823028968781619, 'seasonality_prior_scale': 6.6476063381857315, 'seasonality_mode': 'additive', 'changepoint_range': 0.9}. Best is trial 2 with value: 3.592005476032262.\n",
      "C:\\Users\\fuyuki\\AppData\\Local\\Temp\\ipykernel_53100\\465002941.py:3: FutureWarning: suggest_uniform has been deprecated in v3.0.0. This feature will be removed in v6.0.0. See https://github.com/optuna/optuna/releases/tag/v3.0.0. Use suggest_float instead.\n",
      "  trial.suggest_uniform('changepoint_prior_scale',\n",
      "C:\\Users\\fuyuki\\AppData\\Local\\Temp\\ipykernel_53100\\465002941.py:7: FutureWarning: suggest_uniform has been deprecated in v3.0.0. This feature will be removed in v6.0.0. See https://github.com/optuna/optuna/releases/tag/v3.0.0. Use suggest_float instead.\n",
      "  trial.suggest_uniform('seasonality_prior_scale',\n",
      "C:\\Users\\fuyuki\\AppData\\Local\\Temp\\ipykernel_53100\\465002941.py:15: FutureWarning: suggest_discrete_uniform has been deprecated in v3.0.0. This feature will be removed in v6.0.0. See https://github.com/optuna/optuna/releases/tag/v3.0.0. Use suggest_float(..., step=...) instead.\n",
      "  trial.suggest_discrete_uniform('changepoint_range',\n",
      "04:19:52 - cmdstanpy - INFO - Chain [1] start processing\n",
      "04:19:52 - cmdstanpy - INFO - Chain [1] done processing\n",
      "[I 2023-12-11 04:19:52,399] Trial 3 finished with value: 3.35127420966871 and parameters: {'changepoint_prior_scale': 0.13873130180604165, 'seasonality_prior_scale': 0.6259782317101038, 'seasonality_mode': 'multiplicative', 'changepoint_range': 1.0}. Best is trial 3 with value: 3.35127420966871.\n",
      "C:\\Users\\fuyuki\\AppData\\Local\\Temp\\ipykernel_53100\\465002941.py:3: FutureWarning: suggest_uniform has been deprecated in v3.0.0. This feature will be removed in v6.0.0. See https://github.com/optuna/optuna/releases/tag/v3.0.0. Use suggest_float instead.\n",
      "  trial.suggest_uniform('changepoint_prior_scale',\n",
      "C:\\Users\\fuyuki\\AppData\\Local\\Temp\\ipykernel_53100\\465002941.py:7: FutureWarning: suggest_uniform has been deprecated in v3.0.0. This feature will be removed in v6.0.0. See https://github.com/optuna/optuna/releases/tag/v3.0.0. Use suggest_float instead.\n",
      "  trial.suggest_uniform('seasonality_prior_scale',\n",
      "C:\\Users\\fuyuki\\AppData\\Local\\Temp\\ipykernel_53100\\465002941.py:15: FutureWarning: suggest_discrete_uniform has been deprecated in v3.0.0. This feature will be removed in v6.0.0. See https://github.com/optuna/optuna/releases/tag/v3.0.0. Use suggest_float(..., step=...) instead.\n",
      "  trial.suggest_discrete_uniform('changepoint_range',\n",
      "04:19:52 - cmdstanpy - INFO - Chain [1] start processing\n",
      "04:19:52 - cmdstanpy - INFO - Chain [1] done processing\n",
      "[I 2023-12-11 04:19:52,973] Trial 4 finished with value: 4.2307282047472325 and parameters: {'changepoint_prior_scale': 0.30986096757625015, 'seasonality_prior_scale': 2.118003108337842, 'seasonality_mode': 'multiplicative', 'changepoint_range': 0.8}. Best is trial 3 with value: 3.35127420966871.\n"
     ]
    },
    {
     "name": "stdout",
     "output_type": "stream",
     "text": [
      "model initialized 0.10151386260986328\n"
     ]
    },
    {
     "name": "stderr",
     "output_type": "stream",
     "text": [
      "04:19:54 - cmdstanpy - INFO - Chain [1] start processing\n",
      "04:19:55 - cmdstanpy - INFO - Chain [1] done processing\n"
     ]
    },
    {
     "name": "stdout",
     "output_type": "stream",
     "text": [
      "predict 0.4421837329864502\n",
      "df read 0.0009996891021728516\n"
     ]
    },
    {
     "name": "stderr",
     "output_type": "stream",
     "text": [
      "C:\\Users\\fuyuki\\AppData\\Local\\Temp\\ipykernel_53100\\3653885342.py:14: SettingWithCopyWarning: \n",
      "A value is trying to be set on a copy of a slice from a DataFrame.\n",
      "Try using .loc[row_indexer,col_indexer] = value instead\n",
      "\n",
      "See the caveats in the documentation: https://pandas.pydata.org/pandas-docs/stable/user_guide/indexing.html#returning-a-view-versus-a-copy\n",
      "  df_train['y'] = train.loc[i,'d_1':].values\n",
      "[I 2023-12-11 04:19:56,699] A new study created in memory with name: no-name-bdd84f05-ff82-4f69-85e9-52c59c2d10ee\n"
     ]
    },
    {
     "name": "stdout",
     "output_type": "stream",
     "text": [
      "slice 0.5801577568054199\n"
     ]
    },
    {
     "name": "stderr",
     "output_type": "stream",
     "text": [
      "C:\\Users\\fuyuki\\AppData\\Local\\Temp\\ipykernel_53100\\465002941.py:3: FutureWarning: suggest_uniform has been deprecated in v3.0.0. This feature will be removed in v6.0.0. See https://github.com/optuna/optuna/releases/tag/v3.0.0. Use suggest_float instead.\n",
      "  trial.suggest_uniform('changepoint_prior_scale',\n",
      "C:\\Users\\fuyuki\\AppData\\Local\\Temp\\ipykernel_53100\\465002941.py:7: FutureWarning: suggest_uniform has been deprecated in v3.0.0. This feature will be removed in v6.0.0. See https://github.com/optuna/optuna/releases/tag/v3.0.0. Use suggest_float instead.\n",
      "  trial.suggest_uniform('seasonality_prior_scale',\n",
      "C:\\Users\\fuyuki\\AppData\\Local\\Temp\\ipykernel_53100\\465002941.py:15: FutureWarning: suggest_discrete_uniform has been deprecated in v3.0.0. This feature will be removed in v6.0.0. See https://github.com/optuna/optuna/releases/tag/v3.0.0. Use suggest_float(..., step=...) instead.\n",
      "  trial.suggest_discrete_uniform('changepoint_range',\n",
      "04:19:56 - cmdstanpy - INFO - Chain [1] start processing\n",
      "04:19:57 - cmdstanpy - INFO - Chain [1] done processing\n",
      "[I 2023-12-11 04:19:57,263] Trial 0 finished with value: 5.036076528670576 and parameters: {'changepoint_prior_scale': 0.3917021075351481, 'seasonality_prior_scale': 5.057229597220898, 'seasonality_mode': 'multiplicative', 'changepoint_range': 1.0}. Best is trial 0 with value: 5.036076528670576.\n",
      "C:\\Users\\fuyuki\\AppData\\Local\\Temp\\ipykernel_53100\\465002941.py:3: FutureWarning: suggest_uniform has been deprecated in v3.0.0. This feature will be removed in v6.0.0. See https://github.com/optuna/optuna/releases/tag/v3.0.0. Use suggest_float instead.\n",
      "  trial.suggest_uniform('changepoint_prior_scale',\n",
      "C:\\Users\\fuyuki\\AppData\\Local\\Temp\\ipykernel_53100\\465002941.py:7: FutureWarning: suggest_uniform has been deprecated in v3.0.0. This feature will be removed in v6.0.0. See https://github.com/optuna/optuna/releases/tag/v3.0.0. Use suggest_float instead.\n",
      "  trial.suggest_uniform('seasonality_prior_scale',\n",
      "C:\\Users\\fuyuki\\AppData\\Local\\Temp\\ipykernel_53100\\465002941.py:15: FutureWarning: suggest_discrete_uniform has been deprecated in v3.0.0. This feature will be removed in v6.0.0. See https://github.com/optuna/optuna/releases/tag/v3.0.0. Use suggest_float(..., step=...) instead.\n",
      "  trial.suggest_discrete_uniform('changepoint_range',\n",
      "04:19:57 - cmdstanpy - INFO - Chain [1] start processing\n",
      "04:19:57 - cmdstanpy - INFO - Chain [1] done processing\n",
      "[I 2023-12-11 04:19:57,803] Trial 1 finished with value: 3.4610749086833477 and parameters: {'changepoint_prior_scale': 0.3075304578139232, 'seasonality_prior_scale': 4.953502576554855, 'seasonality_mode': 'multiplicative', 'changepoint_range': 0.9}. Best is trial 1 with value: 3.4610749086833477.\n",
      "C:\\Users\\fuyuki\\AppData\\Local\\Temp\\ipykernel_53100\\465002941.py:3: FutureWarning: suggest_uniform has been deprecated in v3.0.0. This feature will be removed in v6.0.0. See https://github.com/optuna/optuna/releases/tag/v3.0.0. Use suggest_float instead.\n",
      "  trial.suggest_uniform('changepoint_prior_scale',\n",
      "C:\\Users\\fuyuki\\AppData\\Local\\Temp\\ipykernel_53100\\465002941.py:7: FutureWarning: suggest_uniform has been deprecated in v3.0.0. This feature will be removed in v6.0.0. See https://github.com/optuna/optuna/releases/tag/v3.0.0. Use suggest_float instead.\n",
      "  trial.suggest_uniform('seasonality_prior_scale',\n",
      "C:\\Users\\fuyuki\\AppData\\Local\\Temp\\ipykernel_53100\\465002941.py:15: FutureWarning: suggest_discrete_uniform has been deprecated in v3.0.0. This feature will be removed in v6.0.0. See https://github.com/optuna/optuna/releases/tag/v3.0.0. Use suggest_float(..., step=...) instead.\n",
      "  trial.suggest_discrete_uniform('changepoint_range',\n",
      "04:19:58 - cmdstanpy - INFO - Chain [1] start processing\n",
      "04:19:58 - cmdstanpy - INFO - Chain [1] done processing\n",
      "[I 2023-12-11 04:19:58,354] Trial 2 finished with value: 3.0145211745466303 and parameters: {'changepoint_prior_scale': 0.41995979087778224, 'seasonality_prior_scale': 8.48061977879593, 'seasonality_mode': 'additive', 'changepoint_range': 0.9}. Best is trial 2 with value: 3.0145211745466303.\n",
      "C:\\Users\\fuyuki\\AppData\\Local\\Temp\\ipykernel_53100\\465002941.py:3: FutureWarning: suggest_uniform has been deprecated in v3.0.0. This feature will be removed in v6.0.0. See https://github.com/optuna/optuna/releases/tag/v3.0.0. Use suggest_float instead.\n",
      "  trial.suggest_uniform('changepoint_prior_scale',\n",
      "C:\\Users\\fuyuki\\AppData\\Local\\Temp\\ipykernel_53100\\465002941.py:7: FutureWarning: suggest_uniform has been deprecated in v3.0.0. This feature will be removed in v6.0.0. See https://github.com/optuna/optuna/releases/tag/v3.0.0. Use suggest_float instead.\n",
      "  trial.suggest_uniform('seasonality_prior_scale',\n",
      "C:\\Users\\fuyuki\\AppData\\Local\\Temp\\ipykernel_53100\\465002941.py:15: FutureWarning: suggest_discrete_uniform has been deprecated in v3.0.0. This feature will be removed in v6.0.0. See https://github.com/optuna/optuna/releases/tag/v3.0.0. Use suggest_float(..., step=...) instead.\n",
      "  trial.suggest_discrete_uniform('changepoint_range',\n",
      "04:19:58 - cmdstanpy - INFO - Chain [1] start processing\n",
      "04:19:58 - cmdstanpy - INFO - Chain [1] done processing\n",
      "[I 2023-12-11 04:19:58,907] Trial 3 finished with value: 2.2952671266507654 and parameters: {'changepoint_prior_scale': 0.3208239914835714, 'seasonality_prior_scale': 1.5627568095453306, 'seasonality_mode': 'additive', 'changepoint_range': 0.9}. Best is trial 3 with value: 2.2952671266507654.\n",
      "C:\\Users\\fuyuki\\AppData\\Local\\Temp\\ipykernel_53100\\465002941.py:3: FutureWarning: suggest_uniform has been deprecated in v3.0.0. This feature will be removed in v6.0.0. See https://github.com/optuna/optuna/releases/tag/v3.0.0. Use suggest_float instead.\n",
      "  trial.suggest_uniform('changepoint_prior_scale',\n",
      "C:\\Users\\fuyuki\\AppData\\Local\\Temp\\ipykernel_53100\\465002941.py:7: FutureWarning: suggest_uniform has been deprecated in v3.0.0. This feature will be removed in v6.0.0. See https://github.com/optuna/optuna/releases/tag/v3.0.0. Use suggest_float instead.\n",
      "  trial.suggest_uniform('seasonality_prior_scale',\n",
      "C:\\Users\\fuyuki\\AppData\\Local\\Temp\\ipykernel_53100\\465002941.py:15: FutureWarning: suggest_discrete_uniform has been deprecated in v3.0.0. This feature will be removed in v6.0.0. See https://github.com/optuna/optuna/releases/tag/v3.0.0. Use suggest_float(..., step=...) instead.\n",
      "  trial.suggest_discrete_uniform('changepoint_range',\n",
      "04:19:59 - cmdstanpy - INFO - Chain [1] start processing\n",
      "04:19:59 - cmdstanpy - INFO - Chain [1] done processing\n",
      "[I 2023-12-11 04:19:59,455] Trial 4 finished with value: 1.9725084570593376 and parameters: {'changepoint_prior_scale': 0.20984066153724412, 'seasonality_prior_scale': 1.7235900524661705, 'seasonality_mode': 'multiplicative', 'changepoint_range': 0.9}. Best is trial 4 with value: 1.9725084570593376.\n"
     ]
    },
    {
     "name": "stdout",
     "output_type": "stream",
     "text": [
      "model initialized 0.09852433204650879\n"
     ]
    },
    {
     "name": "stderr",
     "output_type": "stream",
     "text": [
      "04:20:01 - cmdstanpy - INFO - Chain [1] start processing\n",
      "04:20:01 - cmdstanpy - INFO - Chain [1] done processing\n"
     ]
    },
    {
     "name": "stdout",
     "output_type": "stream",
     "text": [
      "predict 0.45703744888305664\n",
      "df read 0.0010046958923339844\n"
     ]
    },
    {
     "name": "stderr",
     "output_type": "stream",
     "text": [
      "C:\\Users\\fuyuki\\AppData\\Local\\Temp\\ipykernel_53100\\3653885342.py:14: SettingWithCopyWarning: \n",
      "A value is trying to be set on a copy of a slice from a DataFrame.\n",
      "Try using .loc[row_indexer,col_indexer] = value instead\n",
      "\n",
      "See the caveats in the documentation: https://pandas.pydata.org/pandas-docs/stable/user_guide/indexing.html#returning-a-view-versus-a-copy\n",
      "  df_train['y'] = train.loc[i,'d_1':].values\n",
      "[I 2023-12-11 04:20:03,081] A new study created in memory with name: no-name-7383da97-9409-4956-9b9e-0e585588bc68\n"
     ]
    },
    {
     "name": "stdout",
     "output_type": "stream",
     "text": [
      "slice 0.5968778133392334\n"
     ]
    },
    {
     "name": "stderr",
     "output_type": "stream",
     "text": [
      "C:\\Users\\fuyuki\\AppData\\Local\\Temp\\ipykernel_53100\\465002941.py:3: FutureWarning: suggest_uniform has been deprecated in v3.0.0. This feature will be removed in v6.0.0. See https://github.com/optuna/optuna/releases/tag/v3.0.0. Use suggest_float instead.\n",
      "  trial.suggest_uniform('changepoint_prior_scale',\n",
      "C:\\Users\\fuyuki\\AppData\\Local\\Temp\\ipykernel_53100\\465002941.py:7: FutureWarning: suggest_uniform has been deprecated in v3.0.0. This feature will be removed in v6.0.0. See https://github.com/optuna/optuna/releases/tag/v3.0.0. Use suggest_float instead.\n",
      "  trial.suggest_uniform('seasonality_prior_scale',\n",
      "C:\\Users\\fuyuki\\AppData\\Local\\Temp\\ipykernel_53100\\465002941.py:15: FutureWarning: suggest_discrete_uniform has been deprecated in v3.0.0. This feature will be removed in v6.0.0. See https://github.com/optuna/optuna/releases/tag/v3.0.0. Use suggest_float(..., step=...) instead.\n",
      "  trial.suggest_discrete_uniform('changepoint_range',\n",
      "04:20:03 - cmdstanpy - INFO - Chain [1] start processing\n",
      "04:20:03 - cmdstanpy - INFO - Chain [1] done processing\n",
      "[I 2023-12-11 04:20:03,641] Trial 0 finished with value: 2.9055074268428456 and parameters: {'changepoint_prior_scale': 0.49754440745247397, 'seasonality_prior_scale': 8.451500742511104, 'seasonality_mode': 'multiplicative', 'changepoint_range': 1.0}. Best is trial 0 with value: 2.9055074268428456.\n",
      "C:\\Users\\fuyuki\\AppData\\Local\\Temp\\ipykernel_53100\\465002941.py:3: FutureWarning: suggest_uniform has been deprecated in v3.0.0. This feature will be removed in v6.0.0. See https://github.com/optuna/optuna/releases/tag/v3.0.0. Use suggest_float instead.\n",
      "  trial.suggest_uniform('changepoint_prior_scale',\n",
      "C:\\Users\\fuyuki\\AppData\\Local\\Temp\\ipykernel_53100\\465002941.py:7: FutureWarning: suggest_uniform has been deprecated in v3.0.0. This feature will be removed in v6.0.0. See https://github.com/optuna/optuna/releases/tag/v3.0.0. Use suggest_float instead.\n",
      "  trial.suggest_uniform('seasonality_prior_scale',\n",
      "C:\\Users\\fuyuki\\AppData\\Local\\Temp\\ipykernel_53100\\465002941.py:15: FutureWarning: suggest_discrete_uniform has been deprecated in v3.0.0. This feature will be removed in v6.0.0. See https://github.com/optuna/optuna/releases/tag/v3.0.0. Use suggest_float(..., step=...) instead.\n",
      "  trial.suggest_discrete_uniform('changepoint_range',\n",
      "04:20:03 - cmdstanpy - INFO - Chain [1] start processing\n",
      "04:20:03 - cmdstanpy - INFO - Chain [1] done processing\n",
      "[I 2023-12-11 04:20:04,186] Trial 1 finished with value: 2.0195283649360065 and parameters: {'changepoint_prior_scale': 0.2607711171956887, 'seasonality_prior_scale': 5.151686625899286, 'seasonality_mode': 'multiplicative', 'changepoint_range': 0.8}. Best is trial 1 with value: 2.0195283649360065.\n",
      "C:\\Users\\fuyuki\\AppData\\Local\\Temp\\ipykernel_53100\\465002941.py:3: FutureWarning: suggest_uniform has been deprecated in v3.0.0. This feature will be removed in v6.0.0. See https://github.com/optuna/optuna/releases/tag/v3.0.0. Use suggest_float instead.\n",
      "  trial.suggest_uniform('changepoint_prior_scale',\n",
      "C:\\Users\\fuyuki\\AppData\\Local\\Temp\\ipykernel_53100\\465002941.py:7: FutureWarning: suggest_uniform has been deprecated in v3.0.0. This feature will be removed in v6.0.0. See https://github.com/optuna/optuna/releases/tag/v3.0.0. Use suggest_float instead.\n",
      "  trial.suggest_uniform('seasonality_prior_scale',\n",
      "C:\\Users\\fuyuki\\AppData\\Local\\Temp\\ipykernel_53100\\465002941.py:15: FutureWarning: suggest_discrete_uniform has been deprecated in v3.0.0. This feature will be removed in v6.0.0. See https://github.com/optuna/optuna/releases/tag/v3.0.0. Use suggest_float(..., step=...) instead.\n",
      "  trial.suggest_discrete_uniform('changepoint_range',\n",
      "04:20:04 - cmdstanpy - INFO - Chain [1] start processing\n",
      "04:20:04 - cmdstanpy - INFO - Chain [1] done processing\n",
      "[I 2023-12-11 04:20:04,769] Trial 2 finished with value: 2.4486317790625773 and parameters: {'changepoint_prior_scale': 0.35839447796050317, 'seasonality_prior_scale': 3.5104570256404477, 'seasonality_mode': 'multiplicative', 'changepoint_range': 0.9}. Best is trial 1 with value: 2.0195283649360065.\n",
      "C:\\Users\\fuyuki\\AppData\\Local\\Temp\\ipykernel_53100\\465002941.py:3: FutureWarning: suggest_uniform has been deprecated in v3.0.0. This feature will be removed in v6.0.0. See https://github.com/optuna/optuna/releases/tag/v3.0.0. Use suggest_float instead.\n",
      "  trial.suggest_uniform('changepoint_prior_scale',\n",
      "C:\\Users\\fuyuki\\AppData\\Local\\Temp\\ipykernel_53100\\465002941.py:7: FutureWarning: suggest_uniform has been deprecated in v3.0.0. This feature will be removed in v6.0.0. See https://github.com/optuna/optuna/releases/tag/v3.0.0. Use suggest_float instead.\n",
      "  trial.suggest_uniform('seasonality_prior_scale',\n",
      "C:\\Users\\fuyuki\\AppData\\Local\\Temp\\ipykernel_53100\\465002941.py:15: FutureWarning: suggest_discrete_uniform has been deprecated in v3.0.0. This feature will be removed in v6.0.0. See https://github.com/optuna/optuna/releases/tag/v3.0.0. Use suggest_float(..., step=...) instead.\n",
      "  trial.suggest_discrete_uniform('changepoint_range',\n",
      "04:20:05 - cmdstanpy - INFO - Chain [1] start processing\n",
      "04:20:05 - cmdstanpy - INFO - Chain [1] done processing\n",
      "[I 2023-12-11 04:20:05,332] Trial 3 finished with value: 1.9671709130026878 and parameters: {'changepoint_prior_scale': 0.29919296218341246, 'seasonality_prior_scale': 4.6470472499099635, 'seasonality_mode': 'additive', 'changepoint_range': 0.9}. Best is trial 3 with value: 1.9671709130026878.\n",
      "C:\\Users\\fuyuki\\AppData\\Local\\Temp\\ipykernel_53100\\465002941.py:3: FutureWarning: suggest_uniform has been deprecated in v3.0.0. This feature will be removed in v6.0.0. See https://github.com/optuna/optuna/releases/tag/v3.0.0. Use suggest_float instead.\n",
      "  trial.suggest_uniform('changepoint_prior_scale',\n",
      "C:\\Users\\fuyuki\\AppData\\Local\\Temp\\ipykernel_53100\\465002941.py:7: FutureWarning: suggest_uniform has been deprecated in v3.0.0. This feature will be removed in v6.0.0. See https://github.com/optuna/optuna/releases/tag/v3.0.0. Use suggest_float instead.\n",
      "  trial.suggest_uniform('seasonality_prior_scale',\n",
      "C:\\Users\\fuyuki\\AppData\\Local\\Temp\\ipykernel_53100\\465002941.py:15: FutureWarning: suggest_discrete_uniform has been deprecated in v3.0.0. This feature will be removed in v6.0.0. See https://github.com/optuna/optuna/releases/tag/v3.0.0. Use suggest_float(..., step=...) instead.\n",
      "  trial.suggest_discrete_uniform('changepoint_range',\n",
      "04:20:05 - cmdstanpy - INFO - Chain [1] start processing\n",
      "04:20:05 - cmdstanpy - INFO - Chain [1] done processing\n",
      "[I 2023-12-11 04:20:05,889] Trial 4 finished with value: 2.315930570526382 and parameters: {'changepoint_prior_scale': 0.36923880320168867, 'seasonality_prior_scale': 9.852463940864777, 'seasonality_mode': 'multiplicative', 'changepoint_range': 0.9}. Best is trial 3 with value: 1.9671709130026878.\n"
     ]
    },
    {
     "name": "stdout",
     "output_type": "stream",
     "text": [
      "model initialized 0.10214447975158691\n"
     ]
    },
    {
     "name": "stderr",
     "output_type": "stream",
     "text": [
      "04:20:07 - cmdstanpy - INFO - Chain [1] start processing\n",
      "04:20:07 - cmdstanpy - INFO - Chain [1] done processing\n"
     ]
    },
    {
     "name": "stdout",
     "output_type": "stream",
     "text": [
      "predict 0.4548521041870117\n",
      "df read 0.0009996891021728516\n"
     ]
    },
    {
     "name": "stderr",
     "output_type": "stream",
     "text": [
      "C:\\Users\\fuyuki\\AppData\\Local\\Temp\\ipykernel_53100\\3653885342.py:14: SettingWithCopyWarning: \n",
      "A value is trying to be set on a copy of a slice from a DataFrame.\n",
      "Try using .loc[row_indexer,col_indexer] = value instead\n",
      "\n",
      "See the caveats in the documentation: https://pandas.pydata.org/pandas-docs/stable/user_guide/indexing.html#returning-a-view-versus-a-copy\n",
      "  df_train['y'] = train.loc[i,'d_1':].values\n",
      "[I 2023-12-11 04:20:09,590] A new study created in memory with name: no-name-d82ebe5f-87a2-4139-b996-40a279521dc8\n"
     ]
    },
    {
     "name": "stdout",
     "output_type": "stream",
     "text": [
      "slice 0.5916931629180908\n"
     ]
    },
    {
     "name": "stderr",
     "output_type": "stream",
     "text": [
      "C:\\Users\\fuyuki\\AppData\\Local\\Temp\\ipykernel_53100\\465002941.py:3: FutureWarning: suggest_uniform has been deprecated in v3.0.0. This feature will be removed in v6.0.0. See https://github.com/optuna/optuna/releases/tag/v3.0.0. Use suggest_float instead.\n",
      "  trial.suggest_uniform('changepoint_prior_scale',\n",
      "C:\\Users\\fuyuki\\AppData\\Local\\Temp\\ipykernel_53100\\465002941.py:7: FutureWarning: suggest_uniform has been deprecated in v3.0.0. This feature will be removed in v6.0.0. See https://github.com/optuna/optuna/releases/tag/v3.0.0. Use suggest_float instead.\n",
      "  trial.suggest_uniform('seasonality_prior_scale',\n",
      "C:\\Users\\fuyuki\\AppData\\Local\\Temp\\ipykernel_53100\\465002941.py:15: FutureWarning: suggest_discrete_uniform has been deprecated in v3.0.0. This feature will be removed in v6.0.0. See https://github.com/optuna/optuna/releases/tag/v3.0.0. Use suggest_float(..., step=...) instead.\n",
      "  trial.suggest_discrete_uniform('changepoint_range',\n",
      "04:20:09 - cmdstanpy - INFO - Chain [1] start processing\n",
      "04:20:09 - cmdstanpy - INFO - Chain [1] done processing\n",
      "[I 2023-12-11 04:20:10,135] Trial 0 finished with value: 2.469598185876101 and parameters: {'changepoint_prior_scale': 0.4834276554542877, 'seasonality_prior_scale': 2.0035606265498394, 'seasonality_mode': 'additive', 'changepoint_range': 1.0}. Best is trial 0 with value: 2.469598185876101.\n",
      "C:\\Users\\fuyuki\\AppData\\Local\\Temp\\ipykernel_53100\\465002941.py:3: FutureWarning: suggest_uniform has been deprecated in v3.0.0. This feature will be removed in v6.0.0. See https://github.com/optuna/optuna/releases/tag/v3.0.0. Use suggest_float instead.\n",
      "  trial.suggest_uniform('changepoint_prior_scale',\n",
      "C:\\Users\\fuyuki\\AppData\\Local\\Temp\\ipykernel_53100\\465002941.py:7: FutureWarning: suggest_uniform has been deprecated in v3.0.0. This feature will be removed in v6.0.0. See https://github.com/optuna/optuna/releases/tag/v3.0.0. Use suggest_float instead.\n",
      "  trial.suggest_uniform('seasonality_prior_scale',\n",
      "C:\\Users\\fuyuki\\AppData\\Local\\Temp\\ipykernel_53100\\465002941.py:15: FutureWarning: suggest_discrete_uniform has been deprecated in v3.0.0. This feature will be removed in v6.0.0. See https://github.com/optuna/optuna/releases/tag/v3.0.0. Use suggest_float(..., step=...) instead.\n",
      "  trial.suggest_discrete_uniform('changepoint_range',\n",
      "04:20:10 - cmdstanpy - INFO - Chain [1] start processing\n",
      "04:20:10 - cmdstanpy - INFO - Chain [1] done processing\n",
      "[I 2023-12-11 04:20:10,687] Trial 1 finished with value: 2.0203733878827 and parameters: {'changepoint_prior_scale': 0.29502725598352886, 'seasonality_prior_scale': 8.031773908423038, 'seasonality_mode': 'additive', 'changepoint_range': 0.8}. Best is trial 1 with value: 2.0203733878827.\n",
      "C:\\Users\\fuyuki\\AppData\\Local\\Temp\\ipykernel_53100\\465002941.py:3: FutureWarning: suggest_uniform has been deprecated in v3.0.0. This feature will be removed in v6.0.0. See https://github.com/optuna/optuna/releases/tag/v3.0.0. Use suggest_float instead.\n",
      "  trial.suggest_uniform('changepoint_prior_scale',\n",
      "C:\\Users\\fuyuki\\AppData\\Local\\Temp\\ipykernel_53100\\465002941.py:7: FutureWarning: suggest_uniform has been deprecated in v3.0.0. This feature will be removed in v6.0.0. See https://github.com/optuna/optuna/releases/tag/v3.0.0. Use suggest_float instead.\n",
      "  trial.suggest_uniform('seasonality_prior_scale',\n",
      "C:\\Users\\fuyuki\\AppData\\Local\\Temp\\ipykernel_53100\\465002941.py:15: FutureWarning: suggest_discrete_uniform has been deprecated in v3.0.0. This feature will be removed in v6.0.0. See https://github.com/optuna/optuna/releases/tag/v3.0.0. Use suggest_float(..., step=...) instead.\n",
      "  trial.suggest_discrete_uniform('changepoint_range',\n",
      "04:20:10 - cmdstanpy - INFO - Chain [1] start processing\n",
      "04:20:10 - cmdstanpy - INFO - Chain [1] done processing\n",
      "[I 2023-12-11 04:20:11,227] Trial 2 finished with value: 2.5555780687550307 and parameters: {'changepoint_prior_scale': 0.4969871194588509, 'seasonality_prior_scale': 5.256763917017254, 'seasonality_mode': 'additive', 'changepoint_range': 0.9}. Best is trial 1 with value: 2.0203733878827.\n",
      "C:\\Users\\fuyuki\\AppData\\Local\\Temp\\ipykernel_53100\\465002941.py:3: FutureWarning: suggest_uniform has been deprecated in v3.0.0. This feature will be removed in v6.0.0. See https://github.com/optuna/optuna/releases/tag/v3.0.0. Use suggest_float instead.\n",
      "  trial.suggest_uniform('changepoint_prior_scale',\n",
      "C:\\Users\\fuyuki\\AppData\\Local\\Temp\\ipykernel_53100\\465002941.py:7: FutureWarning: suggest_uniform has been deprecated in v3.0.0. This feature will be removed in v6.0.0. See https://github.com/optuna/optuna/releases/tag/v3.0.0. Use suggest_float instead.\n",
      "  trial.suggest_uniform('seasonality_prior_scale',\n",
      "C:\\Users\\fuyuki\\AppData\\Local\\Temp\\ipykernel_53100\\465002941.py:15: FutureWarning: suggest_discrete_uniform has been deprecated in v3.0.0. This feature will be removed in v6.0.0. See https://github.com/optuna/optuna/releases/tag/v3.0.0. Use suggest_float(..., step=...) instead.\n",
      "  trial.suggest_discrete_uniform('changepoint_range',\n",
      "04:20:11 - cmdstanpy - INFO - Chain [1] start processing\n",
      "04:20:11 - cmdstanpy - INFO - Chain [1] done processing\n",
      "[I 2023-12-11 04:20:11,787] Trial 3 finished with value: 1.6819657268346555 and parameters: {'changepoint_prior_scale': 0.23304626480465404, 'seasonality_prior_scale': 9.095145388339443, 'seasonality_mode': 'additive', 'changepoint_range': 1.0}. Best is trial 3 with value: 1.6819657268346555.\n",
      "C:\\Users\\fuyuki\\AppData\\Local\\Temp\\ipykernel_53100\\465002941.py:3: FutureWarning: suggest_uniform has been deprecated in v3.0.0. This feature will be removed in v6.0.0. See https://github.com/optuna/optuna/releases/tag/v3.0.0. Use suggest_float instead.\n",
      "  trial.suggest_uniform('changepoint_prior_scale',\n",
      "C:\\Users\\fuyuki\\AppData\\Local\\Temp\\ipykernel_53100\\465002941.py:7: FutureWarning: suggest_uniform has been deprecated in v3.0.0. This feature will be removed in v6.0.0. See https://github.com/optuna/optuna/releases/tag/v3.0.0. Use suggest_float instead.\n",
      "  trial.suggest_uniform('seasonality_prior_scale',\n",
      "C:\\Users\\fuyuki\\AppData\\Local\\Temp\\ipykernel_53100\\465002941.py:15: FutureWarning: suggest_discrete_uniform has been deprecated in v3.0.0. This feature will be removed in v6.0.0. See https://github.com/optuna/optuna/releases/tag/v3.0.0. Use suggest_float(..., step=...) instead.\n",
      "  trial.suggest_discrete_uniform('changepoint_range',\n",
      "04:20:12 - cmdstanpy - INFO - Chain [1] start processing\n",
      "04:20:12 - cmdstanpy - INFO - Chain [1] done processing\n",
      "[I 2023-12-11 04:20:12,361] Trial 4 finished with value: 3.8487320246642454 and parameters: {'changepoint_prior_scale': 0.3385783645951291, 'seasonality_prior_scale': 2.1273743050799756, 'seasonality_mode': 'multiplicative', 'changepoint_range': 1.0}. Best is trial 3 with value: 1.6819657268346555.\n"
     ]
    },
    {
     "name": "stdout",
     "output_type": "stream",
     "text": [
      "model initialized 0.11551952362060547\n"
     ]
    },
    {
     "name": "stderr",
     "output_type": "stream",
     "text": [
      "04:20:14 - cmdstanpy - INFO - Chain [1] start processing\n",
      "04:20:14 - cmdstanpy - INFO - Chain [1] done processing\n"
     ]
    },
    {
     "name": "stdout",
     "output_type": "stream",
     "text": [
      "predict 0.46935105323791504\n",
      "df read 0.0009999275207519531\n"
     ]
    },
    {
     "name": "stderr",
     "output_type": "stream",
     "text": [
      "C:\\Users\\fuyuki\\AppData\\Local\\Temp\\ipykernel_53100\\3653885342.py:14: SettingWithCopyWarning: \n",
      "A value is trying to be set on a copy of a slice from a DataFrame.\n",
      "Try using .loc[row_indexer,col_indexer] = value instead\n",
      "\n",
      "See the caveats in the documentation: https://pandas.pydata.org/pandas-docs/stable/user_guide/indexing.html#returning-a-view-versus-a-copy\n",
      "  df_train['y'] = train.loc[i,'d_1':].values\n",
      "[I 2023-12-11 04:20:16,169] A new study created in memory with name: no-name-a0c82662-c958-4561-bb33-992174102808\n"
     ]
    },
    {
     "name": "stdout",
     "output_type": "stream",
     "text": [
      "slice 0.6193068027496338\n"
     ]
    },
    {
     "name": "stderr",
     "output_type": "stream",
     "text": [
      "C:\\Users\\fuyuki\\AppData\\Local\\Temp\\ipykernel_53100\\465002941.py:3: FutureWarning: suggest_uniform has been deprecated in v3.0.0. This feature will be removed in v6.0.0. See https://github.com/optuna/optuna/releases/tag/v3.0.0. Use suggest_float instead.\n",
      "  trial.suggest_uniform('changepoint_prior_scale',\n",
      "C:\\Users\\fuyuki\\AppData\\Local\\Temp\\ipykernel_53100\\465002941.py:7: FutureWarning: suggest_uniform has been deprecated in v3.0.0. This feature will be removed in v6.0.0. See https://github.com/optuna/optuna/releases/tag/v3.0.0. Use suggest_float instead.\n",
      "  trial.suggest_uniform('seasonality_prior_scale',\n",
      "C:\\Users\\fuyuki\\AppData\\Local\\Temp\\ipykernel_53100\\465002941.py:15: FutureWarning: suggest_discrete_uniform has been deprecated in v3.0.0. This feature will be removed in v6.0.0. See https://github.com/optuna/optuna/releases/tag/v3.0.0. Use suggest_float(..., step=...) instead.\n",
      "  trial.suggest_discrete_uniform('changepoint_range',\n",
      "04:20:16 - cmdstanpy - INFO - Chain [1] start processing\n",
      "04:20:16 - cmdstanpy - INFO - Chain [1] done processing\n",
      "[I 2023-12-11 04:20:16,746] Trial 0 finished with value: 0.7616686297994514 and parameters: {'changepoint_prior_scale': 0.2912686880810915, 'seasonality_prior_scale': 1.2323489319950185, 'seasonality_mode': 'multiplicative', 'changepoint_range': 0.9}. Best is trial 0 with value: 0.7616686297994514.\n",
      "C:\\Users\\fuyuki\\AppData\\Local\\Temp\\ipykernel_53100\\465002941.py:3: FutureWarning: suggest_uniform has been deprecated in v3.0.0. This feature will be removed in v6.0.0. See https://github.com/optuna/optuna/releases/tag/v3.0.0. Use suggest_float instead.\n",
      "  trial.suggest_uniform('changepoint_prior_scale',\n",
      "C:\\Users\\fuyuki\\AppData\\Local\\Temp\\ipykernel_53100\\465002941.py:7: FutureWarning: suggest_uniform has been deprecated in v3.0.0. This feature will be removed in v6.0.0. See https://github.com/optuna/optuna/releases/tag/v3.0.0. Use suggest_float instead.\n",
      "  trial.suggest_uniform('seasonality_prior_scale',\n",
      "C:\\Users\\fuyuki\\AppData\\Local\\Temp\\ipykernel_53100\\465002941.py:15: FutureWarning: suggest_discrete_uniform has been deprecated in v3.0.0. This feature will be removed in v6.0.0. See https://github.com/optuna/optuna/releases/tag/v3.0.0. Use suggest_float(..., step=...) instead.\n",
      "  trial.suggest_discrete_uniform('changepoint_range',\n",
      "04:20:17 - cmdstanpy - INFO - Chain [1] start processing\n",
      "04:20:17 - cmdstanpy - INFO - Chain [1] done processing\n",
      "[I 2023-12-11 04:20:17,327] Trial 1 finished with value: 0.7446043958134108 and parameters: {'changepoint_prior_scale': 0.4658162337562769, 'seasonality_prior_scale': 8.478965489317174, 'seasonality_mode': 'multiplicative', 'changepoint_range': 1.0}. Best is trial 1 with value: 0.7446043958134108.\n",
      "C:\\Users\\fuyuki\\AppData\\Local\\Temp\\ipykernel_53100\\465002941.py:3: FutureWarning: suggest_uniform has been deprecated in v3.0.0. This feature will be removed in v6.0.0. See https://github.com/optuna/optuna/releases/tag/v3.0.0. Use suggest_float instead.\n",
      "  trial.suggest_uniform('changepoint_prior_scale',\n",
      "C:\\Users\\fuyuki\\AppData\\Local\\Temp\\ipykernel_53100\\465002941.py:7: FutureWarning: suggest_uniform has been deprecated in v3.0.0. This feature will be removed in v6.0.0. See https://github.com/optuna/optuna/releases/tag/v3.0.0. Use suggest_float instead.\n",
      "  trial.suggest_uniform('seasonality_prior_scale',\n",
      "C:\\Users\\fuyuki\\AppData\\Local\\Temp\\ipykernel_53100\\465002941.py:15: FutureWarning: suggest_discrete_uniform has been deprecated in v3.0.0. This feature will be removed in v6.0.0. See https://github.com/optuna/optuna/releases/tag/v3.0.0. Use suggest_float(..., step=...) instead.\n",
      "  trial.suggest_discrete_uniform('changepoint_range',\n",
      "04:20:17 - cmdstanpy - INFO - Chain [1] start processing\n",
      "04:20:17 - cmdstanpy - INFO - Chain [1] done processing\n",
      "[I 2023-12-11 04:20:17,892] Trial 2 finished with value: 0.5967306974606621 and parameters: {'changepoint_prior_scale': 0.12738358803810967, 'seasonality_prior_scale': 4.004039673277878, 'seasonality_mode': 'additive', 'changepoint_range': 0.8}. Best is trial 2 with value: 0.5967306974606621.\n",
      "C:\\Users\\fuyuki\\AppData\\Local\\Temp\\ipykernel_53100\\465002941.py:3: FutureWarning: suggest_uniform has been deprecated in v3.0.0. This feature will be removed in v6.0.0. See https://github.com/optuna/optuna/releases/tag/v3.0.0. Use suggest_float instead.\n",
      "  trial.suggest_uniform('changepoint_prior_scale',\n",
      "C:\\Users\\fuyuki\\AppData\\Local\\Temp\\ipykernel_53100\\465002941.py:7: FutureWarning: suggest_uniform has been deprecated in v3.0.0. This feature will be removed in v6.0.0. See https://github.com/optuna/optuna/releases/tag/v3.0.0. Use suggest_float instead.\n",
      "  trial.suggest_uniform('seasonality_prior_scale',\n",
      "C:\\Users\\fuyuki\\AppData\\Local\\Temp\\ipykernel_53100\\465002941.py:15: FutureWarning: suggest_discrete_uniform has been deprecated in v3.0.0. This feature will be removed in v6.0.0. See https://github.com/optuna/optuna/releases/tag/v3.0.0. Use suggest_float(..., step=...) instead.\n",
      "  trial.suggest_discrete_uniform('changepoint_range',\n",
      "04:20:18 - cmdstanpy - INFO - Chain [1] start processing\n",
      "04:20:18 - cmdstanpy - INFO - Chain [1] done processing\n",
      "[I 2023-12-11 04:20:18,448] Trial 3 finished with value: 0.6016786001737778 and parameters: {'changepoint_prior_scale': 0.13195869492218773, 'seasonality_prior_scale': 5.917492599455841, 'seasonality_mode': 'additive', 'changepoint_range': 0.8}. Best is trial 2 with value: 0.5967306974606621.\n",
      "C:\\Users\\fuyuki\\AppData\\Local\\Temp\\ipykernel_53100\\465002941.py:3: FutureWarning: suggest_uniform has been deprecated in v3.0.0. This feature will be removed in v6.0.0. See https://github.com/optuna/optuna/releases/tag/v3.0.0. Use suggest_float instead.\n",
      "  trial.suggest_uniform('changepoint_prior_scale',\n",
      "C:\\Users\\fuyuki\\AppData\\Local\\Temp\\ipykernel_53100\\465002941.py:7: FutureWarning: suggest_uniform has been deprecated in v3.0.0. This feature will be removed in v6.0.0. See https://github.com/optuna/optuna/releases/tag/v3.0.0. Use suggest_float instead.\n",
      "  trial.suggest_uniform('seasonality_prior_scale',\n",
      "C:\\Users\\fuyuki\\AppData\\Local\\Temp\\ipykernel_53100\\465002941.py:15: FutureWarning: suggest_discrete_uniform has been deprecated in v3.0.0. This feature will be removed in v6.0.0. See https://github.com/optuna/optuna/releases/tag/v3.0.0. Use suggest_float(..., step=...) instead.\n",
      "  trial.suggest_discrete_uniform('changepoint_range',\n",
      "04:20:18 - cmdstanpy - INFO - Chain [1] start processing\n",
      "04:20:18 - cmdstanpy - INFO - Chain [1] done processing\n",
      "[I 2023-12-11 04:20:19,009] Trial 4 finished with value: 0.5964514892371567 and parameters: {'changepoint_prior_scale': 0.1084341767119828, 'seasonality_prior_scale': 3.452526926169219, 'seasonality_mode': 'additive', 'changepoint_range': 0.9}. Best is trial 4 with value: 0.5964514892371567.\n"
     ]
    },
    {
     "name": "stdout",
     "output_type": "stream",
     "text": [
      "model initialized 0.09951591491699219\n"
     ]
    },
    {
     "name": "stderr",
     "output_type": "stream",
     "text": [
      "04:20:20 - cmdstanpy - INFO - Chain [1] start processing\n",
      "04:20:20 - cmdstanpy - INFO - Chain [1] done processing\n"
     ]
    },
    {
     "name": "stdout",
     "output_type": "stream",
     "text": [
      "predict 0.44606637954711914\n",
      "df read 0.00099945068359375\n"
     ]
    },
    {
     "name": "stderr",
     "output_type": "stream",
     "text": [
      "C:\\Users\\fuyuki\\AppData\\Local\\Temp\\ipykernel_53100\\3653885342.py:14: SettingWithCopyWarning: \n",
      "A value is trying to be set on a copy of a slice from a DataFrame.\n",
      "Try using .loc[row_indexer,col_indexer] = value instead\n",
      "\n",
      "See the caveats in the documentation: https://pandas.pydata.org/pandas-docs/stable/user_guide/indexing.html#returning-a-view-versus-a-copy\n",
      "  df_train['y'] = train.loc[i,'d_1':].values\n",
      "[I 2023-12-11 04:20:22,612] A new study created in memory with name: no-name-cd5eab6f-06b1-46b3-81eb-c03c1af905ce\n"
     ]
    },
    {
     "name": "stdout",
     "output_type": "stream",
     "text": [
      "slice 0.6202280521392822\n"
     ]
    },
    {
     "name": "stderr",
     "output_type": "stream",
     "text": [
      "C:\\Users\\fuyuki\\AppData\\Local\\Temp\\ipykernel_53100\\465002941.py:3: FutureWarning: suggest_uniform has been deprecated in v3.0.0. This feature will be removed in v6.0.0. See https://github.com/optuna/optuna/releases/tag/v3.0.0. Use suggest_float instead.\n",
      "  trial.suggest_uniform('changepoint_prior_scale',\n",
      "C:\\Users\\fuyuki\\AppData\\Local\\Temp\\ipykernel_53100\\465002941.py:7: FutureWarning: suggest_uniform has been deprecated in v3.0.0. This feature will be removed in v6.0.0. See https://github.com/optuna/optuna/releases/tag/v3.0.0. Use suggest_float instead.\n",
      "  trial.suggest_uniform('seasonality_prior_scale',\n",
      "C:\\Users\\fuyuki\\AppData\\Local\\Temp\\ipykernel_53100\\465002941.py:15: FutureWarning: suggest_discrete_uniform has been deprecated in v3.0.0. This feature will be removed in v6.0.0. See https://github.com/optuna/optuna/releases/tag/v3.0.0. Use suggest_float(..., step=...) instead.\n",
      "  trial.suggest_discrete_uniform('changepoint_range',\n",
      "04:20:22 - cmdstanpy - INFO - Chain [1] start processing\n",
      "04:20:23 - cmdstanpy - INFO - Chain [1] done processing\n",
      "[I 2023-12-11 04:20:23,259] Trial 0 finished with value: 11.996071127969126 and parameters: {'changepoint_prior_scale': 0.35462589791982346, 'seasonality_prior_scale': 2.059809404639545, 'seasonality_mode': 'multiplicative', 'changepoint_range': 0.8}. Best is trial 0 with value: 11.996071127969126.\n",
      "C:\\Users\\fuyuki\\AppData\\Local\\Temp\\ipykernel_53100\\465002941.py:3: FutureWarning: suggest_uniform has been deprecated in v3.0.0. This feature will be removed in v6.0.0. See https://github.com/optuna/optuna/releases/tag/v3.0.0. Use suggest_float instead.\n",
      "  trial.suggest_uniform('changepoint_prior_scale',\n",
      "C:\\Users\\fuyuki\\AppData\\Local\\Temp\\ipykernel_53100\\465002941.py:7: FutureWarning: suggest_uniform has been deprecated in v3.0.0. This feature will be removed in v6.0.0. See https://github.com/optuna/optuna/releases/tag/v3.0.0. Use suggest_float instead.\n",
      "  trial.suggest_uniform('seasonality_prior_scale',\n",
      "C:\\Users\\fuyuki\\AppData\\Local\\Temp\\ipykernel_53100\\465002941.py:15: FutureWarning: suggest_discrete_uniform has been deprecated in v3.0.0. This feature will be removed in v6.0.0. See https://github.com/optuna/optuna/releases/tag/v3.0.0. Use suggest_float(..., step=...) instead.\n",
      "  trial.suggest_discrete_uniform('changepoint_range',\n",
      "04:20:23 - cmdstanpy - INFO - Chain [1] start processing\n",
      "04:20:23 - cmdstanpy - INFO - Chain [1] done processing\n",
      "[I 2023-12-11 04:20:23,849] Trial 1 finished with value: 11.125386285257372 and parameters: {'changepoint_prior_scale': 0.2334445127311513, 'seasonality_prior_scale': 3.5830704283171486, 'seasonality_mode': 'additive', 'changepoint_range': 0.9}. Best is trial 1 with value: 11.125386285257372.\n",
      "C:\\Users\\fuyuki\\AppData\\Local\\Temp\\ipykernel_53100\\465002941.py:3: FutureWarning: suggest_uniform has been deprecated in v3.0.0. This feature will be removed in v6.0.0. See https://github.com/optuna/optuna/releases/tag/v3.0.0. Use suggest_float instead.\n",
      "  trial.suggest_uniform('changepoint_prior_scale',\n",
      "C:\\Users\\fuyuki\\AppData\\Local\\Temp\\ipykernel_53100\\465002941.py:7: FutureWarning: suggest_uniform has been deprecated in v3.0.0. This feature will be removed in v6.0.0. See https://github.com/optuna/optuna/releases/tag/v3.0.0. Use suggest_float instead.\n",
      "  trial.suggest_uniform('seasonality_prior_scale',\n",
      "C:\\Users\\fuyuki\\AppData\\Local\\Temp\\ipykernel_53100\\465002941.py:15: FutureWarning: suggest_discrete_uniform has been deprecated in v3.0.0. This feature will be removed in v6.0.0. See https://github.com/optuna/optuna/releases/tag/v3.0.0. Use suggest_float(..., step=...) instead.\n",
      "  trial.suggest_discrete_uniform('changepoint_range',\n",
      "04:20:24 - cmdstanpy - INFO - Chain [1] start processing\n",
      "04:20:24 - cmdstanpy - INFO - Chain [1] done processing\n",
      "[I 2023-12-11 04:20:24,400] Trial 2 finished with value: 11.333631362756698 and parameters: {'changepoint_prior_scale': 0.2598213790676392, 'seasonality_prior_scale': 2.7119911400624206, 'seasonality_mode': 'additive', 'changepoint_range': 0.8}. Best is trial 1 with value: 11.125386285257372.\n",
      "C:\\Users\\fuyuki\\AppData\\Local\\Temp\\ipykernel_53100\\465002941.py:3: FutureWarning: suggest_uniform has been deprecated in v3.0.0. This feature will be removed in v6.0.0. See https://github.com/optuna/optuna/releases/tag/v3.0.0. Use suggest_float instead.\n",
      "  trial.suggest_uniform('changepoint_prior_scale',\n",
      "C:\\Users\\fuyuki\\AppData\\Local\\Temp\\ipykernel_53100\\465002941.py:7: FutureWarning: suggest_uniform has been deprecated in v3.0.0. This feature will be removed in v6.0.0. See https://github.com/optuna/optuna/releases/tag/v3.0.0. Use suggest_float instead.\n",
      "  trial.suggest_uniform('seasonality_prior_scale',\n",
      "C:\\Users\\fuyuki\\AppData\\Local\\Temp\\ipykernel_53100\\465002941.py:15: FutureWarning: suggest_discrete_uniform has been deprecated in v3.0.0. This feature will be removed in v6.0.0. See https://github.com/optuna/optuna/releases/tag/v3.0.0. Use suggest_float(..., step=...) instead.\n",
      "  trial.suggest_discrete_uniform('changepoint_range',\n",
      "04:20:24 - cmdstanpy - INFO - Chain [1] start processing\n",
      "04:20:24 - cmdstanpy - INFO - Chain [1] done processing\n",
      "[I 2023-12-11 04:20:24,975] Trial 3 finished with value: 12.131272925214903 and parameters: {'changepoint_prior_scale': 0.44616510495337447, 'seasonality_prior_scale': 3.9452730243558407, 'seasonality_mode': 'additive', 'changepoint_range': 0.9}. Best is trial 1 with value: 11.125386285257372.\n",
      "C:\\Users\\fuyuki\\AppData\\Local\\Temp\\ipykernel_53100\\465002941.py:3: FutureWarning: suggest_uniform has been deprecated in v3.0.0. This feature will be removed in v6.0.0. See https://github.com/optuna/optuna/releases/tag/v3.0.0. Use suggest_float instead.\n",
      "  trial.suggest_uniform('changepoint_prior_scale',\n",
      "C:\\Users\\fuyuki\\AppData\\Local\\Temp\\ipykernel_53100\\465002941.py:7: FutureWarning: suggest_uniform has been deprecated in v3.0.0. This feature will be removed in v6.0.0. See https://github.com/optuna/optuna/releases/tag/v3.0.0. Use suggest_float instead.\n",
      "  trial.suggest_uniform('seasonality_prior_scale',\n",
      "C:\\Users\\fuyuki\\AppData\\Local\\Temp\\ipykernel_53100\\465002941.py:15: FutureWarning: suggest_discrete_uniform has been deprecated in v3.0.0. This feature will be removed in v6.0.0. See https://github.com/optuna/optuna/releases/tag/v3.0.0. Use suggest_float(..., step=...) instead.\n",
      "  trial.suggest_discrete_uniform('changepoint_range',\n",
      "04:20:25 - cmdstanpy - INFO - Chain [1] start processing\n",
      "04:20:25 - cmdstanpy - INFO - Chain [1] done processing\n",
      "[I 2023-12-11 04:20:25,540] Trial 4 finished with value: 10.766223235483082 and parameters: {'changepoint_prior_scale': 0.24746782707212722, 'seasonality_prior_scale': 1.4676145506646314, 'seasonality_mode': 'multiplicative', 'changepoint_range': 0.8}. Best is trial 4 with value: 10.766223235483082.\n"
     ]
    },
    {
     "name": "stdout",
     "output_type": "stream",
     "text": [
      "model initialized 0.1035163402557373\n"
     ]
    },
    {
     "name": "stderr",
     "output_type": "stream",
     "text": [
      "04:20:27 - cmdstanpy - INFO - Chain [1] start processing\n",
      "04:20:27 - cmdstanpy - INFO - Chain [1] done processing\n"
     ]
    },
    {
     "name": "stdout",
     "output_type": "stream",
     "text": [
      "predict 0.4671604633331299\n",
      "df read 0.0010008811950683594\n"
     ]
    },
    {
     "name": "stderr",
     "output_type": "stream",
     "text": [
      "C:\\Users\\fuyuki\\AppData\\Local\\Temp\\ipykernel_53100\\3653885342.py:14: SettingWithCopyWarning: \n",
      "A value is trying to be set on a copy of a slice from a DataFrame.\n",
      "Try using .loc[row_indexer,col_indexer] = value instead\n",
      "\n",
      "See the caveats in the documentation: https://pandas.pydata.org/pandas-docs/stable/user_guide/indexing.html#returning-a-view-versus-a-copy\n",
      "  df_train['y'] = train.loc[i,'d_1':].values\n",
      "[I 2023-12-11 04:20:29,409] A new study created in memory with name: no-name-6c419a00-3fcf-4a48-a80e-1e31b7ab4937\n"
     ]
    },
    {
     "name": "stdout",
     "output_type": "stream",
     "text": [
      "slice 0.5946121215820312\n"
     ]
    },
    {
     "name": "stderr",
     "output_type": "stream",
     "text": [
      "C:\\Users\\fuyuki\\AppData\\Local\\Temp\\ipykernel_53100\\465002941.py:3: FutureWarning: suggest_uniform has been deprecated in v3.0.0. This feature will be removed in v6.0.0. See https://github.com/optuna/optuna/releases/tag/v3.0.0. Use suggest_float instead.\n",
      "  trial.suggest_uniform('changepoint_prior_scale',\n",
      "C:\\Users\\fuyuki\\AppData\\Local\\Temp\\ipykernel_53100\\465002941.py:7: FutureWarning: suggest_uniform has been deprecated in v3.0.0. This feature will be removed in v6.0.0. See https://github.com/optuna/optuna/releases/tag/v3.0.0. Use suggest_float instead.\n",
      "  trial.suggest_uniform('seasonality_prior_scale',\n",
      "C:\\Users\\fuyuki\\AppData\\Local\\Temp\\ipykernel_53100\\465002941.py:15: FutureWarning: suggest_discrete_uniform has been deprecated in v3.0.0. This feature will be removed in v6.0.0. See https://github.com/optuna/optuna/releases/tag/v3.0.0. Use suggest_float(..., step=...) instead.\n",
      "  trial.suggest_discrete_uniform('changepoint_range',\n",
      "04:20:29 - cmdstanpy - INFO - Chain [1] start processing\n",
      "04:20:29 - cmdstanpy - INFO - Chain [1] done processing\n",
      "[I 2023-12-11 04:20:29,961] Trial 0 finished with value: 1.7138955770287598 and parameters: {'changepoint_prior_scale': 0.14371010287962607, 'seasonality_prior_scale': 4.324709952243941, 'seasonality_mode': 'additive', 'changepoint_range': 0.9}. Best is trial 0 with value: 1.7138955770287598.\n",
      "C:\\Users\\fuyuki\\AppData\\Local\\Temp\\ipykernel_53100\\465002941.py:3: FutureWarning: suggest_uniform has been deprecated in v3.0.0. This feature will be removed in v6.0.0. See https://github.com/optuna/optuna/releases/tag/v3.0.0. Use suggest_float instead.\n",
      "  trial.suggest_uniform('changepoint_prior_scale',\n",
      "C:\\Users\\fuyuki\\AppData\\Local\\Temp\\ipykernel_53100\\465002941.py:7: FutureWarning: suggest_uniform has been deprecated in v3.0.0. This feature will be removed in v6.0.0. See https://github.com/optuna/optuna/releases/tag/v3.0.0. Use suggest_float instead.\n",
      "  trial.suggest_uniform('seasonality_prior_scale',\n",
      "C:\\Users\\fuyuki\\AppData\\Local\\Temp\\ipykernel_53100\\465002941.py:15: FutureWarning: suggest_discrete_uniform has been deprecated in v3.0.0. This feature will be removed in v6.0.0. See https://github.com/optuna/optuna/releases/tag/v3.0.0. Use suggest_float(..., step=...) instead.\n",
      "  trial.suggest_discrete_uniform('changepoint_range',\n",
      "04:20:30 - cmdstanpy - INFO - Chain [1] start processing\n",
      "04:20:30 - cmdstanpy - INFO - Chain [1] done processing\n",
      "[I 2023-12-11 04:20:30,533] Trial 1 finished with value: 1.616786266661886 and parameters: {'changepoint_prior_scale': 0.15083677232110562, 'seasonality_prior_scale': 1.1662595861131702, 'seasonality_mode': 'multiplicative', 'changepoint_range': 1.0}. Best is trial 1 with value: 1.616786266661886.\n",
      "C:\\Users\\fuyuki\\AppData\\Local\\Temp\\ipykernel_53100\\465002941.py:3: FutureWarning: suggest_uniform has been deprecated in v3.0.0. This feature will be removed in v6.0.0. See https://github.com/optuna/optuna/releases/tag/v3.0.0. Use suggest_float instead.\n",
      "  trial.suggest_uniform('changepoint_prior_scale',\n",
      "C:\\Users\\fuyuki\\AppData\\Local\\Temp\\ipykernel_53100\\465002941.py:7: FutureWarning: suggest_uniform has been deprecated in v3.0.0. This feature will be removed in v6.0.0. See https://github.com/optuna/optuna/releases/tag/v3.0.0. Use suggest_float instead.\n",
      "  trial.suggest_uniform('seasonality_prior_scale',\n",
      "C:\\Users\\fuyuki\\AppData\\Local\\Temp\\ipykernel_53100\\465002941.py:15: FutureWarning: suggest_discrete_uniform has been deprecated in v3.0.0. This feature will be removed in v6.0.0. See https://github.com/optuna/optuna/releases/tag/v3.0.0. Use suggest_float(..., step=...) instead.\n",
      "  trial.suggest_discrete_uniform('changepoint_range',\n",
      "04:20:30 - cmdstanpy - INFO - Chain [1] start processing\n",
      "04:20:30 - cmdstanpy - INFO - Chain [1] done processing\n",
      "[I 2023-12-11 04:20:31,190] Trial 2 finished with value: 1.585762374184792 and parameters: {'changepoint_prior_scale': 0.29653460966952705, 'seasonality_prior_scale': 0.9773457485512451, 'seasonality_mode': 'multiplicative', 'changepoint_range': 0.9}. Best is trial 2 with value: 1.585762374184792.\n",
      "C:\\Users\\fuyuki\\AppData\\Local\\Temp\\ipykernel_53100\\465002941.py:3: FutureWarning: suggest_uniform has been deprecated in v3.0.0. This feature will be removed in v6.0.0. See https://github.com/optuna/optuna/releases/tag/v3.0.0. Use suggest_float instead.\n",
      "  trial.suggest_uniform('changepoint_prior_scale',\n",
      "C:\\Users\\fuyuki\\AppData\\Local\\Temp\\ipykernel_53100\\465002941.py:7: FutureWarning: suggest_uniform has been deprecated in v3.0.0. This feature will be removed in v6.0.0. See https://github.com/optuna/optuna/releases/tag/v3.0.0. Use suggest_float instead.\n",
      "  trial.suggest_uniform('seasonality_prior_scale',\n",
      "C:\\Users\\fuyuki\\AppData\\Local\\Temp\\ipykernel_53100\\465002941.py:15: FutureWarning: suggest_discrete_uniform has been deprecated in v3.0.0. This feature will be removed in v6.0.0. See https://github.com/optuna/optuna/releases/tag/v3.0.0. Use suggest_float(..., step=...) instead.\n",
      "  trial.suggest_discrete_uniform('changepoint_range',\n",
      "04:20:31 - cmdstanpy - INFO - Chain [1] start processing\n",
      "04:20:31 - cmdstanpy - INFO - Chain [1] done processing\n",
      "[I 2023-12-11 04:20:32,004] Trial 3 finished with value: 1.5896445717920011 and parameters: {'changepoint_prior_scale': 0.47326306501664783, 'seasonality_prior_scale': 5.1406943993671215, 'seasonality_mode': 'multiplicative', 'changepoint_range': 0.8}. Best is trial 2 with value: 1.585762374184792.\n",
      "C:\\Users\\fuyuki\\AppData\\Local\\Temp\\ipykernel_53100\\465002941.py:3: FutureWarning: suggest_uniform has been deprecated in v3.0.0. This feature will be removed in v6.0.0. See https://github.com/optuna/optuna/releases/tag/v3.0.0. Use suggest_float instead.\n",
      "  trial.suggest_uniform('changepoint_prior_scale',\n",
      "C:\\Users\\fuyuki\\AppData\\Local\\Temp\\ipykernel_53100\\465002941.py:7: FutureWarning: suggest_uniform has been deprecated in v3.0.0. This feature will be removed in v6.0.0. See https://github.com/optuna/optuna/releases/tag/v3.0.0. Use suggest_float instead.\n",
      "  trial.suggest_uniform('seasonality_prior_scale',\n",
      "C:\\Users\\fuyuki\\AppData\\Local\\Temp\\ipykernel_53100\\465002941.py:15: FutureWarning: suggest_discrete_uniform has been deprecated in v3.0.0. This feature will be removed in v6.0.0. See https://github.com/optuna/optuna/releases/tag/v3.0.0. Use suggest_float(..., step=...) instead.\n",
      "  trial.suggest_discrete_uniform('changepoint_range',\n",
      "04:20:32 - cmdstanpy - INFO - Chain [1] start processing\n",
      "04:20:32 - cmdstanpy - INFO - Chain [1] done processing\n",
      "[I 2023-12-11 04:20:32,832] Trial 4 finished with value: 1.5854747235072646 and parameters: {'changepoint_prior_scale': 0.43946850194853815, 'seasonality_prior_scale': 8.089815796174676, 'seasonality_mode': 'multiplicative', 'changepoint_range': 1.0}. Best is trial 4 with value: 1.5854747235072646.\n"
     ]
    },
    {
     "name": "stdout",
     "output_type": "stream",
     "text": [
      "model initialized 0.10459065437316895\n"
     ]
    },
    {
     "name": "stderr",
     "output_type": "stream",
     "text": [
      "04:20:34 - cmdstanpy - INFO - Chain [1] start processing\n",
      "04:20:34 - cmdstanpy - INFO - Chain [1] done processing\n"
     ]
    },
    {
     "name": "stdout",
     "output_type": "stream",
     "text": [
      "predict 0.48868274688720703\n",
      "df read 0.0009999275207519531\n"
     ]
    },
    {
     "name": "stderr",
     "output_type": "stream",
     "text": [
      "C:\\Users\\fuyuki\\AppData\\Local\\Temp\\ipykernel_53100\\3653885342.py:14: SettingWithCopyWarning: \n",
      "A value is trying to be set on a copy of a slice from a DataFrame.\n",
      "Try using .loc[row_indexer,col_indexer] = value instead\n",
      "\n",
      "See the caveats in the documentation: https://pandas.pydata.org/pandas-docs/stable/user_guide/indexing.html#returning-a-view-versus-a-copy\n",
      "  df_train['y'] = train.loc[i,'d_1':].values\n",
      "[I 2023-12-11 04:20:36,705] A new study created in memory with name: no-name-d9d0075a-f274-4f9d-8dd0-0cf7e6267b86\n"
     ]
    },
    {
     "name": "stdout",
     "output_type": "stream",
     "text": [
      "slice 0.6033506393432617\n"
     ]
    },
    {
     "name": "stderr",
     "output_type": "stream",
     "text": [
      "C:\\Users\\fuyuki\\AppData\\Local\\Temp\\ipykernel_53100\\465002941.py:3: FutureWarning: suggest_uniform has been deprecated in v3.0.0. This feature will be removed in v6.0.0. See https://github.com/optuna/optuna/releases/tag/v3.0.0. Use suggest_float instead.\n",
      "  trial.suggest_uniform('changepoint_prior_scale',\n",
      "C:\\Users\\fuyuki\\AppData\\Local\\Temp\\ipykernel_53100\\465002941.py:7: FutureWarning: suggest_uniform has been deprecated in v3.0.0. This feature will be removed in v6.0.0. See https://github.com/optuna/optuna/releases/tag/v3.0.0. Use suggest_float instead.\n",
      "  trial.suggest_uniform('seasonality_prior_scale',\n",
      "C:\\Users\\fuyuki\\AppData\\Local\\Temp\\ipykernel_53100\\465002941.py:15: FutureWarning: suggest_discrete_uniform has been deprecated in v3.0.0. This feature will be removed in v6.0.0. See https://github.com/optuna/optuna/releases/tag/v3.0.0. Use suggest_float(..., step=...) instead.\n",
      "  trial.suggest_discrete_uniform('changepoint_range',\n",
      "04:20:36 - cmdstanpy - INFO - Chain [1] start processing\n",
      "04:20:37 - cmdstanpy - INFO - Chain [1] done processing\n",
      "[I 2023-12-11 04:20:37,261] Trial 0 finished with value: 0.8502791993898847 and parameters: {'changepoint_prior_scale': 0.15936565804822017, 'seasonality_prior_scale': 5.769145898741798, 'seasonality_mode': 'additive', 'changepoint_range': 1.0}. Best is trial 0 with value: 0.8502791993898847.\n",
      "C:\\Users\\fuyuki\\AppData\\Local\\Temp\\ipykernel_53100\\465002941.py:3: FutureWarning: suggest_uniform has been deprecated in v3.0.0. This feature will be removed in v6.0.0. See https://github.com/optuna/optuna/releases/tag/v3.0.0. Use suggest_float instead.\n",
      "  trial.suggest_uniform('changepoint_prior_scale',\n",
      "C:\\Users\\fuyuki\\AppData\\Local\\Temp\\ipykernel_53100\\465002941.py:7: FutureWarning: suggest_uniform has been deprecated in v3.0.0. This feature will be removed in v6.0.0. See https://github.com/optuna/optuna/releases/tag/v3.0.0. Use suggest_float instead.\n",
      "  trial.suggest_uniform('seasonality_prior_scale',\n",
      "C:\\Users\\fuyuki\\AppData\\Local\\Temp\\ipykernel_53100\\465002941.py:15: FutureWarning: suggest_discrete_uniform has been deprecated in v3.0.0. This feature will be removed in v6.0.0. See https://github.com/optuna/optuna/releases/tag/v3.0.0. Use suggest_float(..., step=...) instead.\n",
      "  trial.suggest_discrete_uniform('changepoint_range',\n",
      "04:20:37 - cmdstanpy - INFO - Chain [1] start processing\n",
      "04:20:37 - cmdstanpy - INFO - Chain [1] done processing\n",
      "[I 2023-12-11 04:20:37,822] Trial 1 finished with value: 0.88156234965884 and parameters: {'changepoint_prior_scale': 0.3149869126617568, 'seasonality_prior_scale': 3.376289309359712, 'seasonality_mode': 'multiplicative', 'changepoint_range': 0.9}. Best is trial 0 with value: 0.8502791993898847.\n",
      "C:\\Users\\fuyuki\\AppData\\Local\\Temp\\ipykernel_53100\\465002941.py:3: FutureWarning: suggest_uniform has been deprecated in v3.0.0. This feature will be removed in v6.0.0. See https://github.com/optuna/optuna/releases/tag/v3.0.0. Use suggest_float instead.\n",
      "  trial.suggest_uniform('changepoint_prior_scale',\n",
      "C:\\Users\\fuyuki\\AppData\\Local\\Temp\\ipykernel_53100\\465002941.py:7: FutureWarning: suggest_uniform has been deprecated in v3.0.0. This feature will be removed in v6.0.0. See https://github.com/optuna/optuna/releases/tag/v3.0.0. Use suggest_float instead.\n",
      "  trial.suggest_uniform('seasonality_prior_scale',\n",
      "C:\\Users\\fuyuki\\AppData\\Local\\Temp\\ipykernel_53100\\465002941.py:15: FutureWarning: suggest_discrete_uniform has been deprecated in v3.0.0. This feature will be removed in v6.0.0. See https://github.com/optuna/optuna/releases/tag/v3.0.0. Use suggest_float(..., step=...) instead.\n",
      "  trial.suggest_discrete_uniform('changepoint_range',\n",
      "04:20:38 - cmdstanpy - INFO - Chain [1] start processing\n",
      "04:20:38 - cmdstanpy - INFO - Chain [1] done processing\n",
      "[I 2023-12-11 04:20:38,368] Trial 2 finished with value: 1.6748939756526502 and parameters: {'changepoint_prior_scale': 0.4473529286600093, 'seasonality_prior_scale': 8.882503301663103, 'seasonality_mode': 'multiplicative', 'changepoint_range': 1.0}. Best is trial 0 with value: 0.8502791993898847.\n",
      "C:\\Users\\fuyuki\\AppData\\Local\\Temp\\ipykernel_53100\\465002941.py:3: FutureWarning: suggest_uniform has been deprecated in v3.0.0. This feature will be removed in v6.0.0. See https://github.com/optuna/optuna/releases/tag/v3.0.0. Use suggest_float instead.\n",
      "  trial.suggest_uniform('changepoint_prior_scale',\n",
      "C:\\Users\\fuyuki\\AppData\\Local\\Temp\\ipykernel_53100\\465002941.py:7: FutureWarning: suggest_uniform has been deprecated in v3.0.0. This feature will be removed in v6.0.0. See https://github.com/optuna/optuna/releases/tag/v3.0.0. Use suggest_float instead.\n",
      "  trial.suggest_uniform('seasonality_prior_scale',\n",
      "C:\\Users\\fuyuki\\AppData\\Local\\Temp\\ipykernel_53100\\465002941.py:15: FutureWarning: suggest_discrete_uniform has been deprecated in v3.0.0. This feature will be removed in v6.0.0. See https://github.com/optuna/optuna/releases/tag/v3.0.0. Use suggest_float(..., step=...) instead.\n",
      "  trial.suggest_discrete_uniform('changepoint_range',\n",
      "04:20:38 - cmdstanpy - INFO - Chain [1] start processing\n",
      "04:20:38 - cmdstanpy - INFO - Chain [1] done processing\n",
      "[I 2023-12-11 04:20:39,128] Trial 3 finished with value: 0.8446567595918387 and parameters: {'changepoint_prior_scale': 0.12914531865900797, 'seasonality_prior_scale': 4.439462850372055, 'seasonality_mode': 'multiplicative', 'changepoint_range': 1.0}. Best is trial 3 with value: 0.8446567595918387.\n",
      "C:\\Users\\fuyuki\\AppData\\Local\\Temp\\ipykernel_53100\\465002941.py:3: FutureWarning: suggest_uniform has been deprecated in v3.0.0. This feature will be removed in v6.0.0. See https://github.com/optuna/optuna/releases/tag/v3.0.0. Use suggest_float instead.\n",
      "  trial.suggest_uniform('changepoint_prior_scale',\n",
      "C:\\Users\\fuyuki\\AppData\\Local\\Temp\\ipykernel_53100\\465002941.py:7: FutureWarning: suggest_uniform has been deprecated in v3.0.0. This feature will be removed in v6.0.0. See https://github.com/optuna/optuna/releases/tag/v3.0.0. Use suggest_float instead.\n",
      "  trial.suggest_uniform('seasonality_prior_scale',\n",
      "C:\\Users\\fuyuki\\AppData\\Local\\Temp\\ipykernel_53100\\465002941.py:15: FutureWarning: suggest_discrete_uniform has been deprecated in v3.0.0. This feature will be removed in v6.0.0. See https://github.com/optuna/optuna/releases/tag/v3.0.0. Use suggest_float(..., step=...) instead.\n",
      "  trial.suggest_discrete_uniform('changepoint_range',\n",
      "04:20:39 - cmdstanpy - INFO - Chain [1] start processing\n",
      "04:20:39 - cmdstanpy - INFO - Chain [1] done processing\n",
      "[I 2023-12-11 04:20:39,685] Trial 4 finished with value: 0.8680019179725 and parameters: {'changepoint_prior_scale': 0.12891788021900852, 'seasonality_prior_scale': 8.245522106639518, 'seasonality_mode': 'additive', 'changepoint_range': 1.0}. Best is trial 3 with value: 0.8446567595918387.\n"
     ]
    },
    {
     "name": "stdout",
     "output_type": "stream",
     "text": [
      "model initialized 0.10754656791687012\n"
     ]
    },
    {
     "name": "stderr",
     "output_type": "stream",
     "text": [
      "04:20:41 - cmdstanpy - INFO - Chain [1] start processing\n",
      "04:20:41 - cmdstanpy - INFO - Chain [1] done processing\n"
     ]
    },
    {
     "name": "stdout",
     "output_type": "stream",
     "text": [
      "predict 0.4442787170410156\n",
      "処理時間= 66.33067631721497\n"
     ]
    }
   ],
   "source": [
    "submit_df = pd.DataFrame()\n",
    "start1 = time.time()\n",
    "for i in range(10):\n",
    "    start = time.time()\n",
    "    df = pd.DataFrame(calendar[['date', 'd', 'wm_yr_wk', 'event_name_1', 'event_type_1', 'event_name_2', 'event_type_2']])\n",
    "    end = time.time()\n",
    "    print(\"df read\", end-start)\n",
    "    \n",
    "    df_train =  df.loc[0:1926]\n",
    "    df_test = df.loc[1927:]\n",
    "\n",
    "    #学習用df編集，sell_price追加\n",
    "    start = time.time()\n",
    "    df_train['y'] = train.loc[i,'d_1':].values\n",
    "    df_train = pd.merge(df_train, price[(price['store_id'] == train.loc[i,'store_id']) \\\n",
    "                & (price['item_id'] == train.loc[0,'item_id'])]\\\n",
    "                [['wm_yr_wk', 'sell_price']], how='left', on=['wm_yr_wk'])\n",
    "    end = time.time()\n",
    "    print(\"slice\", end-start)\n",
    "    \n",
    "    df_train = df_train.rename(columns={'date': 'ds'})\n",
    "    df_train = df_train.fillna({\"sell_price\":0})\n",
    "    df_train[0] = False\n",
    "\n",
    "    # # change point作成\n",
    "    # index_0 = df_train['y'] == 0\n",
    "    # index_change = index_0 != index_0.shift(1)\n",
    "\n",
    "    # change_point = df_train[index_change][\"ds\"]\n",
    "    # change_point = change_point.reset_index(drop=True)\n",
    "\n",
    "    # # optuna\n",
    "    train_opt = df_train[-200:-100]\n",
    "    train_opt = train_opt[[\"ds\", \"y\"]]\n",
    "\n",
    "    val_opt = df_train[-100:]\n",
    "    val_opt = val_opt[[\"ds\", \"y\"]]\n",
    "\n",
    "\n",
    "    # 最適化\n",
    "    study = optuna.create_study(direction=\"minimize\")\n",
    "    study.optimize(objective, n_trials=5)\n",
    "\n",
    "\n",
    "    #model定義   **study.best_params,\\\n",
    "    start = time.time()\n",
    "    model = Prophet(weekly_seasonality=True, yearly_seasonality=True, holidays=holidays, **study.best_params, n_changepoints=15)\n",
    "    end = time.time()\n",
    "    print(\"model initialized\", end-start)\n",
    "    # model = Prophet(weekly_seasonality=True, yearly_seasonality=True)\n",
    "\n",
    "    #周期生追加\n",
    "    model.add_seasonality(name=\"monthly\", period=30.5, fourier_order=14)\n",
    "    model.add_seasonality(name=\"yearly\", period=365.25, fourier_order=20)\n",
    "\n",
    "    \"\"\"\"\"\"\n",
    "    #説明変数sell_price追加\n",
    "    model.add_regressor('sell_price')\n",
    "\n",
    "    model.fit(df_train)\n",
    "    future = model.make_future_dataframe(periods=14)\n",
    "    future[\"wm_yr_wk\"] = calendar[:len(future)][\"wm_yr_wk\"]\n",
    "\n",
    "    # futureにsell_price追加\n",
    "    future = pd.merge(future, price[(price['store_id'] == train.loc[i,'store_id'])\\\n",
    "                    & (price['item_id'] == train.loc[0,'item_id'])] \\\n",
    "                    [['wm_yr_wk',\"sell_price\"]], how='left', on=['wm_yr_wk'])\n",
    "    future = future.fillna({\"sell_price\":0})\n",
    "\n",
    "\n",
    "\n",
    "    # 学習\n",
    "    start = time.time()\n",
    "    forecast = model.predict(future)\n",
    "    end = time.time()\n",
    "    print(\"predict\", end-start)\n",
    "    \n",
    "    \n",
    "    # fig = model.plot(forecast)\n",
    "    # a = add_changepoints_to_plot(fig.gca(), model, forecast)\n",
    "\n",
    "    # plt.show()\n",
    "    \"\"\"\n",
    "    model.plot_components(forecast)\n",
    "    plt.show()\n",
    "    \"\"\"\n",
    "    #df_train.to_csv('df_train' + str(i) + '.csv', index=False)\n",
    "    yhat_tenchi = forecast[['yhat']].tail(14).T.round(0)\n",
    "    submit_df = pd.concat([submit_df, yhat_tenchi.reset_index(drop=True)], ignore_index=True)\n",
    "\n",
    "end1 = time.time()\n",
    "print(\"処理時間=\", end1-start1)\n",
    "for i, row in enumerate(submit_df.itertuples(index=False), start=0):\n",
    "    # start=2 はsample_submitの2行目から始まるため\n",
    "    # 7列目から始めて、行の各要素を置換する\n",
    "    for j, value in enumerate(row, start=6):\n",
    "        sample_submit.iat[i, j] = value\n",
    "\n",
    "sample_submit.to_csv('submit_edited.csv', index=False)\n"
   ]
  }
 ],
 "metadata": {
  "kernelspec": {
   "display_name": ".venv",
   "language": "python",
   "name": "python3"
  },
  "language_info": {
   "codemirror_mode": {
    "name": "ipython",
    "version": 3
   },
   "file_extension": ".py",
   "mimetype": "text/x-python",
   "name": "python",
   "nbconvert_exporter": "python",
   "pygments_lexer": "ipython3",
   "version": "3.9.18"
  }
 },
 "nbformat": 4,
 "nbformat_minor": 2
}
