{
 "cells": [
  {
   "cell_type": "code",
   "execution_count": 51,
   "metadata": {},
   "outputs": [],
   "source": [
    "import os\n",
    "import numpy\n",
    "import pandas as pd\n",
    "import matplotlib\n",
    "import matplotlib.pyplot as plt\n",
    "import matplotlib.ticker as mtick\n",
    "import matplotlib.image as mpimg\n",
    "import optuna\n",
    "from itertools import cycle\n",
    "import seaborn as sns\n",
    "import statsmodels.api as sm \n",
    "from scipy.interpolate import interp1d\n",
    "from prophet import Prophet\n",
    "from prophet.plot import add_changepoints_to_plot\n",
    "\n",
    "pd.set_option('display.max_columns', 50)\n",
    "plt.style.use('bmh')\n",
    "color_cycle = cycle(plt.rcParams['axes.prop_cycle'].by_key()['color'])"
   ]
  },
  {
   "cell_type": "code",
   "execution_count": 31,
   "metadata": {},
   "outputs": [
    {
     "name": "stdout",
     "output_type": "stream",
     "text": [
      "CPU times: user 9.24 s, sys: 2.87 s, total: 12.1 s\n",
      "Wall time: 21.3 s\n"
     ]
    }
   ],
   "source": [
    "%%time\n",
    "oj = os.path.join\n",
    "INPUT_DIR = '../input/m5-forecasting-accuracy/'\n",
    "train = pd.read_csv(oj(INPUT_DIR, 'trainset.csv'))\n",
    "price = pd.read_csv(oj(INPUT_DIR, 'sell_prices.csv'))\n",
    "calendar = pd.read_csv(oj(INPUT_DIR, 'calendar.csv'))\n",
    "\n",
    "sample_submit = pd.read_csv(oj(INPUT_DIR, 'submit.csv'))"
   ]
  },
  {
   "cell_type": "code",
   "execution_count": null,
   "metadata": {},
   "outputs": [],
   "source": [
    "print(calendar['event_type_1'].unique())"
   ]
  },
  {
   "cell_type": "code",
   "execution_count": null,
   "metadata": {},
   "outputs": [],
   "source": [
    "print(calendar['event_name_2'].unique())"
   ]
  },
  {
   "cell_type": "code",
   "execution_count": null,
   "metadata": {},
   "outputs": [],
   "source": [
    "print(calendar['event_type_2'].unique())"
   ]
  },
  {
   "cell_type": "code",
   "execution_count": null,
   "metadata": {},
   "outputs": [],
   "source": [
    "print(price.head())\n",
    "print(price.shape)"
   ]
  },
  {
   "cell_type": "code",
   "execution_count": null,
   "metadata": {},
   "outputs": [],
   "source": [
    "print(train.shape)"
   ]
  },
  {
   "cell_type": "code",
   "execution_count": 32,
   "metadata": {},
   "outputs": [
    {
     "name": "stdout",
     "output_type": "stream",
     "text": [
      "           ds  lower_window  upper_window        holiday\n",
      "0  2011-02-06             0             1      SuperBowl\n",
      "1  2011-02-14             0             1  ValentinesDay\n",
      "2  2011-02-21             0             1  PresidentsDay\n",
      "3  2011-03-09             0             1      LentStart\n",
      "4  2011-03-16             0             1      LentWeek2\n"
     ]
    }
   ],
   "source": [
    "holidays = calendar[['date', 'event_name_1', 'event_type_1', 'event_name_2', 'event_type_2']]\n",
    "holidays = holidays.rename(columns={'date': 'ds'})\n",
    "holidays['lower_window'] = 0\n",
    "holidays['upper_window'] = 1\n",
    "holidays1 = holidays.dropna(subset = ['event_name_1'])\n",
    "holidays2 = holidays.dropna(subset = ['event_name_2'])\n",
    "holidays1 = holidays1[['ds', 'lower_window', 'upper_window', 'event_name_1']]\n",
    "holidays1 = holidays1.rename(columns={'event_name_1': 'holiday'})\n",
    "holidays2 = holidays2[['ds', 'lower_window', 'upper_window', 'event_name_2']]\n",
    "holidays2 = holidays2.rename(columns={'event_name_2': 'holiday'})\n",
    "holidays = pd.concat((holidays1, holidays2))\n",
    "holidays = holidays.reset_index(drop=True)\n",
    "print(holidays.head())\n"
   ]
  },
  {
   "cell_type": "code",
   "execution_count": 67,
   "metadata": {},
   "outputs": [
    {
     "ename": "SyntaxError",
     "evalue": "invalid syntax (2705366482.py, line 29)",
     "output_type": "error",
     "traceback": [
      "\u001b[0;36m  Cell \u001b[0;32mIn[67], line 29\u001b[0;36m\u001b[0m\n\u001b[0;31m    changepoints=change_point)\u001b[0m\n\u001b[0m    ^\u001b[0m\n\u001b[0;31mSyntaxError\u001b[0m\u001b[0;31m:\u001b[0m invalid syntax\n"
     ]
    }
   ],
   "source": [
    "submit_df = pd.DataFrame()\n",
    "for i in range(10):\n",
    "    df = pd.DataFrame(calendar[['date', 'd', 'wm_yr_wk', 'event_name_1', 'event_type_1', 'event_name_2', 'event_type_2']])\n",
    "    df_train =  df.loc[0:1926]\n",
    "    df_test = df.loc[1927:]\n",
    "\n",
    "    #学習用df編集，sell_price追加\n",
    "    df_train['y'] = train.loc[i,'d_1':].values\n",
    "    df_train = pd.merge(df_train, price[(price['store_id'] == train.loc[i,'store_id']) \\\n",
    "                & (price['item_id'] == train.loc[0,'item_id'])]\\\n",
    "                [['wm_yr_wk', 'sell_price']], how='left', on=['wm_yr_wk'])\n",
    "    \n",
    "    df_train = df_train.rename(columns={'date': 'ds'})\n",
    "    df_train = df_train.fillna({\"sell_price\":0})\n",
    "    df_train[0] = False\n",
    "    \n",
    "    # change point作成\n",
    "    index_0 = df_train['y'] == 0\n",
    "    index_change = index_0 != index_0.shift(1)\n",
    "    \n",
    "    change_point = df_train[index_change][\"ds\"]\n",
    "    change_point = change_point.reset_index(drop=True)\n",
    "    \n",
    "  \n",
    "    #model定義\n",
    "    model = Prophet(weekly_seasonality=True, yearly_seasonality=True, holidays=holidays, \\\n",
    "                    seasonality_mode=\"multiplicative\", changepoint_prior_scale=0.1,\\\n",
    "                        seasonality_prior_scale=15, holidays_prior_scale=15,\\\n",
    "                            changepoints=change_point)\n",
    "    # model = Prophet(weekly_seasonality=True, yearly_seasonality=True)\n",
    "    \n",
    "    #周期生追加\n",
    "    model.add_seasonality(name=\"monthly\", period=30.5, fourier_order=14)\n",
    "    model.add_seasonality(name=\"yearly\", period=365.25, fourier_order=20)\n",
    "    \n",
    "    #説明変数sell_price追加\n",
    "    model.add_regressor('sell_price')\n",
    "    \n",
    "    model.fit(df_train)\n",
    "    future = model.make_future_dataframe(periods=14)\n",
    "    future[\"wm_yr_wk\"] = calendar[:len(future)][\"wm_yr_wk\"]\n",
    "  \n",
    "    # futureにsell_price追加\n",
    "    future = pd.merge(future, price[(price['store_id'] == train.loc[i,'store_id'])\\\n",
    "                    & (price['item_id'] == train.loc[0,'item_id'])] \\\n",
    "                    [['wm_yr_wk',\"sell_price\"]], how='left', on=['wm_yr_wk'])\n",
    "    future = future.fillna({\"sell_price\":0})\n",
    "\n",
    "    # 学習\n",
    "    forecast = model.predict(future)\n",
    "    \n",
    "    fig = model.plot(forecast)\n",
    "    a = add_changepoints_to_plot(fig.gca(), model, forecast)\n",
    "    \n",
    "    plt.show()\n",
    "    \n",
    "    model.plot_components(forecast)\n",
    "    plt.show()\n",
    "    #df_train.to_csv('df_train' + str(i) + '.csv', index=False)\n",
    "    yhat_tenchi = forecast[['yhat']].tail(14).T.round(0)\n",
    "    submit_df = pd.concat([submit_df, yhat_tenchi.reset_index(drop=True)], ignore_index=True)\n",
    "for i, row in enumerate(submit_df.itertuples(index=False), start=0):\n",
    "    # start=2 はsample_submitの2行目から始まるため\n",
    "    # 7列目から始めて、行の各要素を置換する\n",
    "    for j, value in enumerate(row, start=6):\n",
    "        sample_submit.iat[i, j] = value\n",
    "\n",
    "sample_submit.to_csv('submit_edited.csv', index=False)\n"
   ]
  },
  {
   "cell_type": "code",
   "execution_count": null,
   "metadata": {},
   "outputs": [],
   "source": []
  }
 ],
 "metadata": {
  "kernelspec": {
   "display_name": ".venv",
   "language": "python",
   "name": "python3"
  },
  "language_info": {
   "codemirror_mode": {
    "name": "ipython",
    "version": 3
   },
   "file_extension": ".py",
   "mimetype": "text/x-python",
   "name": "python",
   "nbconvert_exporter": "python",
   "pygments_lexer": "ipython3",
   "version": "3.9.7"
  }
 },
 "nbformat": 4,
 "nbformat_minor": 2
}
