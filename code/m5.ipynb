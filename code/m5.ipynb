{
 "cells": [
  {
   "cell_type": "code",
   "execution_count": 2,
   "metadata": {},
   "outputs": [
    {
     "name": "stderr",
     "output_type": "stream",
     "text": [
      "/Users/symfonia/Github/chronolog/.venv/lib/python3.11/site-packages/tqdm/auto.py:21: TqdmWarning: IProgress not found. Please update jupyter and ipywidgets. See https://ipywidgets.readthedocs.io/en/stable/user_install.html\n",
      "  from .autonotebook import tqdm as notebook_tqdm\n",
      "Importing plotly failed. Interactive plots will not work.\n"
     ]
    }
   ],
   "source": [
    "import os\n",
    "import numpy\n",
    "import pandas as pd\n",
    "import matplotlib\n",
    "import matplotlib.pyplot as plt\n",
    "import matplotlib.ticker as mtick\n",
    "import matplotlib.image as mpimg\n",
    "from itertools import cycle\n",
    "import seaborn as sns\n",
    "import statsmodels.api as sm \n",
    "from scipy.interpolate import interp1d\n",
    "from prophet import Prophet\n",
    "\n",
    "pd.set_option('display.max_columns', 50)\n",
    "plt.style.use('bmh')\n",
    "color_cycle = cycle(plt.rcParams['axes.prop_cycle'].by_key()['color'])"
   ]
  },
  {
   "cell_type": "code",
   "execution_count": 17,
   "metadata": {},
   "outputs": [
    {
     "name": "stdout",
     "output_type": "stream",
     "text": [
      "CPU times: user 10 s, sys: 2.98 s, total: 13 s\n",
      "Wall time: 21.6 s\n"
     ]
    }
   ],
   "source": [
    "%%time\n",
    "oj = os.path.join\n",
    "INPUT_DIR = '../input/m5-forecasting-accuracy/'\n",
    "train = pd.read_csv(oj(INPUT_DIR, 'trainset.csv'))\n",
    "price = pd.read_csv(oj(INPUT_DIR, 'sell_prices.csv'))\n",
    "calendar = pd.read_csv(oj(INPUT_DIR, 'calendar.csv'))\n",
    "\n",
    "sample_submit = pd.read_csv(oj(INPUT_DIR, 'submit.csv'))"
   ]
  },
  {
   "cell_type": "code",
   "execution_count": 18,
   "metadata": {},
   "outputs": [
    {
     "name": "stdout",
     "output_type": "stream",
     "text": [
      "[nan 'SuperBowl' 'ValentinesDay' 'PresidentsDay' 'LentStart' 'LentWeek2'\n",
      " 'StPatricksDay' 'Purim End' 'OrthodoxEaster' 'Pesach End' 'Cinco De Mayo'\n",
      " \"Mother's day\" 'MemorialDay' 'NBAFinalsStart' 'NBAFinalsEnd'\n",
      " \"Father's day\" 'IndependenceDay' 'Ramadan starts' 'Eid al-Fitr'\n",
      " 'LaborDay' 'ColumbusDay' 'Halloween' 'EidAlAdha' 'VeteransDay'\n",
      " 'Thanksgiving' 'Christmas' 'Chanukah End' 'NewYear' 'OrthodoxChristmas'\n",
      " 'MartinLutherKingDay' 'Easter']\n"
     ]
    }
   ],
   "source": [
    "print(calendar['event_name_1'].unique())"
   ]
  },
  {
   "cell_type": "code",
   "execution_count": 19,
   "metadata": {},
   "outputs": [
    {
     "name": "stdout",
     "output_type": "stream",
     "text": [
      "[nan 'Sporting' 'Cultural' 'National' 'Religious']\n"
     ]
    }
   ],
   "source": [
    "print(calendar['event_type_1'].unique())"
   ]
  },
  {
   "cell_type": "code",
   "execution_count": 20,
   "metadata": {},
   "outputs": [
    {
     "name": "stdout",
     "output_type": "stream",
     "text": [
      "[nan 'Easter' 'Cinco De Mayo' 'OrthodoxEaster' \"Father's day\"]\n"
     ]
    }
   ],
   "source": [
    "print(calendar['event_name_2'].unique())"
   ]
  },
  {
   "cell_type": "code",
   "execution_count": 21,
   "metadata": {},
   "outputs": [
    {
     "name": "stdout",
     "output_type": "stream",
     "text": [
      "[nan 'Cultural' 'Religious']\n"
     ]
    }
   ],
   "source": [
    "print(calendar['event_type_2'].unique())"
   ]
  },
  {
   "cell_type": "code",
   "execution_count": 22,
   "metadata": {},
   "outputs": [
    {
     "name": "stdout",
     "output_type": "stream",
     "text": [
      "  store_id        item_id  wm_yr_wk  sell_price\n",
      "0     CA_1  HOBBIES_1_001     11325        9.58\n",
      "1     CA_1  HOBBIES_1_001     11326        9.58\n",
      "2     CA_1  HOBBIES_1_001     11327        8.26\n",
      "3     CA_1  HOBBIES_1_001     11328        8.26\n",
      "4     CA_1  HOBBIES_1_001     11329        8.26\n",
      "(6841121, 4)\n"
     ]
    }
   ],
   "source": [
    "print(price.head())\n",
    "print(price.shape)"
   ]
  },
  {
   "cell_type": "code",
   "execution_count": null,
   "metadata": {},
   "outputs": [],
   "source": []
  },
  {
   "cell_type": "code",
   "execution_count": 23,
   "metadata": {},
   "outputs": [
    {
     "name": "stdout",
     "output_type": "stream",
     "text": [
      "(30490, 1933)\n"
     ]
    }
   ],
   "source": [
    "print(train.shape)"
   ]
  },
  {
   "cell_type": "code",
   "execution_count": 37,
   "metadata": {},
   "outputs": [
    {
     "name": "stderr",
     "output_type": "stream",
     "text": [
      "/var/folders/mh/nyq1nwnj337cbkn7t5jhtlq40000gp/T/ipykernel_50531/2171929331.py:7: SettingWithCopyWarning: \n",
      "A value is trying to be set on a copy of a slice from a DataFrame.\n",
      "Try using .loc[row_indexer,col_indexer] = value instead\n",
      "\n",
      "See the caveats in the documentation: https://pandas.pydata.org/pandas-docs/stable/user_guide/indexing.html#returning-a-view-versus-a-copy\n",
      "  df_train['y'] = train.loc[i,'d_1':].values\n",
      "/var/folders/mh/nyq1nwnj337cbkn7t5jhtlq40000gp/T/ipykernel_50531/2171929331.py:7: SettingWithCopyWarning: \n",
      "A value is trying to be set on a copy of a slice from a DataFrame.\n",
      "Try using .loc[row_indexer,col_indexer] = value instead\n",
      "\n",
      "See the caveats in the documentation: https://pandas.pydata.org/pandas-docs/stable/user_guide/indexing.html#returning-a-view-versus-a-copy\n",
      "  df_train['y'] = train.loc[i,'d_1':].values\n"
     ]
    },
    {
     "name": "stdout",
     "output_type": "stream",
     "text": [
      "            date       d  wm_yr_wk  y  sell_price\n",
      "0     2011-01-29     d_1     11101  0         NaN\n",
      "1     2011-01-30     d_2     11101  0         NaN\n",
      "2     2011-01-31     d_3     11101  0         NaN\n",
      "3     2011-02-01     d_4     11101  0         NaN\n",
      "4     2011-02-02     d_5     11101  0         NaN\n",
      "...          ...     ...       ... ..         ...\n",
      "1922  2016-05-04  d_1923     11614  1        8.38\n",
      "1923  2016-05-05  d_1924     11614  1        8.38\n",
      "1924  2016-05-06  d_1925     11614  0        8.38\n",
      "1925  2016-05-07  d_1926     11615  2        8.38\n",
      "1926  2016-05-08  d_1927     11615  1        8.38\n",
      "\n",
      "[1927 rows x 5 columns]\n",
      "            date       d  wm_yr_wk  y  sell_price\n",
      "0     2011-01-29     d_1     11101  0         NaN\n",
      "1     2011-01-30     d_2     11101  0         NaN\n",
      "2     2011-01-31     d_3     11101  0         NaN\n",
      "3     2011-02-01     d_4     11101  0         NaN\n",
      "4     2011-02-02     d_5     11101  0         NaN\n",
      "...          ...     ...       ... ..         ...\n",
      "1922  2016-05-04  d_1923     11614  1        8.38\n",
      "1923  2016-05-05  d_1924     11614  0        8.38\n",
      "1924  2016-05-06  d_1925     11614  0        8.38\n",
      "1925  2016-05-07  d_1926     11615  0        8.38\n",
      "1926  2016-05-08  d_1927     11615  0        8.38\n",
      "\n",
      "[1927 rows x 5 columns]\n"
     ]
    },
    {
     "name": "stderr",
     "output_type": "stream",
     "text": [
      "/var/folders/mh/nyq1nwnj337cbkn7t5jhtlq40000gp/T/ipykernel_50531/2171929331.py:7: SettingWithCopyWarning: \n",
      "A value is trying to be set on a copy of a slice from a DataFrame.\n",
      "Try using .loc[row_indexer,col_indexer] = value instead\n",
      "\n",
      "See the caveats in the documentation: https://pandas.pydata.org/pandas-docs/stable/user_guide/indexing.html#returning-a-view-versus-a-copy\n",
      "  df_train['y'] = train.loc[i,'d_1':].values\n"
     ]
    },
    {
     "name": "stdout",
     "output_type": "stream",
     "text": [
      "            date       d  wm_yr_wk  y  sell_price\n",
      "0     2011-01-29     d_1     11101  0         NaN\n",
      "1     2011-01-30     d_2     11101  0         NaN\n",
      "2     2011-01-31     d_3     11101  0         NaN\n",
      "3     2011-02-01     d_4     11101  0         NaN\n",
      "4     2011-02-02     d_5     11101  0         NaN\n",
      "...          ...     ...       ... ..         ...\n",
      "1922  2016-05-04  d_1923     11614  0        8.38\n",
      "1923  2016-05-05  d_1924     11614  0        8.38\n",
      "1924  2016-05-06  d_1925     11614  2        8.38\n",
      "1925  2016-05-07  d_1926     11615  1        8.38\n",
      "1926  2016-05-08  d_1927     11615  3        8.38\n",
      "\n",
      "[1927 rows x 5 columns]\n"
     ]
    },
    {
     "name": "stderr",
     "output_type": "stream",
     "text": [
      "/var/folders/mh/nyq1nwnj337cbkn7t5jhtlq40000gp/T/ipykernel_50531/2171929331.py:7: SettingWithCopyWarning: \n",
      "A value is trying to be set on a copy of a slice from a DataFrame.\n",
      "Try using .loc[row_indexer,col_indexer] = value instead\n",
      "\n",
      "See the caveats in the documentation: https://pandas.pydata.org/pandas-docs/stable/user_guide/indexing.html#returning-a-view-versus-a-copy\n",
      "  df_train['y'] = train.loc[i,'d_1':].values\n"
     ]
    },
    {
     "name": "stdout",
     "output_type": "stream",
     "text": [
      "            date       d  wm_yr_wk  y  sell_price\n",
      "0     2011-01-29     d_1     11101  0         NaN\n",
      "1     2011-01-30     d_2     11101  0         NaN\n",
      "2     2011-01-31     d_3     11101  0         NaN\n",
      "3     2011-02-01     d_4     11101  0         NaN\n",
      "4     2011-02-02     d_5     11101  0         NaN\n",
      "...          ...     ...       ... ..         ...\n",
      "1922  2016-05-04  d_1923     11614  0        8.38\n",
      "1923  2016-05-05  d_1924     11614  0        8.38\n",
      "1924  2016-05-06  d_1925     11614  2        8.38\n",
      "1925  2016-05-07  d_1926     11615  2        8.38\n",
      "1926  2016-05-08  d_1927     11615  4        8.38\n",
      "\n",
      "[1927 rows x 5 columns]\n"
     ]
    },
    {
     "name": "stderr",
     "output_type": "stream",
     "text": [
      "/var/folders/mh/nyq1nwnj337cbkn7t5jhtlq40000gp/T/ipykernel_50531/2171929331.py:7: SettingWithCopyWarning: \n",
      "A value is trying to be set on a copy of a slice from a DataFrame.\n",
      "Try using .loc[row_indexer,col_indexer] = value instead\n",
      "\n",
      "See the caveats in the documentation: https://pandas.pydata.org/pandas-docs/stable/user_guide/indexing.html#returning-a-view-versus-a-copy\n",
      "  df_train['y'] = train.loc[i,'d_1':].values\n"
     ]
    },
    {
     "name": "stdout",
     "output_type": "stream",
     "text": [
      "            date       d  wm_yr_wk  y  sell_price\n",
      "0     2011-01-29     d_1     11101  0         NaN\n",
      "1     2011-01-30     d_2     11101  0         NaN\n",
      "2     2011-01-31     d_3     11101  0         NaN\n",
      "3     2011-02-01     d_4     11101  0         NaN\n",
      "4     2011-02-02     d_5     11101  0         NaN\n",
      "...          ...     ...       ... ..         ...\n",
      "1922  2016-05-04  d_1923     11614  1        8.38\n",
      "1923  2016-05-05  d_1924     11614  1        8.38\n",
      "1924  2016-05-06  d_1925     11614  3        8.38\n",
      "1925  2016-05-07  d_1926     11615  2        8.38\n",
      "1926  2016-05-08  d_1927     11615  3        8.38\n",
      "\n",
      "[1927 rows x 5 columns]\n"
     ]
    },
    {
     "name": "stderr",
     "output_type": "stream",
     "text": [
      "/var/folders/mh/nyq1nwnj337cbkn7t5jhtlq40000gp/T/ipykernel_50531/2171929331.py:7: SettingWithCopyWarning: \n",
      "A value is trying to be set on a copy of a slice from a DataFrame.\n",
      "Try using .loc[row_indexer,col_indexer] = value instead\n",
      "\n",
      "See the caveats in the documentation: https://pandas.pydata.org/pandas-docs/stable/user_guide/indexing.html#returning-a-view-versus-a-copy\n",
      "  df_train['y'] = train.loc[i,'d_1':].values\n"
     ]
    },
    {
     "name": "stdout",
     "output_type": "stream",
     "text": [
      "            date       d  wm_yr_wk  y  sell_price\n",
      "0     2011-01-29     d_1     11101  0         NaN\n",
      "1     2011-01-30     d_2     11101  0         NaN\n",
      "2     2011-01-31     d_3     11101  0         NaN\n",
      "3     2011-02-01     d_4     11101  0         NaN\n",
      "4     2011-02-02     d_5     11101  0         NaN\n",
      "...          ...     ...       ... ..         ...\n",
      "1922  2016-05-04  d_1923     11614  0        8.38\n",
      "1923  2016-05-05  d_1924     11614  0        8.38\n",
      "1924  2016-05-06  d_1925     11614  2        8.38\n",
      "1925  2016-05-07  d_1926     11615  1        8.38\n",
      "1926  2016-05-08  d_1927     11615  0        8.38\n",
      "\n",
      "[1927 rows x 5 columns]\n"
     ]
    },
    {
     "name": "stderr",
     "output_type": "stream",
     "text": [
      "/var/folders/mh/nyq1nwnj337cbkn7t5jhtlq40000gp/T/ipykernel_50531/2171929331.py:7: SettingWithCopyWarning: \n",
      "A value is trying to be set on a copy of a slice from a DataFrame.\n",
      "Try using .loc[row_indexer,col_indexer] = value instead\n",
      "\n",
      "See the caveats in the documentation: https://pandas.pydata.org/pandas-docs/stable/user_guide/indexing.html#returning-a-view-versus-a-copy\n",
      "  df_train['y'] = train.loc[i,'d_1':].values\n"
     ]
    },
    {
     "name": "stdout",
     "output_type": "stream",
     "text": [
      "            date       d  wm_yr_wk  y  sell_price\n",
      "0     2011-01-29     d_1     11101  0         NaN\n",
      "1     2011-01-30     d_2     11101  0         NaN\n",
      "2     2011-01-31     d_3     11101  0         NaN\n",
      "3     2011-02-01     d_4     11101  0         NaN\n",
      "4     2011-02-02     d_5     11101  0         NaN\n",
      "...          ...     ...       ... ..         ...\n",
      "1922  2016-05-04  d_1923     11614  0        8.38\n",
      "1923  2016-05-05  d_1924     11614  0        8.38\n",
      "1924  2016-05-06  d_1925     11614  0        8.38\n",
      "1925  2016-05-07  d_1926     11615  1        8.38\n",
      "1926  2016-05-08  d_1927     11615  0        8.38\n",
      "\n",
      "[1927 rows x 5 columns]\n"
     ]
    },
    {
     "name": "stderr",
     "output_type": "stream",
     "text": [
      "/var/folders/mh/nyq1nwnj337cbkn7t5jhtlq40000gp/T/ipykernel_50531/2171929331.py:7: SettingWithCopyWarning: \n",
      "A value is trying to be set on a copy of a slice from a DataFrame.\n",
      "Try using .loc[row_indexer,col_indexer] = value instead\n",
      "\n",
      "See the caveats in the documentation: https://pandas.pydata.org/pandas-docs/stable/user_guide/indexing.html#returning-a-view-versus-a-copy\n",
      "  df_train['y'] = train.loc[i,'d_1':].values\n"
     ]
    },
    {
     "name": "stdout",
     "output_type": "stream",
     "text": [
      "            date       d  wm_yr_wk   y  sell_price\n",
      "0     2011-01-29     d_1     11101  12         NaN\n",
      "1     2011-01-30     d_2     11101  15         NaN\n",
      "2     2011-01-31     d_3     11101   0         NaN\n",
      "3     2011-02-01     d_4     11101   0         NaN\n",
      "4     2011-02-02     d_5     11101   0         NaN\n",
      "...          ...     ...       ...  ..         ...\n",
      "1922  2016-05-04  d_1923     11614   8        8.38\n",
      "1923  2016-05-05  d_1924     11614   5        8.38\n",
      "1924  2016-05-06  d_1925     11614   8        8.38\n",
      "1925  2016-05-07  d_1926     11615   5        8.38\n",
      "1926  2016-05-08  d_1927     11615   0        8.38\n",
      "\n",
      "[1927 rows x 5 columns]\n"
     ]
    },
    {
     "name": "stderr",
     "output_type": "stream",
     "text": [
      "/var/folders/mh/nyq1nwnj337cbkn7t5jhtlq40000gp/T/ipykernel_50531/2171929331.py:7: SettingWithCopyWarning: \n",
      "A value is trying to be set on a copy of a slice from a DataFrame.\n",
      "Try using .loc[row_indexer,col_indexer] = value instead\n",
      "\n",
      "See the caveats in the documentation: https://pandas.pydata.org/pandas-docs/stable/user_guide/indexing.html#returning-a-view-versus-a-copy\n",
      "  df_train['y'] = train.loc[i,'d_1':].values\n"
     ]
    },
    {
     "name": "stdout",
     "output_type": "stream",
     "text": [
      "            date       d  wm_yr_wk  y  sell_price\n",
      "0     2011-01-29     d_1     11101  2         NaN\n",
      "1     2011-01-30     d_2     11101  0         NaN\n",
      "2     2011-01-31     d_3     11101  7         NaN\n",
      "3     2011-02-01     d_4     11101  3         NaN\n",
      "4     2011-02-02     d_5     11101  0         NaN\n",
      "...          ...     ...       ... ..         ...\n",
      "1922  2016-05-04  d_1923     11614  0        8.38\n",
      "1923  2016-05-05  d_1924     11614  8        8.38\n",
      "1924  2016-05-06  d_1925     11614  0        8.38\n",
      "1925  2016-05-07  d_1926     11615  0        8.38\n",
      "1926  2016-05-08  d_1927     11615  0        8.38\n",
      "\n",
      "[1927 rows x 5 columns]\n"
     ]
    },
    {
     "name": "stderr",
     "output_type": "stream",
     "text": [
      "/var/folders/mh/nyq1nwnj337cbkn7t5jhtlq40000gp/T/ipykernel_50531/2171929331.py:7: SettingWithCopyWarning: \n",
      "A value is trying to be set on a copy of a slice from a DataFrame.\n",
      "Try using .loc[row_indexer,col_indexer] = value instead\n",
      "\n",
      "See the caveats in the documentation: https://pandas.pydata.org/pandas-docs/stable/user_guide/indexing.html#returning-a-view-versus-a-copy\n",
      "  df_train['y'] = train.loc[i,'d_1':].values\n"
     ]
    },
    {
     "name": "stdout",
     "output_type": "stream",
     "text": [
      "            date       d  wm_yr_wk  y  sell_price\n",
      "0     2011-01-29     d_1     11101  0         NaN\n",
      "1     2011-01-30     d_2     11101  0         NaN\n",
      "2     2011-01-31     d_3     11101  1         NaN\n",
      "3     2011-02-01     d_4     11101  0         NaN\n",
      "4     2011-02-02     d_5     11101  0         NaN\n",
      "...          ...     ...       ... ..         ...\n",
      "1922  2016-05-04  d_1923     11614  0        8.38\n",
      "1923  2016-05-05  d_1924     11614  0        8.38\n",
      "1924  2016-05-06  d_1925     11614  2        8.38\n",
      "1925  2016-05-07  d_1926     11615  0        8.38\n",
      "1926  2016-05-08  d_1927     11615  2        8.38\n",
      "\n",
      "[1927 rows x 5 columns]\n"
     ]
    },
    {
     "name": "stderr",
     "output_type": "stream",
     "text": [
      "/var/folders/mh/nyq1nwnj337cbkn7t5jhtlq40000gp/T/ipykernel_50531/2171929331.py:7: SettingWithCopyWarning: \n",
      "A value is trying to be set on a copy of a slice from a DataFrame.\n",
      "Try using .loc[row_indexer,col_indexer] = value instead\n",
      "\n",
      "See the caveats in the documentation: https://pandas.pydata.org/pandas-docs/stable/user_guide/indexing.html#returning-a-view-versus-a-copy\n",
      "  df_train['y'] = train.loc[i,'d_1':].values\n",
      "/var/folders/mh/nyq1nwnj337cbkn7t5jhtlq40000gp/T/ipykernel_50531/2171929331.py:7: SettingWithCopyWarning: \n",
      "A value is trying to be set on a copy of a slice from a DataFrame.\n",
      "Try using .loc[row_indexer,col_indexer] = value instead\n",
      "\n",
      "See the caveats in the documentation: https://pandas.pydata.org/pandas-docs/stable/user_guide/indexing.html#returning-a-view-versus-a-copy\n",
      "  df_train['y'] = train.loc[i,'d_1':].values\n"
     ]
    },
    {
     "name": "stdout",
     "output_type": "stream",
     "text": [
      "            date       d  wm_yr_wk  y  sell_price\n",
      "0     2011-01-29     d_1     11101  0         NaN\n",
      "1     2011-01-30     d_2     11101  0         NaN\n",
      "2     2011-01-31     d_3     11101  0         NaN\n",
      "3     2011-02-01     d_4     11101  0         NaN\n",
      "4     2011-02-02     d_5     11101  0         NaN\n",
      "...          ...     ...       ... ..         ...\n",
      "1922  2016-05-04  d_1923     11614  0        8.38\n",
      "1923  2016-05-05  d_1924     11614  0        8.38\n",
      "1924  2016-05-06  d_1925     11614  0        8.38\n",
      "1925  2016-05-07  d_1926     11615  0        8.38\n",
      "1926  2016-05-08  d_1927     11615  0        8.38\n",
      "\n",
      "[1927 rows x 5 columns]\n",
      "            date       d  wm_yr_wk  y  sell_price\n",
      "0     2011-01-29     d_1     11101  0         NaN\n",
      "1     2011-01-30     d_2     11101  2         NaN\n",
      "2     2011-01-31     d_3     11101  0         NaN\n",
      "3     2011-02-01     d_4     11101  0         NaN\n",
      "4     2011-02-02     d_5     11101  0         NaN\n",
      "...          ...     ...       ... ..         ...\n",
      "1922  2016-05-04  d_1923     11614  0        8.38\n",
      "1923  2016-05-05  d_1924     11614  0        8.38\n",
      "1924  2016-05-06  d_1925     11614  1        8.38\n",
      "1925  2016-05-07  d_1926     11615  0        8.38\n",
      "1926  2016-05-08  d_1927     11615  0        8.38\n",
      "\n",
      "[1927 rows x 5 columns]\n"
     ]
    },
    {
     "name": "stderr",
     "output_type": "stream",
     "text": [
      "/var/folders/mh/nyq1nwnj337cbkn7t5jhtlq40000gp/T/ipykernel_50531/2171929331.py:7: SettingWithCopyWarning: \n",
      "A value is trying to be set on a copy of a slice from a DataFrame.\n",
      "Try using .loc[row_indexer,col_indexer] = value instead\n",
      "\n",
      "See the caveats in the documentation: https://pandas.pydata.org/pandas-docs/stable/user_guide/indexing.html#returning-a-view-versus-a-copy\n",
      "  df_train['y'] = train.loc[i,'d_1':].values\n"
     ]
    },
    {
     "name": "stdout",
     "output_type": "stream",
     "text": [
      "            date       d  wm_yr_wk  y  sell_price\n",
      "0     2011-01-29     d_1     11101  0         NaN\n",
      "1     2011-01-30     d_2     11101  0         NaN\n",
      "2     2011-01-31     d_3     11101  0         NaN\n",
      "3     2011-02-01     d_4     11101  0         NaN\n",
      "4     2011-02-02     d_5     11101  0         NaN\n",
      "...          ...     ...       ... ..         ...\n",
      "1922  2016-05-04  d_1923     11614  0        8.38\n",
      "1923  2016-05-05  d_1924     11614  0        8.38\n",
      "1924  2016-05-06  d_1925     11614  1        8.38\n",
      "1925  2016-05-07  d_1926     11615  0        8.38\n",
      "1926  2016-05-08  d_1927     11615  0        8.38\n",
      "\n",
      "[1927 rows x 5 columns]\n"
     ]
    },
    {
     "name": "stderr",
     "output_type": "stream",
     "text": [
      "/var/folders/mh/nyq1nwnj337cbkn7t5jhtlq40000gp/T/ipykernel_50531/2171929331.py:7: SettingWithCopyWarning: \n",
      "A value is trying to be set on a copy of a slice from a DataFrame.\n",
      "Try using .loc[row_indexer,col_indexer] = value instead\n",
      "\n",
      "See the caveats in the documentation: https://pandas.pydata.org/pandas-docs/stable/user_guide/indexing.html#returning-a-view-versus-a-copy\n",
      "  df_train['y'] = train.loc[i,'d_1':].values\n"
     ]
    },
    {
     "name": "stdout",
     "output_type": "stream",
     "text": [
      "            date       d  wm_yr_wk  y  sell_price\n",
      "0     2011-01-29     d_1     11101  0         NaN\n",
      "1     2011-01-30     d_2     11101  0         NaN\n",
      "2     2011-01-31     d_3     11101  0         NaN\n",
      "3     2011-02-01     d_4     11101  0         NaN\n",
      "4     2011-02-02     d_5     11101  0         NaN\n",
      "...          ...     ...       ... ..         ...\n",
      "1922  2016-05-04  d_1923     11614  3        8.38\n",
      "1923  2016-05-05  d_1924     11614  1        8.38\n",
      "1924  2016-05-06  d_1925     11614  4        8.38\n",
      "1925  2016-05-07  d_1926     11615  1        8.38\n",
      "1926  2016-05-08  d_1927     11615  2        8.38\n",
      "\n",
      "[1927 rows x 5 columns]\n"
     ]
    },
    {
     "name": "stderr",
     "output_type": "stream",
     "text": [
      "/var/folders/mh/nyq1nwnj337cbkn7t5jhtlq40000gp/T/ipykernel_50531/2171929331.py:7: SettingWithCopyWarning: \n",
      "A value is trying to be set on a copy of a slice from a DataFrame.\n",
      "Try using .loc[row_indexer,col_indexer] = value instead\n",
      "\n",
      "See the caveats in the documentation: https://pandas.pydata.org/pandas-docs/stable/user_guide/indexing.html#returning-a-view-versus-a-copy\n",
      "  df_train['y'] = train.loc[i,'d_1':].values\n"
     ]
    },
    {
     "name": "stdout",
     "output_type": "stream",
     "text": [
      "            date       d  wm_yr_wk  y  sell_price\n",
      "0     2011-01-29     d_1     11101  4         NaN\n",
      "1     2011-01-30     d_2     11101  0         NaN\n",
      "2     2011-01-31     d_3     11101  0         NaN\n",
      "3     2011-02-01     d_4     11101  5         NaN\n",
      "4     2011-02-02     d_5     11101  0         NaN\n",
      "...          ...     ...       ... ..         ...\n",
      "1922  2016-05-04  d_1923     11614  1        8.38\n",
      "1923  2016-05-05  d_1924     11614  0        8.38\n",
      "1924  2016-05-06  d_1925     11614  6        8.38\n",
      "1925  2016-05-07  d_1926     11615  5        8.38\n",
      "1926  2016-05-08  d_1927     11615  0        8.38\n",
      "\n",
      "[1927 rows x 5 columns]\n"
     ]
    },
    {
     "name": "stderr",
     "output_type": "stream",
     "text": [
      "/var/folders/mh/nyq1nwnj337cbkn7t5jhtlq40000gp/T/ipykernel_50531/2171929331.py:7: SettingWithCopyWarning: \n",
      "A value is trying to be set on a copy of a slice from a DataFrame.\n",
      "Try using .loc[row_indexer,col_indexer] = value instead\n",
      "\n",
      "See the caveats in the documentation: https://pandas.pydata.org/pandas-docs/stable/user_guide/indexing.html#returning-a-view-versus-a-copy\n",
      "  df_train['y'] = train.loc[i,'d_1':].values\n"
     ]
    },
    {
     "name": "stdout",
     "output_type": "stream",
     "text": [
      "            date       d  wm_yr_wk   y  sell_price\n",
      "0     2011-01-29     d_1     11101   5         NaN\n",
      "1     2011-01-30     d_2     11101   1         NaN\n",
      "2     2011-01-31     d_3     11101   3         NaN\n",
      "3     2011-02-01     d_4     11101   0         NaN\n",
      "4     2011-02-02     d_5     11101  15         NaN\n",
      "...          ...     ...       ...  ..         ...\n",
      "1922  2016-05-04  d_1923     11614   0        8.38\n",
      "1923  2016-05-05  d_1924     11614   5        8.38\n",
      "1924  2016-05-06  d_1925     11614   3        8.38\n",
      "1925  2016-05-07  d_1926     11615   4        8.38\n",
      "1926  2016-05-08  d_1927     11615   5        8.38\n",
      "\n",
      "[1927 rows x 5 columns]\n"
     ]
    },
    {
     "name": "stderr",
     "output_type": "stream",
     "text": [
      "/var/folders/mh/nyq1nwnj337cbkn7t5jhtlq40000gp/T/ipykernel_50531/2171929331.py:7: SettingWithCopyWarning: \n",
      "A value is trying to be set on a copy of a slice from a DataFrame.\n",
      "Try using .loc[row_indexer,col_indexer] = value instead\n",
      "\n",
      "See the caveats in the documentation: https://pandas.pydata.org/pandas-docs/stable/user_guide/indexing.html#returning-a-view-versus-a-copy\n",
      "  df_train['y'] = train.loc[i,'d_1':].values\n"
     ]
    },
    {
     "name": "stdout",
     "output_type": "stream",
     "text": [
      "            date       d  wm_yr_wk  y  sell_price\n",
      "0     2011-01-29     d_1     11101  0         NaN\n",
      "1     2011-01-30     d_2     11101  0         NaN\n",
      "2     2011-01-31     d_3     11101  0         NaN\n",
      "3     2011-02-01     d_4     11101  0         NaN\n",
      "4     2011-02-02     d_5     11101  0         NaN\n",
      "...          ...     ...       ... ..         ...\n",
      "1922  2016-05-04  d_1923     11614  5        8.38\n",
      "1923  2016-05-05  d_1924     11614  0        8.38\n",
      "1924  2016-05-06  d_1925     11614  2        8.38\n",
      "1925  2016-05-07  d_1926     11615  0        8.38\n",
      "1926  2016-05-08  d_1927     11615  1        8.38\n",
      "\n",
      "[1927 rows x 5 columns]\n"
     ]
    },
    {
     "name": "stderr",
     "output_type": "stream",
     "text": [
      "/var/folders/mh/nyq1nwnj337cbkn7t5jhtlq40000gp/T/ipykernel_50531/2171929331.py:7: SettingWithCopyWarning: \n",
      "A value is trying to be set on a copy of a slice from a DataFrame.\n",
      "Try using .loc[row_indexer,col_indexer] = value instead\n",
      "\n",
      "See the caveats in the documentation: https://pandas.pydata.org/pandas-docs/stable/user_guide/indexing.html#returning-a-view-versus-a-copy\n",
      "  df_train['y'] = train.loc[i,'d_1':].values\n"
     ]
    },
    {
     "name": "stdout",
     "output_type": "stream",
     "text": [
      "            date       d  wm_yr_wk  y  sell_price\n",
      "0     2011-01-29     d_1     11101  0         NaN\n",
      "1     2011-01-30     d_2     11101  0         NaN\n",
      "2     2011-01-31     d_3     11101  0         NaN\n",
      "3     2011-02-01     d_4     11101  0         NaN\n",
      "4     2011-02-02     d_5     11101  0         NaN\n",
      "...          ...     ...       ... ..         ...\n",
      "1922  2016-05-04  d_1923     11614  0        8.38\n",
      "1923  2016-05-05  d_1924     11614  0        8.38\n",
      "1924  2016-05-06  d_1925     11614  0        8.38\n",
      "1925  2016-05-07  d_1926     11615  0        8.38\n",
      "1926  2016-05-08  d_1927     11615  0        8.38\n",
      "\n",
      "[1927 rows x 5 columns]\n"
     ]
    },
    {
     "name": "stderr",
     "output_type": "stream",
     "text": [
      "/var/folders/mh/nyq1nwnj337cbkn7t5jhtlq40000gp/T/ipykernel_50531/2171929331.py:7: SettingWithCopyWarning: \n",
      "A value is trying to be set on a copy of a slice from a DataFrame.\n",
      "Try using .loc[row_indexer,col_indexer] = value instead\n",
      "\n",
      "See the caveats in the documentation: https://pandas.pydata.org/pandas-docs/stable/user_guide/indexing.html#returning-a-view-versus-a-copy\n",
      "  df_train['y'] = train.loc[i,'d_1':].values\n"
     ]
    },
    {
     "name": "stdout",
     "output_type": "stream",
     "text": [
      "            date       d  wm_yr_wk   y  sell_price\n",
      "0     2011-01-29     d_1     11101   0         NaN\n",
      "1     2011-01-30     d_2     11101   0         NaN\n",
      "2     2011-01-31     d_3     11101   0         NaN\n",
      "3     2011-02-01     d_4     11101   0         NaN\n",
      "4     2011-02-02     d_5     11101   0         NaN\n",
      "...          ...     ...       ...  ..         ...\n",
      "1922  2016-05-04  d_1923     11614   1        8.38\n",
      "1923  2016-05-05  d_1924     11614   7        8.38\n",
      "1924  2016-05-06  d_1925     11614   5        8.38\n",
      "1925  2016-05-07  d_1926     11615  10        8.38\n",
      "1926  2016-05-08  d_1927     11615   6        8.38\n",
      "\n",
      "[1927 rows x 5 columns]\n"
     ]
    },
    {
     "name": "stderr",
     "output_type": "stream",
     "text": [
      "/var/folders/mh/nyq1nwnj337cbkn7t5jhtlq40000gp/T/ipykernel_50531/2171929331.py:7: SettingWithCopyWarning: \n",
      "A value is trying to be set on a copy of a slice from a DataFrame.\n",
      "Try using .loc[row_indexer,col_indexer] = value instead\n",
      "\n",
      "See the caveats in the documentation: https://pandas.pydata.org/pandas-docs/stable/user_guide/indexing.html#returning-a-view-versus-a-copy\n",
      "  df_train['y'] = train.loc[i,'d_1':].values\n"
     ]
    },
    {
     "name": "stdout",
     "output_type": "stream",
     "text": [
      "            date       d  wm_yr_wk  y  sell_price\n",
      "0     2011-01-29     d_1     11101  0         NaN\n",
      "1     2011-01-30     d_2     11101  0         NaN\n",
      "2     2011-01-31     d_3     11101  0         NaN\n",
      "3     2011-02-01     d_4     11101  0         NaN\n",
      "4     2011-02-02     d_5     11101  0         NaN\n",
      "...          ...     ...       ... ..         ...\n",
      "1922  2016-05-04  d_1923     11614  0        8.38\n",
      "1923  2016-05-05  d_1924     11614  0        8.38\n",
      "1924  2016-05-06  d_1925     11614  0        8.38\n",
      "1925  2016-05-07  d_1926     11615  0        8.38\n",
      "1926  2016-05-08  d_1927     11615  0        8.38\n",
      "\n",
      "[1927 rows x 5 columns]\n"
     ]
    },
    {
     "name": "stderr",
     "output_type": "stream",
     "text": [
      "/var/folders/mh/nyq1nwnj337cbkn7t5jhtlq40000gp/T/ipykernel_50531/2171929331.py:7: SettingWithCopyWarning: \n",
      "A value is trying to be set on a copy of a slice from a DataFrame.\n",
      "Try using .loc[row_indexer,col_indexer] = value instead\n",
      "\n",
      "See the caveats in the documentation: https://pandas.pydata.org/pandas-docs/stable/user_guide/indexing.html#returning-a-view-versus-a-copy\n",
      "  df_train['y'] = train.loc[i,'d_1':].values\n"
     ]
    },
    {
     "name": "stdout",
     "output_type": "stream",
     "text": [
      "            date       d  wm_yr_wk  y  sell_price\n",
      "0     2011-01-29     d_1     11101  0         NaN\n",
      "1     2011-01-30     d_2     11101  0         NaN\n",
      "2     2011-01-31     d_3     11101  0         NaN\n",
      "3     2011-02-01     d_4     11101  0         NaN\n",
      "4     2011-02-02     d_5     11101  0         NaN\n",
      "...          ...     ...       ... ..         ...\n",
      "1922  2016-05-04  d_1923     11614  1        8.38\n",
      "1923  2016-05-05  d_1924     11614  2        8.38\n",
      "1924  2016-05-06  d_1925     11614  0        8.38\n",
      "1925  2016-05-07  d_1926     11615  2        8.38\n",
      "1926  2016-05-08  d_1927     11615  0        8.38\n",
      "\n",
      "[1927 rows x 5 columns]\n"
     ]
    },
    {
     "name": "stderr",
     "output_type": "stream",
     "text": [
      "/var/folders/mh/nyq1nwnj337cbkn7t5jhtlq40000gp/T/ipykernel_50531/2171929331.py:7: SettingWithCopyWarning: \n",
      "A value is trying to be set on a copy of a slice from a DataFrame.\n",
      "Try using .loc[row_indexer,col_indexer] = value instead\n",
      "\n",
      "See the caveats in the documentation: https://pandas.pydata.org/pandas-docs/stable/user_guide/indexing.html#returning-a-view-versus-a-copy\n",
      "  df_train['y'] = train.loc[i,'d_1':].values\n"
     ]
    },
    {
     "name": "stdout",
     "output_type": "stream",
     "text": [
      "            date       d  wm_yr_wk  y  sell_price\n",
      "0     2011-01-29     d_1     11101  2         NaN\n",
      "1     2011-01-30     d_2     11101  1         NaN\n",
      "2     2011-01-31     d_3     11101  1         NaN\n",
      "3     2011-02-01     d_4     11101  1         NaN\n",
      "4     2011-02-02     d_5     11101  0         NaN\n",
      "...          ...     ...       ... ..         ...\n",
      "1922  2016-05-04  d_1923     11614  0        8.38\n",
      "1923  2016-05-05  d_1924     11614  0        8.38\n",
      "1924  2016-05-06  d_1925     11614  0        8.38\n",
      "1925  2016-05-07  d_1926     11615  0        8.38\n",
      "1926  2016-05-08  d_1927     11615  0        8.38\n",
      "\n",
      "[1927 rows x 5 columns]\n"
     ]
    },
    {
     "name": "stderr",
     "output_type": "stream",
     "text": [
      "/var/folders/mh/nyq1nwnj337cbkn7t5jhtlq40000gp/T/ipykernel_50531/2171929331.py:7: SettingWithCopyWarning: \n",
      "A value is trying to be set on a copy of a slice from a DataFrame.\n",
      "Try using .loc[row_indexer,col_indexer] = value instead\n",
      "\n",
      "See the caveats in the documentation: https://pandas.pydata.org/pandas-docs/stable/user_guide/indexing.html#returning-a-view-versus-a-copy\n",
      "  df_train['y'] = train.loc[i,'d_1':].values\n"
     ]
    },
    {
     "name": "stdout",
     "output_type": "stream",
     "text": [
      "            date       d  wm_yr_wk  y  sell_price\n",
      "0     2011-01-29     d_1     11101  2         NaN\n",
      "1     2011-01-30     d_2     11101  1         NaN\n",
      "2     2011-01-31     d_3     11101  0         NaN\n",
      "3     2011-02-01     d_4     11101  0         NaN\n",
      "4     2011-02-02     d_5     11101  2         NaN\n",
      "...          ...     ...       ... ..         ...\n",
      "1922  2016-05-04  d_1923     11614  1        8.38\n",
      "1923  2016-05-05  d_1924     11614  0        8.38\n",
      "1924  2016-05-06  d_1925     11614  4        8.38\n",
      "1925  2016-05-07  d_1926     11615  2        8.38\n",
      "1926  2016-05-08  d_1927     11615  0        8.38\n",
      "\n",
      "[1927 rows x 5 columns]\n"
     ]
    },
    {
     "name": "stderr",
     "output_type": "stream",
     "text": [
      "/var/folders/mh/nyq1nwnj337cbkn7t5jhtlq40000gp/T/ipykernel_50531/2171929331.py:7: SettingWithCopyWarning: \n",
      "A value is trying to be set on a copy of a slice from a DataFrame.\n",
      "Try using .loc[row_indexer,col_indexer] = value instead\n",
      "\n",
      "See the caveats in the documentation: https://pandas.pydata.org/pandas-docs/stable/user_guide/indexing.html#returning-a-view-versus-a-copy\n",
      "  df_train['y'] = train.loc[i,'d_1':].values\n"
     ]
    },
    {
     "name": "stdout",
     "output_type": "stream",
     "text": [
      "            date       d  wm_yr_wk  y  sell_price\n",
      "0     2011-01-29     d_1     11101  0         NaN\n",
      "1     2011-01-30     d_2     11101  0         NaN\n",
      "2     2011-01-31     d_3     11101  0         NaN\n",
      "3     2011-02-01     d_4     11101  0         NaN\n",
      "4     2011-02-02     d_5     11101  0         NaN\n",
      "...          ...     ...       ... ..         ...\n",
      "1922  2016-05-04  d_1923     11614  0        8.38\n",
      "1923  2016-05-05  d_1924     11614  0        8.38\n",
      "1924  2016-05-06  d_1925     11614  0        8.38\n",
      "1925  2016-05-07  d_1926     11615  1        8.38\n",
      "1926  2016-05-08  d_1927     11615  0        8.38\n",
      "\n",
      "[1927 rows x 5 columns]\n"
     ]
    },
    {
     "name": "stderr",
     "output_type": "stream",
     "text": [
      "/var/folders/mh/nyq1nwnj337cbkn7t5jhtlq40000gp/T/ipykernel_50531/2171929331.py:7: SettingWithCopyWarning: \n",
      "A value is trying to be set on a copy of a slice from a DataFrame.\n",
      "Try using .loc[row_indexer,col_indexer] = value instead\n",
      "\n",
      "See the caveats in the documentation: https://pandas.pydata.org/pandas-docs/stable/user_guide/indexing.html#returning-a-view-versus-a-copy\n",
      "  df_train['y'] = train.loc[i,'d_1':].values\n"
     ]
    },
    {
     "name": "stdout",
     "output_type": "stream",
     "text": [
      "            date       d  wm_yr_wk  y  sell_price\n",
      "0     2011-01-29     d_1     11101  0         NaN\n",
      "1     2011-01-30     d_2     11101  0         NaN\n",
      "2     2011-01-31     d_3     11101  0         NaN\n",
      "3     2011-02-01     d_4     11101  0         NaN\n",
      "4     2011-02-02     d_5     11101  0         NaN\n",
      "...          ...     ...       ... ..         ...\n",
      "1922  2016-05-04  d_1923     11614  1        8.38\n",
      "1923  2016-05-05  d_1924     11614  0        8.38\n",
      "1924  2016-05-06  d_1925     11614  0        8.38\n",
      "1925  2016-05-07  d_1926     11615  1        8.38\n",
      "1926  2016-05-08  d_1927     11615  2        8.38\n",
      "\n",
      "[1927 rows x 5 columns]\n"
     ]
    },
    {
     "name": "stderr",
     "output_type": "stream",
     "text": [
      "/var/folders/mh/nyq1nwnj337cbkn7t5jhtlq40000gp/T/ipykernel_50531/2171929331.py:7: SettingWithCopyWarning: \n",
      "A value is trying to be set on a copy of a slice from a DataFrame.\n",
      "Try using .loc[row_indexer,col_indexer] = value instead\n",
      "\n",
      "See the caveats in the documentation: https://pandas.pydata.org/pandas-docs/stable/user_guide/indexing.html#returning-a-view-versus-a-copy\n",
      "  df_train['y'] = train.loc[i,'d_1':].values\n"
     ]
    },
    {
     "name": "stdout",
     "output_type": "stream",
     "text": [
      "            date       d  wm_yr_wk  y  sell_price\n",
      "0     2011-01-29     d_1     11101  0         NaN\n",
      "1     2011-01-30     d_2     11101  0         NaN\n",
      "2     2011-01-31     d_3     11101  0         NaN\n",
      "3     2011-02-01     d_4     11101  0         NaN\n",
      "4     2011-02-02     d_5     11101  0         NaN\n",
      "...          ...     ...       ... ..         ...\n",
      "1922  2016-05-04  d_1923     11614  0        8.38\n",
      "1923  2016-05-05  d_1924     11614  0        8.38\n",
      "1924  2016-05-06  d_1925     11614  0        8.38\n",
      "1925  2016-05-07  d_1926     11615  0        8.38\n",
      "1926  2016-05-08  d_1927     11615  1        8.38\n",
      "\n",
      "[1927 rows x 5 columns]\n"
     ]
    },
    {
     "name": "stderr",
     "output_type": "stream",
     "text": [
      "/var/folders/mh/nyq1nwnj337cbkn7t5jhtlq40000gp/T/ipykernel_50531/2171929331.py:7: SettingWithCopyWarning: \n",
      "A value is trying to be set on a copy of a slice from a DataFrame.\n",
      "Try using .loc[row_indexer,col_indexer] = value instead\n",
      "\n",
      "See the caveats in the documentation: https://pandas.pydata.org/pandas-docs/stable/user_guide/indexing.html#returning-a-view-versus-a-copy\n",
      "  df_train['y'] = train.loc[i,'d_1':].values\n"
     ]
    },
    {
     "name": "stdout",
     "output_type": "stream",
     "text": [
      "            date       d  wm_yr_wk  y  sell_price\n",
      "0     2011-01-29     d_1     11101  0         NaN\n",
      "1     2011-01-30     d_2     11101  0         NaN\n",
      "2     2011-01-31     d_3     11101  0         NaN\n",
      "3     2011-02-01     d_4     11101  0         NaN\n",
      "4     2011-02-02     d_5     11101  0         NaN\n",
      "...          ...     ...       ... ..         ...\n",
      "1922  2016-05-04  d_1923     11614  0        8.38\n",
      "1923  2016-05-05  d_1924     11614  1        8.38\n",
      "1924  2016-05-06  d_1925     11614  0        8.38\n",
      "1925  2016-05-07  d_1926     11615  4        8.38\n",
      "1926  2016-05-08  d_1927     11615  0        8.38\n",
      "\n",
      "[1927 rows x 5 columns]\n"
     ]
    },
    {
     "name": "stderr",
     "output_type": "stream",
     "text": [
      "/var/folders/mh/nyq1nwnj337cbkn7t5jhtlq40000gp/T/ipykernel_50531/2171929331.py:7: SettingWithCopyWarning: \n",
      "A value is trying to be set on a copy of a slice from a DataFrame.\n",
      "Try using .loc[row_indexer,col_indexer] = value instead\n",
      "\n",
      "See the caveats in the documentation: https://pandas.pydata.org/pandas-docs/stable/user_guide/indexing.html#returning-a-view-versus-a-copy\n",
      "  df_train['y'] = train.loc[i,'d_1':].values\n"
     ]
    },
    {
     "name": "stdout",
     "output_type": "stream",
     "text": [
      "            date       d  wm_yr_wk  y  sell_price\n",
      "0     2011-01-29     d_1     11101  0         NaN\n",
      "1     2011-01-30     d_2     11101  0         NaN\n",
      "2     2011-01-31     d_3     11101  0         NaN\n",
      "3     2011-02-01     d_4     11101  0         NaN\n",
      "4     2011-02-02     d_5     11101  1         NaN\n",
      "...          ...     ...       ... ..         ...\n",
      "1922  2016-05-04  d_1923     11614  2        8.38\n",
      "1923  2016-05-05  d_1924     11614  0        8.38\n",
      "1924  2016-05-06  d_1925     11614  2        8.38\n",
      "1925  2016-05-07  d_1926     11615  4        8.38\n",
      "1926  2016-05-08  d_1927     11615  0        8.38\n",
      "\n",
      "[1927 rows x 5 columns]\n"
     ]
    },
    {
     "name": "stderr",
     "output_type": "stream",
     "text": [
      "/var/folders/mh/nyq1nwnj337cbkn7t5jhtlq40000gp/T/ipykernel_50531/2171929331.py:7: SettingWithCopyWarning: \n",
      "A value is trying to be set on a copy of a slice from a DataFrame.\n",
      "Try using .loc[row_indexer,col_indexer] = value instead\n",
      "\n",
      "See the caveats in the documentation: https://pandas.pydata.org/pandas-docs/stable/user_guide/indexing.html#returning-a-view-versus-a-copy\n",
      "  df_train['y'] = train.loc[i,'d_1':].values\n"
     ]
    },
    {
     "name": "stdout",
     "output_type": "stream",
     "text": [
      "            date       d  wm_yr_wk  y  sell_price\n",
      "0     2011-01-29     d_1     11101  2         NaN\n",
      "1     2011-01-30     d_2     11101  0         NaN\n",
      "2     2011-01-31     d_3     11101  3         NaN\n",
      "3     2011-02-01     d_4     11101  0         NaN\n",
      "4     2011-02-02     d_5     11101  0         NaN\n",
      "...          ...     ...       ... ..         ...\n",
      "1922  2016-05-04  d_1923     11614  3        8.38\n",
      "1923  2016-05-05  d_1924     11614  1        8.38\n",
      "1924  2016-05-06  d_1925     11614  0        8.38\n",
      "1925  2016-05-07  d_1926     11615  3        8.38\n",
      "1926  2016-05-08  d_1927     11615  2        8.38\n",
      "\n",
      "[1927 rows x 5 columns]\n"
     ]
    },
    {
     "name": "stderr",
     "output_type": "stream",
     "text": [
      "/var/folders/mh/nyq1nwnj337cbkn7t5jhtlq40000gp/T/ipykernel_50531/2171929331.py:7: SettingWithCopyWarning: \n",
      "A value is trying to be set on a copy of a slice from a DataFrame.\n",
      "Try using .loc[row_indexer,col_indexer] = value instead\n",
      "\n",
      "See the caveats in the documentation: https://pandas.pydata.org/pandas-docs/stable/user_guide/indexing.html#returning-a-view-versus-a-copy\n",
      "  df_train['y'] = train.loc[i,'d_1':].values\n"
     ]
    },
    {
     "name": "stdout",
     "output_type": "stream",
     "text": [
      "            date       d  wm_yr_wk   y  sell_price\n",
      "0     2011-01-29     d_1     11101   0         NaN\n",
      "1     2011-01-30     d_2     11101   0         NaN\n",
      "2     2011-01-31     d_3     11101   0         NaN\n",
      "3     2011-02-01     d_4     11101   0         NaN\n",
      "4     2011-02-02     d_5     11101   0         NaN\n",
      "...          ...     ...       ...  ..         ...\n",
      "1922  2016-05-04  d_1923     11614   9        8.38\n",
      "1923  2016-05-05  d_1924     11614   3        8.38\n",
      "1924  2016-05-06  d_1925     11614  13        8.38\n",
      "1925  2016-05-07  d_1926     11615   1        8.38\n",
      "1926  2016-05-08  d_1927     11615   9        8.38\n",
      "\n",
      "[1927 rows x 5 columns]\n"
     ]
    },
    {
     "name": "stderr",
     "output_type": "stream",
     "text": [
      "/var/folders/mh/nyq1nwnj337cbkn7t5jhtlq40000gp/T/ipykernel_50531/2171929331.py:7: SettingWithCopyWarning: \n",
      "A value is trying to be set on a copy of a slice from a DataFrame.\n",
      "Try using .loc[row_indexer,col_indexer] = value instead\n",
      "\n",
      "See the caveats in the documentation: https://pandas.pydata.org/pandas-docs/stable/user_guide/indexing.html#returning-a-view-versus-a-copy\n",
      "  df_train['y'] = train.loc[i,'d_1':].values\n"
     ]
    },
    {
     "name": "stdout",
     "output_type": "stream",
     "text": [
      "            date       d  wm_yr_wk  y  sell_price\n",
      "0     2011-01-29     d_1     11101  0         NaN\n",
      "1     2011-01-30     d_2     11101  0         NaN\n",
      "2     2011-01-31     d_3     11101  0         NaN\n",
      "3     2011-02-01     d_4     11101  0         NaN\n",
      "4     2011-02-02     d_5     11101  0         NaN\n",
      "...          ...     ...       ... ..         ...\n",
      "1922  2016-05-04  d_1923     11614  0        8.38\n",
      "1923  2016-05-05  d_1924     11614  0        8.38\n",
      "1924  2016-05-06  d_1925     11614  0        8.38\n",
      "1925  2016-05-07  d_1926     11615  0        8.38\n",
      "1926  2016-05-08  d_1927     11615  0        8.38\n",
      "\n",
      "[1927 rows x 5 columns]\n"
     ]
    },
    {
     "name": "stderr",
     "output_type": "stream",
     "text": [
      "/var/folders/mh/nyq1nwnj337cbkn7t5jhtlq40000gp/T/ipykernel_50531/2171929331.py:7: SettingWithCopyWarning: \n",
      "A value is trying to be set on a copy of a slice from a DataFrame.\n",
      "Try using .loc[row_indexer,col_indexer] = value instead\n",
      "\n",
      "See the caveats in the documentation: https://pandas.pydata.org/pandas-docs/stable/user_guide/indexing.html#returning-a-view-versus-a-copy\n",
      "  df_train['y'] = train.loc[i,'d_1':].values\n"
     ]
    },
    {
     "name": "stdout",
     "output_type": "stream",
     "text": [
      "            date       d  wm_yr_wk   y  sell_price\n",
      "0     2011-01-29     d_1     11101   9         NaN\n",
      "1     2011-01-30     d_2     11101   0         NaN\n",
      "2     2011-01-31     d_3     11101   5         NaN\n",
      "3     2011-02-01     d_4     11101  16         NaN\n",
      "4     2011-02-02     d_5     11101   8         NaN\n",
      "...          ...     ...       ...  ..         ...\n",
      "1922  2016-05-04  d_1923     11614   6        8.38\n",
      "1923  2016-05-05  d_1924     11614   2        8.38\n",
      "1924  2016-05-06  d_1925     11614   0        8.38\n",
      "1925  2016-05-07  d_1926     11615   5        8.38\n",
      "1926  2016-05-08  d_1927     11615   8        8.38\n",
      "\n",
      "[1927 rows x 5 columns]\n"
     ]
    },
    {
     "name": "stderr",
     "output_type": "stream",
     "text": [
      "/var/folders/mh/nyq1nwnj337cbkn7t5jhtlq40000gp/T/ipykernel_50531/2171929331.py:7: SettingWithCopyWarning: \n",
      "A value is trying to be set on a copy of a slice from a DataFrame.\n",
      "Try using .loc[row_indexer,col_indexer] = value instead\n",
      "\n",
      "See the caveats in the documentation: https://pandas.pydata.org/pandas-docs/stable/user_guide/indexing.html#returning-a-view-versus-a-copy\n",
      "  df_train['y'] = train.loc[i,'d_1':].values\n"
     ]
    },
    {
     "name": "stdout",
     "output_type": "stream",
     "text": [
      "            date       d  wm_yr_wk  y  sell_price\n",
      "0     2011-01-29     d_1     11101  0         NaN\n",
      "1     2011-01-30     d_2     11101  0         NaN\n",
      "2     2011-01-31     d_3     11101  0         NaN\n",
      "3     2011-02-01     d_4     11101  0         NaN\n",
      "4     2011-02-02     d_5     11101  0         NaN\n",
      "...          ...     ...       ... ..         ...\n",
      "1922  2016-05-04  d_1923     11614  0        8.38\n",
      "1923  2016-05-05  d_1924     11614  0        8.38\n",
      "1924  2016-05-06  d_1925     11614  0        8.38\n",
      "1925  2016-05-07  d_1926     11615  0        8.38\n",
      "1926  2016-05-08  d_1927     11615  2        8.38\n",
      "\n",
      "[1927 rows x 5 columns]\n"
     ]
    },
    {
     "name": "stderr",
     "output_type": "stream",
     "text": [
      "/var/folders/mh/nyq1nwnj337cbkn7t5jhtlq40000gp/T/ipykernel_50531/2171929331.py:7: SettingWithCopyWarning: \n",
      "A value is trying to be set on a copy of a slice from a DataFrame.\n",
      "Try using .loc[row_indexer,col_indexer] = value instead\n",
      "\n",
      "See the caveats in the documentation: https://pandas.pydata.org/pandas-docs/stable/user_guide/indexing.html#returning-a-view-versus-a-copy\n",
      "  df_train['y'] = train.loc[i,'d_1':].values\n"
     ]
    },
    {
     "name": "stdout",
     "output_type": "stream",
     "text": [
      "            date       d  wm_yr_wk  y  sell_price\n",
      "0     2011-01-29     d_1     11101  0         NaN\n",
      "1     2011-01-30     d_2     11101  0         NaN\n",
      "2     2011-01-31     d_3     11101  0         NaN\n",
      "3     2011-02-01     d_4     11101  0         NaN\n",
      "4     2011-02-02     d_5     11101  0         NaN\n",
      "...          ...     ...       ... ..         ...\n",
      "1922  2016-05-04  d_1923     11614  2        8.38\n",
      "1923  2016-05-05  d_1924     11614  2        8.38\n",
      "1924  2016-05-06  d_1925     11614  0        8.38\n",
      "1925  2016-05-07  d_1926     11615  0        8.38\n",
      "1926  2016-05-08  d_1927     11615  0        8.38\n",
      "\n",
      "[1927 rows x 5 columns]\n"
     ]
    },
    {
     "name": "stderr",
     "output_type": "stream",
     "text": [
      "/var/folders/mh/nyq1nwnj337cbkn7t5jhtlq40000gp/T/ipykernel_50531/2171929331.py:7: SettingWithCopyWarning: \n",
      "A value is trying to be set on a copy of a slice from a DataFrame.\n",
      "Try using .loc[row_indexer,col_indexer] = value instead\n",
      "\n",
      "See the caveats in the documentation: https://pandas.pydata.org/pandas-docs/stable/user_guide/indexing.html#returning-a-view-versus-a-copy\n",
      "  df_train['y'] = train.loc[i,'d_1':].values\n"
     ]
    },
    {
     "name": "stdout",
     "output_type": "stream",
     "text": [
      "            date       d  wm_yr_wk  y  sell_price\n",
      "0     2011-01-29     d_1     11101  0         NaN\n",
      "1     2011-01-30     d_2     11101  0         NaN\n",
      "2     2011-01-31     d_3     11101  0         NaN\n",
      "3     2011-02-01     d_4     11101  0         NaN\n",
      "4     2011-02-02     d_5     11101  0         NaN\n",
      "...          ...     ...       ... ..         ...\n",
      "1922  2016-05-04  d_1923     11614  0        8.38\n",
      "1923  2016-05-05  d_1924     11614  1        8.38\n",
      "1924  2016-05-06  d_1925     11614  0        8.38\n",
      "1925  2016-05-07  d_1926     11615  0        8.38\n",
      "1926  2016-05-08  d_1927     11615  0        8.38\n",
      "\n",
      "[1927 rows x 5 columns]\n"
     ]
    },
    {
     "name": "stderr",
     "output_type": "stream",
     "text": [
      "/var/folders/mh/nyq1nwnj337cbkn7t5jhtlq40000gp/T/ipykernel_50531/2171929331.py:7: SettingWithCopyWarning: \n",
      "A value is trying to be set on a copy of a slice from a DataFrame.\n",
      "Try using .loc[row_indexer,col_indexer] = value instead\n",
      "\n",
      "See the caveats in the documentation: https://pandas.pydata.org/pandas-docs/stable/user_guide/indexing.html#returning-a-view-versus-a-copy\n",
      "  df_train['y'] = train.loc[i,'d_1':].values\n"
     ]
    },
    {
     "name": "stdout",
     "output_type": "stream",
     "text": [
      "            date       d  wm_yr_wk  y  sell_price\n",
      "0     2011-01-29     d_1     11101  2         NaN\n",
      "1     2011-01-30     d_2     11101  1         NaN\n",
      "2     2011-01-31     d_3     11101  0         NaN\n",
      "3     2011-02-01     d_4     11101  0         NaN\n",
      "4     2011-02-02     d_5     11101  0         NaN\n",
      "...          ...     ...       ... ..         ...\n",
      "1922  2016-05-04  d_1923     11614  0        8.38\n",
      "1923  2016-05-05  d_1924     11614  3        8.38\n",
      "1924  2016-05-06  d_1925     11614  1        8.38\n",
      "1925  2016-05-07  d_1926     11615  4        8.38\n",
      "1926  2016-05-08  d_1927     11615  0        8.38\n",
      "\n",
      "[1927 rows x 5 columns]\n"
     ]
    },
    {
     "name": "stderr",
     "output_type": "stream",
     "text": [
      "/var/folders/mh/nyq1nwnj337cbkn7t5jhtlq40000gp/T/ipykernel_50531/2171929331.py:7: SettingWithCopyWarning: \n",
      "A value is trying to be set on a copy of a slice from a DataFrame.\n",
      "Try using .loc[row_indexer,col_indexer] = value instead\n",
      "\n",
      "See the caveats in the documentation: https://pandas.pydata.org/pandas-docs/stable/user_guide/indexing.html#returning-a-view-versus-a-copy\n",
      "  df_train['y'] = train.loc[i,'d_1':].values\n"
     ]
    },
    {
     "name": "stdout",
     "output_type": "stream",
     "text": [
      "            date       d  wm_yr_wk  y  sell_price\n",
      "0     2011-01-29     d_1     11101  0         NaN\n",
      "1     2011-01-30     d_2     11101  0         NaN\n",
      "2     2011-01-31     d_3     11101  0         NaN\n",
      "3     2011-02-01     d_4     11101  0         NaN\n",
      "4     2011-02-02     d_5     11101  0         NaN\n",
      "...          ...     ...       ... ..         ...\n",
      "1922  2016-05-04  d_1923     11614  0        8.38\n",
      "1923  2016-05-05  d_1924     11614  0        8.38\n",
      "1924  2016-05-06  d_1925     11614  0        8.38\n",
      "1925  2016-05-07  d_1926     11615  3        8.38\n",
      "1926  2016-05-08  d_1927     11615  1        8.38\n",
      "\n",
      "[1927 rows x 5 columns]\n"
     ]
    },
    {
     "name": "stderr",
     "output_type": "stream",
     "text": [
      "/var/folders/mh/nyq1nwnj337cbkn7t5jhtlq40000gp/T/ipykernel_50531/2171929331.py:7: SettingWithCopyWarning: \n",
      "A value is trying to be set on a copy of a slice from a DataFrame.\n",
      "Try using .loc[row_indexer,col_indexer] = value instead\n",
      "\n",
      "See the caveats in the documentation: https://pandas.pydata.org/pandas-docs/stable/user_guide/indexing.html#returning-a-view-versus-a-copy\n",
      "  df_train['y'] = train.loc[i,'d_1':].values\n"
     ]
    },
    {
     "name": "stdout",
     "output_type": "stream",
     "text": [
      "            date       d  wm_yr_wk  y  sell_price\n",
      "0     2011-01-29     d_1     11101  0         NaN\n",
      "1     2011-01-30     d_2     11101  1         NaN\n",
      "2     2011-01-31     d_3     11101  1         NaN\n",
      "3     2011-02-01     d_4     11101  1         NaN\n",
      "4     2011-02-02     d_5     11101  0         NaN\n",
      "...          ...     ...       ... ..         ...\n",
      "1922  2016-05-04  d_1923     11614  2        8.38\n",
      "1923  2016-05-05  d_1924     11614  0        8.38\n",
      "1924  2016-05-06  d_1925     11614  0        8.38\n",
      "1925  2016-05-07  d_1926     11615  1        8.38\n",
      "1926  2016-05-08  d_1927     11615  3        8.38\n",
      "\n",
      "[1927 rows x 5 columns]\n"
     ]
    },
    {
     "name": "stderr",
     "output_type": "stream",
     "text": [
      "/var/folders/mh/nyq1nwnj337cbkn7t5jhtlq40000gp/T/ipykernel_50531/2171929331.py:7: SettingWithCopyWarning: \n",
      "A value is trying to be set on a copy of a slice from a DataFrame.\n",
      "Try using .loc[row_indexer,col_indexer] = value instead\n",
      "\n",
      "See the caveats in the documentation: https://pandas.pydata.org/pandas-docs/stable/user_guide/indexing.html#returning-a-view-versus-a-copy\n",
      "  df_train['y'] = train.loc[i,'d_1':].values\n"
     ]
    },
    {
     "name": "stdout",
     "output_type": "stream",
     "text": [
      "            date       d  wm_yr_wk  y  sell_price\n",
      "0     2011-01-29     d_1     11101  0         NaN\n",
      "1     2011-01-30     d_2     11101  0         NaN\n",
      "2     2011-01-31     d_3     11101  0         NaN\n",
      "3     2011-02-01     d_4     11101  0         NaN\n",
      "4     2011-02-02     d_5     11101  0         NaN\n",
      "...          ...     ...       ... ..         ...\n",
      "1922  2016-05-04  d_1923     11614  0        8.38\n",
      "1923  2016-05-05  d_1924     11614  0        8.38\n",
      "1924  2016-05-06  d_1925     11614  0        8.38\n",
      "1925  2016-05-07  d_1926     11615  0        8.38\n",
      "1926  2016-05-08  d_1927     11615  0        8.38\n",
      "\n",
      "[1927 rows x 5 columns]\n"
     ]
    },
    {
     "name": "stderr",
     "output_type": "stream",
     "text": [
      "/var/folders/mh/nyq1nwnj337cbkn7t5jhtlq40000gp/T/ipykernel_50531/2171929331.py:7: SettingWithCopyWarning: \n",
      "A value is trying to be set on a copy of a slice from a DataFrame.\n",
      "Try using .loc[row_indexer,col_indexer] = value instead\n",
      "\n",
      "See the caveats in the documentation: https://pandas.pydata.org/pandas-docs/stable/user_guide/indexing.html#returning-a-view-versus-a-copy\n",
      "  df_train['y'] = train.loc[i,'d_1':].values\n"
     ]
    },
    {
     "name": "stdout",
     "output_type": "stream",
     "text": [
      "            date       d  wm_yr_wk  y  sell_price\n",
      "0     2011-01-29     d_1     11101  0         NaN\n",
      "1     2011-01-30     d_2     11101  0         NaN\n",
      "2     2011-01-31     d_3     11101  0         NaN\n",
      "3     2011-02-01     d_4     11101  0         NaN\n",
      "4     2011-02-02     d_5     11101  0         NaN\n",
      "...          ...     ...       ... ..         ...\n",
      "1922  2016-05-04  d_1923     11614  1        8.38\n",
      "1923  2016-05-05  d_1924     11614  0        8.38\n",
      "1924  2016-05-06  d_1925     11614  1        8.38\n",
      "1925  2016-05-07  d_1926     11615  1        8.38\n",
      "1926  2016-05-08  d_1927     11615  1        8.38\n",
      "\n",
      "[1927 rows x 5 columns]\n"
     ]
    },
    {
     "name": "stderr",
     "output_type": "stream",
     "text": [
      "/var/folders/mh/nyq1nwnj337cbkn7t5jhtlq40000gp/T/ipykernel_50531/2171929331.py:7: SettingWithCopyWarning: \n",
      "A value is trying to be set on a copy of a slice from a DataFrame.\n",
      "Try using .loc[row_indexer,col_indexer] = value instead\n",
      "\n",
      "See the caveats in the documentation: https://pandas.pydata.org/pandas-docs/stable/user_guide/indexing.html#returning-a-view-versus-a-copy\n",
      "  df_train['y'] = train.loc[i,'d_1':].values\n"
     ]
    },
    {
     "name": "stdout",
     "output_type": "stream",
     "text": [
      "            date       d  wm_yr_wk  y  sell_price\n",
      "0     2011-01-29     d_1     11101  0         NaN\n",
      "1     2011-01-30     d_2     11101  0         NaN\n",
      "2     2011-01-31     d_3     11101  0         NaN\n",
      "3     2011-02-01     d_4     11101  0         NaN\n",
      "4     2011-02-02     d_5     11101  0         NaN\n",
      "...          ...     ...       ... ..         ...\n",
      "1922  2016-05-04  d_1923     11614  0        8.38\n",
      "1923  2016-05-05  d_1924     11614  0        8.38\n",
      "1924  2016-05-06  d_1925     11614  0        8.38\n",
      "1925  2016-05-07  d_1926     11615  0        8.38\n",
      "1926  2016-05-08  d_1927     11615  0        8.38\n",
      "\n",
      "[1927 rows x 5 columns]\n"
     ]
    },
    {
     "name": "stderr",
     "output_type": "stream",
     "text": [
      "/var/folders/mh/nyq1nwnj337cbkn7t5jhtlq40000gp/T/ipykernel_50531/2171929331.py:7: SettingWithCopyWarning: \n",
      "A value is trying to be set on a copy of a slice from a DataFrame.\n",
      "Try using .loc[row_indexer,col_indexer] = value instead\n",
      "\n",
      "See the caveats in the documentation: https://pandas.pydata.org/pandas-docs/stable/user_guide/indexing.html#returning-a-view-versus-a-copy\n",
      "  df_train['y'] = train.loc[i,'d_1':].values\n"
     ]
    },
    {
     "name": "stdout",
     "output_type": "stream",
     "text": [
      "            date       d  wm_yr_wk  y  sell_price\n",
      "0     2011-01-29     d_1     11101  0         NaN\n",
      "1     2011-01-30     d_2     11101  0         NaN\n",
      "2     2011-01-31     d_3     11101  0         NaN\n",
      "3     2011-02-01     d_4     11101  0         NaN\n",
      "4     2011-02-02     d_5     11101  0         NaN\n",
      "...          ...     ...       ... ..         ...\n",
      "1922  2016-05-04  d_1923     11614  3        8.38\n",
      "1923  2016-05-05  d_1924     11614  0        8.38\n",
      "1924  2016-05-06  d_1925     11614  1        8.38\n",
      "1925  2016-05-07  d_1926     11615  0        8.38\n",
      "1926  2016-05-08  d_1927     11615  0        8.38\n",
      "\n",
      "[1927 rows x 5 columns]\n"
     ]
    },
    {
     "name": "stderr",
     "output_type": "stream",
     "text": [
      "/var/folders/mh/nyq1nwnj337cbkn7t5jhtlq40000gp/T/ipykernel_50531/2171929331.py:7: SettingWithCopyWarning: \n",
      "A value is trying to be set on a copy of a slice from a DataFrame.\n",
      "Try using .loc[row_indexer,col_indexer] = value instead\n",
      "\n",
      "See the caveats in the documentation: https://pandas.pydata.org/pandas-docs/stable/user_guide/indexing.html#returning-a-view-versus-a-copy\n",
      "  df_train['y'] = train.loc[i,'d_1':].values\n"
     ]
    },
    {
     "name": "stdout",
     "output_type": "stream",
     "text": [
      "            date       d  wm_yr_wk   y  sell_price\n",
      "0     2011-01-29     d_1     11101   0         NaN\n",
      "1     2011-01-30     d_2     11101   0         NaN\n",
      "2     2011-01-31     d_3     11101   0         NaN\n",
      "3     2011-02-01     d_4     11101   0         NaN\n",
      "4     2011-02-02     d_5     11101   0         NaN\n",
      "...          ...     ...       ...  ..         ...\n",
      "1922  2016-05-04  d_1923     11614  11        8.38\n",
      "1923  2016-05-05  d_1924     11614   0        8.38\n",
      "1924  2016-05-06  d_1925     11614   0        8.38\n",
      "1925  2016-05-07  d_1926     11615   7        8.38\n",
      "1926  2016-05-08  d_1927     11615   0        8.38\n",
      "\n",
      "[1927 rows x 5 columns]\n"
     ]
    },
    {
     "name": "stderr",
     "output_type": "stream",
     "text": [
      "/var/folders/mh/nyq1nwnj337cbkn7t5jhtlq40000gp/T/ipykernel_50531/2171929331.py:7: SettingWithCopyWarning: \n",
      "A value is trying to be set on a copy of a slice from a DataFrame.\n",
      "Try using .loc[row_indexer,col_indexer] = value instead\n",
      "\n",
      "See the caveats in the documentation: https://pandas.pydata.org/pandas-docs/stable/user_guide/indexing.html#returning-a-view-versus-a-copy\n",
      "  df_train['y'] = train.loc[i,'d_1':].values\n"
     ]
    },
    {
     "name": "stdout",
     "output_type": "stream",
     "text": [
      "            date       d  wm_yr_wk  y  sell_price\n",
      "0     2011-01-29     d_1     11101  3         NaN\n",
      "1     2011-01-30     d_2     11101  3         NaN\n",
      "2     2011-01-31     d_3     11101  2         NaN\n",
      "3     2011-02-01     d_4     11101  1         NaN\n",
      "4     2011-02-02     d_5     11101  1         NaN\n",
      "...          ...     ...       ... ..         ...\n",
      "1922  2016-05-04  d_1923     11614  0        8.38\n",
      "1923  2016-05-05  d_1924     11614  0        8.38\n",
      "1924  2016-05-06  d_1925     11614  0        8.38\n",
      "1925  2016-05-07  d_1926     11615  1        8.38\n",
      "1926  2016-05-08  d_1927     11615  1        8.38\n",
      "\n",
      "[1927 rows x 5 columns]\n"
     ]
    },
    {
     "name": "stderr",
     "output_type": "stream",
     "text": [
      "/var/folders/mh/nyq1nwnj337cbkn7t5jhtlq40000gp/T/ipykernel_50531/2171929331.py:7: SettingWithCopyWarning: \n",
      "A value is trying to be set on a copy of a slice from a DataFrame.\n",
      "Try using .loc[row_indexer,col_indexer] = value instead\n",
      "\n",
      "See the caveats in the documentation: https://pandas.pydata.org/pandas-docs/stable/user_guide/indexing.html#returning-a-view-versus-a-copy\n",
      "  df_train['y'] = train.loc[i,'d_1':].values\n"
     ]
    },
    {
     "name": "stdout",
     "output_type": "stream",
     "text": [
      "            date       d  wm_yr_wk  y  sell_price\n",
      "0     2011-01-29     d_1     11101  0         NaN\n",
      "1     2011-01-30     d_2     11101  0         NaN\n",
      "2     2011-01-31     d_3     11101  0         NaN\n",
      "3     2011-02-01     d_4     11101  0         NaN\n",
      "4     2011-02-02     d_5     11101  0         NaN\n",
      "...          ...     ...       ... ..         ...\n",
      "1922  2016-05-04  d_1923     11614  0        8.38\n",
      "1923  2016-05-05  d_1924     11614  0        8.38\n",
      "1924  2016-05-06  d_1925     11614  0        8.38\n",
      "1925  2016-05-07  d_1926     11615  0        8.38\n",
      "1926  2016-05-08  d_1927     11615  0        8.38\n",
      "\n",
      "[1927 rows x 5 columns]\n"
     ]
    },
    {
     "name": "stderr",
     "output_type": "stream",
     "text": [
      "/var/folders/mh/nyq1nwnj337cbkn7t5jhtlq40000gp/T/ipykernel_50531/2171929331.py:7: SettingWithCopyWarning: \n",
      "A value is trying to be set on a copy of a slice from a DataFrame.\n",
      "Try using .loc[row_indexer,col_indexer] = value instead\n",
      "\n",
      "See the caveats in the documentation: https://pandas.pydata.org/pandas-docs/stable/user_guide/indexing.html#returning-a-view-versus-a-copy\n",
      "  df_train['y'] = train.loc[i,'d_1':].values\n"
     ]
    },
    {
     "name": "stdout",
     "output_type": "stream",
     "text": [
      "            date       d  wm_yr_wk  y  sell_price\n",
      "0     2011-01-29     d_1     11101  0         NaN\n",
      "1     2011-01-30     d_2     11101  0         NaN\n",
      "2     2011-01-31     d_3     11101  0         NaN\n",
      "3     2011-02-01     d_4     11101  0         NaN\n",
      "4     2011-02-02     d_5     11101  0         NaN\n",
      "...          ...     ...       ... ..         ...\n",
      "1922  2016-05-04  d_1923     11614  0        8.38\n",
      "1923  2016-05-05  d_1924     11614  0        8.38\n",
      "1924  2016-05-06  d_1925     11614  2        8.38\n",
      "1925  2016-05-07  d_1926     11615  2        8.38\n",
      "1926  2016-05-08  d_1927     11615  1        8.38\n",
      "\n",
      "[1927 rows x 5 columns]\n"
     ]
    },
    {
     "name": "stderr",
     "output_type": "stream",
     "text": [
      "/var/folders/mh/nyq1nwnj337cbkn7t5jhtlq40000gp/T/ipykernel_50531/2171929331.py:7: SettingWithCopyWarning: \n",
      "A value is trying to be set on a copy of a slice from a DataFrame.\n",
      "Try using .loc[row_indexer,col_indexer] = value instead\n",
      "\n",
      "See the caveats in the documentation: https://pandas.pydata.org/pandas-docs/stable/user_guide/indexing.html#returning-a-view-versus-a-copy\n",
      "  df_train['y'] = train.loc[i,'d_1':].values\n"
     ]
    },
    {
     "name": "stdout",
     "output_type": "stream",
     "text": [
      "            date       d  wm_yr_wk  y  sell_price\n",
      "0     2011-01-29     d_1     11101  1         NaN\n",
      "1     2011-01-30     d_2     11101  2         NaN\n",
      "2     2011-01-31     d_3     11101  3         NaN\n",
      "3     2011-02-01     d_4     11101  0         NaN\n",
      "4     2011-02-02     d_5     11101  1         NaN\n",
      "...          ...     ...       ... ..         ...\n",
      "1922  2016-05-04  d_1923     11614  0        8.38\n",
      "1923  2016-05-05  d_1924     11614  1        8.38\n",
      "1924  2016-05-06  d_1925     11614  0        8.38\n",
      "1925  2016-05-07  d_1926     11615  0        8.38\n",
      "1926  2016-05-08  d_1927     11615  3        8.38\n",
      "\n",
      "[1927 rows x 5 columns]\n"
     ]
    },
    {
     "name": "stderr",
     "output_type": "stream",
     "text": [
      "/var/folders/mh/nyq1nwnj337cbkn7t5jhtlq40000gp/T/ipykernel_50531/2171929331.py:7: SettingWithCopyWarning: \n",
      "A value is trying to be set on a copy of a slice from a DataFrame.\n",
      "Try using .loc[row_indexer,col_indexer] = value instead\n",
      "\n",
      "See the caveats in the documentation: https://pandas.pydata.org/pandas-docs/stable/user_guide/indexing.html#returning-a-view-versus-a-copy\n",
      "  df_train['y'] = train.loc[i,'d_1':].values\n"
     ]
    },
    {
     "name": "stdout",
     "output_type": "stream",
     "text": [
      "            date       d  wm_yr_wk   y  sell_price\n",
      "0     2011-01-29     d_1     11101   0         NaN\n",
      "1     2011-01-30     d_2     11101   0         NaN\n",
      "2     2011-01-31     d_3     11101   0         NaN\n",
      "3     2011-02-01     d_4     11101   0         NaN\n",
      "4     2011-02-02     d_5     11101   0         NaN\n",
      "...          ...     ...       ...  ..         ...\n",
      "1922  2016-05-04  d_1923     11614  33        8.38\n",
      "1923  2016-05-05  d_1924     11614   9        8.38\n",
      "1924  2016-05-06  d_1925     11614  15        8.38\n",
      "1925  2016-05-07  d_1926     11615  15        8.38\n",
      "1926  2016-05-08  d_1927     11615  10        8.38\n",
      "\n",
      "[1927 rows x 5 columns]\n"
     ]
    },
    {
     "name": "stderr",
     "output_type": "stream",
     "text": [
      "/var/folders/mh/nyq1nwnj337cbkn7t5jhtlq40000gp/T/ipykernel_50531/2171929331.py:7: SettingWithCopyWarning: \n",
      "A value is trying to be set on a copy of a slice from a DataFrame.\n",
      "Try using .loc[row_indexer,col_indexer] = value instead\n",
      "\n",
      "See the caveats in the documentation: https://pandas.pydata.org/pandas-docs/stable/user_guide/indexing.html#returning-a-view-versus-a-copy\n",
      "  df_train['y'] = train.loc[i,'d_1':].values\n"
     ]
    },
    {
     "name": "stdout",
     "output_type": "stream",
     "text": [
      "            date       d  wm_yr_wk  y  sell_price\n",
      "0     2011-01-29     d_1     11101  0         NaN\n",
      "1     2011-01-30     d_2     11101  0         NaN\n",
      "2     2011-01-31     d_3     11101  0         NaN\n",
      "3     2011-02-01     d_4     11101  0         NaN\n",
      "4     2011-02-02     d_5     11101  0         NaN\n",
      "...          ...     ...       ... ..         ...\n",
      "1922  2016-05-04  d_1923     11614  0        8.38\n",
      "1923  2016-05-05  d_1924     11614  0        8.38\n",
      "1924  2016-05-06  d_1925     11614  1        8.38\n",
      "1925  2016-05-07  d_1926     11615  0        8.38\n",
      "1926  2016-05-08  d_1927     11615  0        8.38\n",
      "\n",
      "[1927 rows x 5 columns]\n"
     ]
    },
    {
     "name": "stderr",
     "output_type": "stream",
     "text": [
      "/var/folders/mh/nyq1nwnj337cbkn7t5jhtlq40000gp/T/ipykernel_50531/2171929331.py:7: SettingWithCopyWarning: \n",
      "A value is trying to be set on a copy of a slice from a DataFrame.\n",
      "Try using .loc[row_indexer,col_indexer] = value instead\n",
      "\n",
      "See the caveats in the documentation: https://pandas.pydata.org/pandas-docs/stable/user_guide/indexing.html#returning-a-view-versus-a-copy\n",
      "  df_train['y'] = train.loc[i,'d_1':].values\n"
     ]
    },
    {
     "name": "stdout",
     "output_type": "stream",
     "text": [
      "            date       d  wm_yr_wk  y  sell_price\n",
      "0     2011-01-29     d_1     11101  2         NaN\n",
      "1     2011-01-30     d_2     11101  0         NaN\n",
      "2     2011-01-31     d_3     11101  1         NaN\n",
      "3     2011-02-01     d_4     11101  0         NaN\n",
      "4     2011-02-02     d_5     11101  1         NaN\n",
      "...          ...     ...       ... ..         ...\n",
      "1922  2016-05-04  d_1923     11614  0        8.38\n",
      "1923  2016-05-05  d_1924     11614  0        8.38\n",
      "1924  2016-05-06  d_1925     11614  0        8.38\n",
      "1925  2016-05-07  d_1926     11615  0        8.38\n",
      "1926  2016-05-08  d_1927     11615  0        8.38\n",
      "\n",
      "[1927 rows x 5 columns]\n"
     ]
    },
    {
     "name": "stderr",
     "output_type": "stream",
     "text": [
      "/var/folders/mh/nyq1nwnj337cbkn7t5jhtlq40000gp/T/ipykernel_50531/2171929331.py:7: SettingWithCopyWarning: \n",
      "A value is trying to be set on a copy of a slice from a DataFrame.\n",
      "Try using .loc[row_indexer,col_indexer] = value instead\n",
      "\n",
      "See the caveats in the documentation: https://pandas.pydata.org/pandas-docs/stable/user_guide/indexing.html#returning-a-view-versus-a-copy\n",
      "  df_train['y'] = train.loc[i,'d_1':].values\n"
     ]
    },
    {
     "name": "stdout",
     "output_type": "stream",
     "text": [
      "            date       d  wm_yr_wk  y  sell_price\n",
      "0     2011-01-29     d_1     11101  0         NaN\n",
      "1     2011-01-30     d_2     11101  0         NaN\n",
      "2     2011-01-31     d_3     11101  0         NaN\n",
      "3     2011-02-01     d_4     11101  0         NaN\n",
      "4     2011-02-02     d_5     11101  0         NaN\n",
      "...          ...     ...       ... ..         ...\n",
      "1922  2016-05-04  d_1923     11614  0        8.38\n",
      "1923  2016-05-05  d_1924     11614  0        8.38\n",
      "1924  2016-05-06  d_1925     11614  1        8.38\n",
      "1925  2016-05-07  d_1926     11615  0        8.38\n",
      "1926  2016-05-08  d_1927     11615  0        8.38\n",
      "\n",
      "[1927 rows x 5 columns]\n"
     ]
    },
    {
     "name": "stderr",
     "output_type": "stream",
     "text": [
      "/var/folders/mh/nyq1nwnj337cbkn7t5jhtlq40000gp/T/ipykernel_50531/2171929331.py:7: SettingWithCopyWarning: \n",
      "A value is trying to be set on a copy of a slice from a DataFrame.\n",
      "Try using .loc[row_indexer,col_indexer] = value instead\n",
      "\n",
      "See the caveats in the documentation: https://pandas.pydata.org/pandas-docs/stable/user_guide/indexing.html#returning-a-view-versus-a-copy\n",
      "  df_train['y'] = train.loc[i,'d_1':].values\n"
     ]
    },
    {
     "name": "stdout",
     "output_type": "stream",
     "text": [
      "            date       d  wm_yr_wk  y  sell_price\n",
      "0     2011-01-29     d_1     11101  0         NaN\n",
      "1     2011-01-30     d_2     11101  0         NaN\n",
      "2     2011-01-31     d_3     11101  0         NaN\n",
      "3     2011-02-01     d_4     11101  0         NaN\n",
      "4     2011-02-02     d_5     11101  0         NaN\n",
      "...          ...     ...       ... ..         ...\n",
      "1922  2016-05-04  d_1923     11614  0        8.38\n",
      "1923  2016-05-05  d_1924     11614  0        8.38\n",
      "1924  2016-05-06  d_1925     11614  0        8.38\n",
      "1925  2016-05-07  d_1926     11615  0        8.38\n",
      "1926  2016-05-08  d_1927     11615  0        8.38\n",
      "\n",
      "[1927 rows x 5 columns]\n"
     ]
    },
    {
     "name": "stderr",
     "output_type": "stream",
     "text": [
      "/var/folders/mh/nyq1nwnj337cbkn7t5jhtlq40000gp/T/ipykernel_50531/2171929331.py:7: SettingWithCopyWarning: \n",
      "A value is trying to be set on a copy of a slice from a DataFrame.\n",
      "Try using .loc[row_indexer,col_indexer] = value instead\n",
      "\n",
      "See the caveats in the documentation: https://pandas.pydata.org/pandas-docs/stable/user_guide/indexing.html#returning-a-view-versus-a-copy\n",
      "  df_train['y'] = train.loc[i,'d_1':].values\n"
     ]
    },
    {
     "name": "stdout",
     "output_type": "stream",
     "text": [
      "            date       d  wm_yr_wk  y  sell_price\n",
      "0     2011-01-29     d_1     11101  0         NaN\n",
      "1     2011-01-30     d_2     11101  0         NaN\n",
      "2     2011-01-31     d_3     11101  0         NaN\n",
      "3     2011-02-01     d_4     11101  0         NaN\n",
      "4     2011-02-02     d_5     11101  0         NaN\n",
      "...          ...     ...       ... ..         ...\n",
      "1922  2016-05-04  d_1923     11614  0        8.38\n",
      "1923  2016-05-05  d_1924     11614  0        8.38\n",
      "1924  2016-05-06  d_1925     11614  0        8.38\n",
      "1925  2016-05-07  d_1926     11615  0        8.38\n",
      "1926  2016-05-08  d_1927     11615  0        8.38\n",
      "\n",
      "[1927 rows x 5 columns]\n"
     ]
    },
    {
     "name": "stderr",
     "output_type": "stream",
     "text": [
      "/var/folders/mh/nyq1nwnj337cbkn7t5jhtlq40000gp/T/ipykernel_50531/2171929331.py:7: SettingWithCopyWarning: \n",
      "A value is trying to be set on a copy of a slice from a DataFrame.\n",
      "Try using .loc[row_indexer,col_indexer] = value instead\n",
      "\n",
      "See the caveats in the documentation: https://pandas.pydata.org/pandas-docs/stable/user_guide/indexing.html#returning-a-view-versus-a-copy\n",
      "  df_train['y'] = train.loc[i,'d_1':].values\n"
     ]
    },
    {
     "name": "stdout",
     "output_type": "stream",
     "text": [
      "            date       d  wm_yr_wk  y  sell_price\n",
      "0     2011-01-29     d_1     11101  0         NaN\n",
      "1     2011-01-30     d_2     11101  0         NaN\n",
      "2     2011-01-31     d_3     11101  0         NaN\n",
      "3     2011-02-01     d_4     11101  0         NaN\n",
      "4     2011-02-02     d_5     11101  0         NaN\n",
      "...          ...     ...       ... ..         ...\n",
      "1922  2016-05-04  d_1923     11614  0        8.38\n",
      "1923  2016-05-05  d_1924     11614  0        8.38\n",
      "1924  2016-05-06  d_1925     11614  0        8.38\n",
      "1925  2016-05-07  d_1926     11615  1        8.38\n",
      "1926  2016-05-08  d_1927     11615  0        8.38\n",
      "\n",
      "[1927 rows x 5 columns]\n"
     ]
    },
    {
     "name": "stderr",
     "output_type": "stream",
     "text": [
      "/var/folders/mh/nyq1nwnj337cbkn7t5jhtlq40000gp/T/ipykernel_50531/2171929331.py:7: SettingWithCopyWarning: \n",
      "A value is trying to be set on a copy of a slice from a DataFrame.\n",
      "Try using .loc[row_indexer,col_indexer] = value instead\n",
      "\n",
      "See the caveats in the documentation: https://pandas.pydata.org/pandas-docs/stable/user_guide/indexing.html#returning-a-view-versus-a-copy\n",
      "  df_train['y'] = train.loc[i,'d_1':].values\n"
     ]
    },
    {
     "name": "stdout",
     "output_type": "stream",
     "text": [
      "            date       d  wm_yr_wk  y  sell_price\n",
      "0     2011-01-29     d_1     11101  0         NaN\n",
      "1     2011-01-30     d_2     11101  0         NaN\n",
      "2     2011-01-31     d_3     11101  0         NaN\n",
      "3     2011-02-01     d_4     11101  2         NaN\n",
      "4     2011-02-02     d_5     11101  0         NaN\n",
      "...          ...     ...       ... ..         ...\n",
      "1922  2016-05-04  d_1923     11614  4        8.38\n",
      "1923  2016-05-05  d_1924     11614  2        8.38\n",
      "1924  2016-05-06  d_1925     11614  1        8.38\n",
      "1925  2016-05-07  d_1926     11615  2        8.38\n",
      "1926  2016-05-08  d_1927     11615  5        8.38\n",
      "\n",
      "[1927 rows x 5 columns]\n"
     ]
    },
    {
     "name": "stderr",
     "output_type": "stream",
     "text": [
      "/var/folders/mh/nyq1nwnj337cbkn7t5jhtlq40000gp/T/ipykernel_50531/2171929331.py:7: SettingWithCopyWarning: \n",
      "A value is trying to be set on a copy of a slice from a DataFrame.\n",
      "Try using .loc[row_indexer,col_indexer] = value instead\n",
      "\n",
      "See the caveats in the documentation: https://pandas.pydata.org/pandas-docs/stable/user_guide/indexing.html#returning-a-view-versus-a-copy\n",
      "  df_train['y'] = train.loc[i,'d_1':].values\n"
     ]
    },
    {
     "name": "stdout",
     "output_type": "stream",
     "text": [
      "            date       d  wm_yr_wk  y  sell_price\n",
      "0     2011-01-29     d_1     11101  0         NaN\n",
      "1     2011-01-30     d_2     11101  0         NaN\n",
      "2     2011-01-31     d_3     11101  0         NaN\n",
      "3     2011-02-01     d_4     11101  0         NaN\n",
      "4     2011-02-02     d_5     11101  0         NaN\n",
      "...          ...     ...       ... ..         ...\n",
      "1922  2016-05-04  d_1923     11614  0        8.38\n",
      "1923  2016-05-05  d_1924     11614  0        8.38\n",
      "1924  2016-05-06  d_1925     11614  0        8.38\n",
      "1925  2016-05-07  d_1926     11615  4        8.38\n",
      "1926  2016-05-08  d_1927     11615  3        8.38\n",
      "\n",
      "[1927 rows x 5 columns]\n"
     ]
    },
    {
     "name": "stderr",
     "output_type": "stream",
     "text": [
      "/var/folders/mh/nyq1nwnj337cbkn7t5jhtlq40000gp/T/ipykernel_50531/2171929331.py:7: SettingWithCopyWarning: \n",
      "A value is trying to be set on a copy of a slice from a DataFrame.\n",
      "Try using .loc[row_indexer,col_indexer] = value instead\n",
      "\n",
      "See the caveats in the documentation: https://pandas.pydata.org/pandas-docs/stable/user_guide/indexing.html#returning-a-view-versus-a-copy\n",
      "  df_train['y'] = train.loc[i,'d_1':].values\n"
     ]
    },
    {
     "name": "stdout",
     "output_type": "stream",
     "text": [
      "            date       d  wm_yr_wk  y  sell_price\n",
      "0     2011-01-29     d_1     11101  0         NaN\n",
      "1     2011-01-30     d_2     11101  0         NaN\n",
      "2     2011-01-31     d_3     11101  0         NaN\n",
      "3     2011-02-01     d_4     11101  0         NaN\n",
      "4     2011-02-02     d_5     11101  0         NaN\n",
      "...          ...     ...       ... ..         ...\n",
      "1922  2016-05-04  d_1923     11614  0        8.38\n",
      "1923  2016-05-05  d_1924     11614  4        8.38\n",
      "1924  2016-05-06  d_1925     11614  0        8.38\n",
      "1925  2016-05-07  d_1926     11615  1        8.38\n",
      "1926  2016-05-08  d_1927     11615  0        8.38\n",
      "\n",
      "[1927 rows x 5 columns]\n"
     ]
    },
    {
     "name": "stderr",
     "output_type": "stream",
     "text": [
      "/var/folders/mh/nyq1nwnj337cbkn7t5jhtlq40000gp/T/ipykernel_50531/2171929331.py:7: SettingWithCopyWarning: \n",
      "A value is trying to be set on a copy of a slice from a DataFrame.\n",
      "Try using .loc[row_indexer,col_indexer] = value instead\n",
      "\n",
      "See the caveats in the documentation: https://pandas.pydata.org/pandas-docs/stable/user_guide/indexing.html#returning-a-view-versus-a-copy\n",
      "  df_train['y'] = train.loc[i,'d_1':].values\n"
     ]
    },
    {
     "name": "stdout",
     "output_type": "stream",
     "text": [
      "            date       d  wm_yr_wk  y  sell_price\n",
      "0     2011-01-29     d_1     11101  1         NaN\n",
      "1     2011-01-30     d_2     11101  2         NaN\n",
      "2     2011-01-31     d_3     11101  3         NaN\n",
      "3     2011-02-01     d_4     11101  0         NaN\n",
      "4     2011-02-02     d_5     11101  0         NaN\n",
      "...          ...     ...       ... ..         ...\n",
      "1922  2016-05-04  d_1923     11614  0        8.38\n",
      "1923  2016-05-05  d_1924     11614  0        8.38\n",
      "1924  2016-05-06  d_1925     11614  0        8.38\n",
      "1925  2016-05-07  d_1926     11615  0        8.38\n",
      "1926  2016-05-08  d_1927     11615  0        8.38\n",
      "\n",
      "[1927 rows x 5 columns]\n"
     ]
    },
    {
     "name": "stderr",
     "output_type": "stream",
     "text": [
      "/var/folders/mh/nyq1nwnj337cbkn7t5jhtlq40000gp/T/ipykernel_50531/2171929331.py:7: SettingWithCopyWarning: \n",
      "A value is trying to be set on a copy of a slice from a DataFrame.\n",
      "Try using .loc[row_indexer,col_indexer] = value instead\n",
      "\n",
      "See the caveats in the documentation: https://pandas.pydata.org/pandas-docs/stable/user_guide/indexing.html#returning-a-view-versus-a-copy\n",
      "  df_train['y'] = train.loc[i,'d_1':].values\n"
     ]
    },
    {
     "name": "stdout",
     "output_type": "stream",
     "text": [
      "            date       d  wm_yr_wk  y  sell_price\n",
      "0     2011-01-29     d_1     11101  0         NaN\n",
      "1     2011-01-30     d_2     11101  0         NaN\n",
      "2     2011-01-31     d_3     11101  0         NaN\n",
      "3     2011-02-01     d_4     11101  0         NaN\n",
      "4     2011-02-02     d_5     11101  0         NaN\n",
      "...          ...     ...       ... ..         ...\n",
      "1922  2016-05-04  d_1923     11614  0        8.38\n",
      "1923  2016-05-05  d_1924     11614  0        8.38\n",
      "1924  2016-05-06  d_1925     11614  3        8.38\n",
      "1925  2016-05-07  d_1926     11615  0        8.38\n",
      "1926  2016-05-08  d_1927     11615  1        8.38\n",
      "\n",
      "[1927 rows x 5 columns]\n"
     ]
    },
    {
     "name": "stderr",
     "output_type": "stream",
     "text": [
      "/var/folders/mh/nyq1nwnj337cbkn7t5jhtlq40000gp/T/ipykernel_50531/2171929331.py:7: SettingWithCopyWarning: \n",
      "A value is trying to be set on a copy of a slice from a DataFrame.\n",
      "Try using .loc[row_indexer,col_indexer] = value instead\n",
      "\n",
      "See the caveats in the documentation: https://pandas.pydata.org/pandas-docs/stable/user_guide/indexing.html#returning-a-view-versus-a-copy\n",
      "  df_train['y'] = train.loc[i,'d_1':].values\n"
     ]
    },
    {
     "name": "stdout",
     "output_type": "stream",
     "text": [
      "            date       d  wm_yr_wk  y  sell_price\n",
      "0     2011-01-29     d_1     11101  1         NaN\n",
      "1     2011-01-30     d_2     11101  0         NaN\n",
      "2     2011-01-31     d_3     11101  0         NaN\n",
      "3     2011-02-01     d_4     11101  0         NaN\n",
      "4     2011-02-02     d_5     11101  1         NaN\n",
      "...          ...     ...       ... ..         ...\n",
      "1922  2016-05-04  d_1923     11614  0        8.38\n",
      "1923  2016-05-05  d_1924     11614  0        8.38\n",
      "1924  2016-05-06  d_1925     11614  0        8.38\n",
      "1925  2016-05-07  d_1926     11615  1        8.38\n",
      "1926  2016-05-08  d_1927     11615  0        8.38\n",
      "\n",
      "[1927 rows x 5 columns]\n"
     ]
    },
    {
     "name": "stderr",
     "output_type": "stream",
     "text": [
      "/var/folders/mh/nyq1nwnj337cbkn7t5jhtlq40000gp/T/ipykernel_50531/2171929331.py:7: SettingWithCopyWarning: \n",
      "A value is trying to be set on a copy of a slice from a DataFrame.\n",
      "Try using .loc[row_indexer,col_indexer] = value instead\n",
      "\n",
      "See the caveats in the documentation: https://pandas.pydata.org/pandas-docs/stable/user_guide/indexing.html#returning-a-view-versus-a-copy\n",
      "  df_train['y'] = train.loc[i,'d_1':].values\n"
     ]
    },
    {
     "name": "stdout",
     "output_type": "stream",
     "text": [
      "            date       d  wm_yr_wk  y  sell_price\n",
      "0     2011-01-29     d_1     11101  0         NaN\n",
      "1     2011-01-30     d_2     11101  0         NaN\n",
      "2     2011-01-31     d_3     11101  0         NaN\n",
      "3     2011-02-01     d_4     11101  0         NaN\n",
      "4     2011-02-02     d_5     11101  0         NaN\n",
      "...          ...     ...       ... ..         ...\n",
      "1922  2016-05-04  d_1923     11614  0        8.38\n",
      "1923  2016-05-05  d_1924     11614  0        8.38\n",
      "1924  2016-05-06  d_1925     11614  0        8.38\n",
      "1925  2016-05-07  d_1926     11615  0        8.38\n",
      "1926  2016-05-08  d_1927     11615  0        8.38\n",
      "\n",
      "[1927 rows x 5 columns]\n"
     ]
    },
    {
     "name": "stderr",
     "output_type": "stream",
     "text": [
      "/var/folders/mh/nyq1nwnj337cbkn7t5jhtlq40000gp/T/ipykernel_50531/2171929331.py:7: SettingWithCopyWarning: \n",
      "A value is trying to be set on a copy of a slice from a DataFrame.\n",
      "Try using .loc[row_indexer,col_indexer] = value instead\n",
      "\n",
      "See the caveats in the documentation: https://pandas.pydata.org/pandas-docs/stable/user_guide/indexing.html#returning-a-view-versus-a-copy\n",
      "  df_train['y'] = train.loc[i,'d_1':].values\n"
     ]
    },
    {
     "name": "stdout",
     "output_type": "stream",
     "text": [
      "            date       d  wm_yr_wk  y  sell_price\n",
      "0     2011-01-29     d_1     11101  0         NaN\n",
      "1     2011-01-30     d_2     11101  0         NaN\n",
      "2     2011-01-31     d_3     11101  0         NaN\n",
      "3     2011-02-01     d_4     11101  0         NaN\n",
      "4     2011-02-02     d_5     11101  0         NaN\n",
      "...          ...     ...       ... ..         ...\n",
      "1922  2016-05-04  d_1923     11614  1        8.38\n",
      "1923  2016-05-05  d_1924     11614  0        8.38\n",
      "1924  2016-05-06  d_1925     11614  0        8.38\n",
      "1925  2016-05-07  d_1926     11615  0        8.38\n",
      "1926  2016-05-08  d_1927     11615  0        8.38\n",
      "\n",
      "[1927 rows x 5 columns]\n"
     ]
    },
    {
     "name": "stderr",
     "output_type": "stream",
     "text": [
      "/var/folders/mh/nyq1nwnj337cbkn7t5jhtlq40000gp/T/ipykernel_50531/2171929331.py:7: SettingWithCopyWarning: \n",
      "A value is trying to be set on a copy of a slice from a DataFrame.\n",
      "Try using .loc[row_indexer,col_indexer] = value instead\n",
      "\n",
      "See the caveats in the documentation: https://pandas.pydata.org/pandas-docs/stable/user_guide/indexing.html#returning-a-view-versus-a-copy\n",
      "  df_train['y'] = train.loc[i,'d_1':].values\n"
     ]
    },
    {
     "name": "stdout",
     "output_type": "stream",
     "text": [
      "            date       d  wm_yr_wk  y  sell_price\n",
      "0     2011-01-29     d_1     11101  0         NaN\n",
      "1     2011-01-30     d_2     11101  0         NaN\n",
      "2     2011-01-31     d_3     11101  0         NaN\n",
      "3     2011-02-01     d_4     11101  0         NaN\n",
      "4     2011-02-02     d_5     11101  0         NaN\n",
      "...          ...     ...       ... ..         ...\n",
      "1922  2016-05-04  d_1923     11614  0        8.38\n",
      "1923  2016-05-05  d_1924     11614  2        8.38\n",
      "1924  2016-05-06  d_1925     11614  0        8.38\n",
      "1925  2016-05-07  d_1926     11615  0        8.38\n",
      "1926  2016-05-08  d_1927     11615  0        8.38\n",
      "\n",
      "[1927 rows x 5 columns]\n"
     ]
    },
    {
     "name": "stderr",
     "output_type": "stream",
     "text": [
      "/var/folders/mh/nyq1nwnj337cbkn7t5jhtlq40000gp/T/ipykernel_50531/2171929331.py:7: SettingWithCopyWarning: \n",
      "A value is trying to be set on a copy of a slice from a DataFrame.\n",
      "Try using .loc[row_indexer,col_indexer] = value instead\n",
      "\n",
      "See the caveats in the documentation: https://pandas.pydata.org/pandas-docs/stable/user_guide/indexing.html#returning-a-view-versus-a-copy\n",
      "  df_train['y'] = train.loc[i,'d_1':].values\n"
     ]
    },
    {
     "name": "stdout",
     "output_type": "stream",
     "text": [
      "            date       d  wm_yr_wk  y  sell_price\n",
      "0     2011-01-29     d_1     11101  0         NaN\n",
      "1     2011-01-30     d_2     11101  0         NaN\n",
      "2     2011-01-31     d_3     11101  0         NaN\n",
      "3     2011-02-01     d_4     11101  0         NaN\n",
      "4     2011-02-02     d_5     11101  0         NaN\n",
      "...          ...     ...       ... ..         ...\n",
      "1922  2016-05-04  d_1923     11614  0        8.38\n",
      "1923  2016-05-05  d_1924     11614  0        8.38\n",
      "1924  2016-05-06  d_1925     11614  0        8.38\n",
      "1925  2016-05-07  d_1926     11615  0        8.38\n",
      "1926  2016-05-08  d_1927     11615  0        8.38\n",
      "\n",
      "[1927 rows x 5 columns]\n"
     ]
    },
    {
     "name": "stderr",
     "output_type": "stream",
     "text": [
      "/var/folders/mh/nyq1nwnj337cbkn7t5jhtlq40000gp/T/ipykernel_50531/2171929331.py:7: SettingWithCopyWarning: \n",
      "A value is trying to be set on a copy of a slice from a DataFrame.\n",
      "Try using .loc[row_indexer,col_indexer] = value instead\n",
      "\n",
      "See the caveats in the documentation: https://pandas.pydata.org/pandas-docs/stable/user_guide/indexing.html#returning-a-view-versus-a-copy\n",
      "  df_train['y'] = train.loc[i,'d_1':].values\n"
     ]
    },
    {
     "name": "stdout",
     "output_type": "stream",
     "text": [
      "            date       d  wm_yr_wk  y  sell_price\n",
      "0     2011-01-29     d_1     11101  0         NaN\n",
      "1     2011-01-30     d_2     11101  0         NaN\n",
      "2     2011-01-31     d_3     11101  0         NaN\n",
      "3     2011-02-01     d_4     11101  0         NaN\n",
      "4     2011-02-02     d_5     11101  0         NaN\n",
      "...          ...     ...       ... ..         ...\n",
      "1922  2016-05-04  d_1923     11614  0        8.38\n",
      "1923  2016-05-05  d_1924     11614  0        8.38\n",
      "1924  2016-05-06  d_1925     11614  0        8.38\n",
      "1925  2016-05-07  d_1926     11615  0        8.38\n",
      "1926  2016-05-08  d_1927     11615  0        8.38\n",
      "\n",
      "[1927 rows x 5 columns]\n"
     ]
    },
    {
     "name": "stderr",
     "output_type": "stream",
     "text": [
      "/var/folders/mh/nyq1nwnj337cbkn7t5jhtlq40000gp/T/ipykernel_50531/2171929331.py:7: SettingWithCopyWarning: \n",
      "A value is trying to be set on a copy of a slice from a DataFrame.\n",
      "Try using .loc[row_indexer,col_indexer] = value instead\n",
      "\n",
      "See the caveats in the documentation: https://pandas.pydata.org/pandas-docs/stable/user_guide/indexing.html#returning-a-view-versus-a-copy\n",
      "  df_train['y'] = train.loc[i,'d_1':].values\n"
     ]
    },
    {
     "name": "stdout",
     "output_type": "stream",
     "text": [
      "            date       d  wm_yr_wk   y  sell_price\n",
      "0     2011-01-29     d_1     11101   0         NaN\n",
      "1     2011-01-30     d_2     11101   7         NaN\n",
      "2     2011-01-31     d_3     11101   6         NaN\n",
      "3     2011-02-01     d_4     11101   7         NaN\n",
      "4     2011-02-02     d_5     11101   4         NaN\n",
      "...          ...     ...       ...  ..         ...\n",
      "1922  2016-05-04  d_1923     11614   5        8.38\n",
      "1923  2016-05-05  d_1924     11614   0        8.38\n",
      "1924  2016-05-06  d_1925     11614   0        8.38\n",
      "1925  2016-05-07  d_1926     11615   0        8.38\n",
      "1926  2016-05-08  d_1927     11615  10        8.38\n",
      "\n",
      "[1927 rows x 5 columns]\n"
     ]
    },
    {
     "name": "stderr",
     "output_type": "stream",
     "text": [
      "/var/folders/mh/nyq1nwnj337cbkn7t5jhtlq40000gp/T/ipykernel_50531/2171929331.py:7: SettingWithCopyWarning: \n",
      "A value is trying to be set on a copy of a slice from a DataFrame.\n",
      "Try using .loc[row_indexer,col_indexer] = value instead\n",
      "\n",
      "See the caveats in the documentation: https://pandas.pydata.org/pandas-docs/stable/user_guide/indexing.html#returning-a-view-versus-a-copy\n",
      "  df_train['y'] = train.loc[i,'d_1':].values\n"
     ]
    },
    {
     "name": "stdout",
     "output_type": "stream",
     "text": [
      "            date       d  wm_yr_wk  y  sell_price\n",
      "0     2011-01-29     d_1     11101  1         NaN\n",
      "1     2011-01-30     d_2     11101  0         NaN\n",
      "2     2011-01-31     d_3     11101  2         NaN\n",
      "3     2011-02-01     d_4     11101  0         NaN\n",
      "4     2011-02-02     d_5     11101  1         NaN\n",
      "...          ...     ...       ... ..         ...\n",
      "1922  2016-05-04  d_1923     11614  1        8.38\n",
      "1923  2016-05-05  d_1924     11614  1        8.38\n",
      "1924  2016-05-06  d_1925     11614  0        8.38\n",
      "1925  2016-05-07  d_1926     11615  1        8.38\n",
      "1926  2016-05-08  d_1927     11615  0        8.38\n",
      "\n",
      "[1927 rows x 5 columns]\n"
     ]
    },
    {
     "name": "stderr",
     "output_type": "stream",
     "text": [
      "/var/folders/mh/nyq1nwnj337cbkn7t5jhtlq40000gp/T/ipykernel_50531/2171929331.py:7: SettingWithCopyWarning: \n",
      "A value is trying to be set on a copy of a slice from a DataFrame.\n",
      "Try using .loc[row_indexer,col_indexer] = value instead\n",
      "\n",
      "See the caveats in the documentation: https://pandas.pydata.org/pandas-docs/stable/user_guide/indexing.html#returning-a-view-versus-a-copy\n",
      "  df_train['y'] = train.loc[i,'d_1':].values\n"
     ]
    },
    {
     "name": "stdout",
     "output_type": "stream",
     "text": [
      "            date       d  wm_yr_wk  y  sell_price\n",
      "0     2011-01-29     d_1     11101  0         NaN\n",
      "1     2011-01-30     d_2     11101  0         NaN\n",
      "2     2011-01-31     d_3     11101  0         NaN\n",
      "3     2011-02-01     d_4     11101  0         NaN\n",
      "4     2011-02-02     d_5     11101  0         NaN\n",
      "...          ...     ...       ... ..         ...\n",
      "1922  2016-05-04  d_1923     11614  0        8.38\n",
      "1923  2016-05-05  d_1924     11614  0        8.38\n",
      "1924  2016-05-06  d_1925     11614  0        8.38\n",
      "1925  2016-05-07  d_1926     11615  0        8.38\n",
      "1926  2016-05-08  d_1927     11615  0        8.38\n",
      "\n",
      "[1927 rows x 5 columns]\n"
     ]
    },
    {
     "name": "stderr",
     "output_type": "stream",
     "text": [
      "/var/folders/mh/nyq1nwnj337cbkn7t5jhtlq40000gp/T/ipykernel_50531/2171929331.py:7: SettingWithCopyWarning: \n",
      "A value is trying to be set on a copy of a slice from a DataFrame.\n",
      "Try using .loc[row_indexer,col_indexer] = value instead\n",
      "\n",
      "See the caveats in the documentation: https://pandas.pydata.org/pandas-docs/stable/user_guide/indexing.html#returning-a-view-versus-a-copy\n",
      "  df_train['y'] = train.loc[i,'d_1':].values\n"
     ]
    },
    {
     "name": "stdout",
     "output_type": "stream",
     "text": [
      "            date       d  wm_yr_wk  y  sell_price\n",
      "0     2011-01-29     d_1     11101  0         NaN\n",
      "1     2011-01-30     d_2     11101  0         NaN\n",
      "2     2011-01-31     d_3     11101  0         NaN\n",
      "3     2011-02-01     d_4     11101  0         NaN\n",
      "4     2011-02-02     d_5     11101  0         NaN\n",
      "...          ...     ...       ... ..         ...\n",
      "1922  2016-05-04  d_1923     11614  0        8.38\n",
      "1923  2016-05-05  d_1924     11614  0        8.38\n",
      "1924  2016-05-06  d_1925     11614  0        8.38\n",
      "1925  2016-05-07  d_1926     11615  0        8.38\n",
      "1926  2016-05-08  d_1927     11615  0        8.38\n",
      "\n",
      "[1927 rows x 5 columns]\n"
     ]
    },
    {
     "name": "stderr",
     "output_type": "stream",
     "text": [
      "/var/folders/mh/nyq1nwnj337cbkn7t5jhtlq40000gp/T/ipykernel_50531/2171929331.py:7: SettingWithCopyWarning: \n",
      "A value is trying to be set on a copy of a slice from a DataFrame.\n",
      "Try using .loc[row_indexer,col_indexer] = value instead\n",
      "\n",
      "See the caveats in the documentation: https://pandas.pydata.org/pandas-docs/stable/user_guide/indexing.html#returning-a-view-versus-a-copy\n",
      "  df_train['y'] = train.loc[i,'d_1':].values\n"
     ]
    },
    {
     "name": "stdout",
     "output_type": "stream",
     "text": [
      "            date       d  wm_yr_wk  y  sell_price\n",
      "0     2011-01-29     d_1     11101  0         NaN\n",
      "1     2011-01-30     d_2     11101  0         NaN\n",
      "2     2011-01-31     d_3     11101  0         NaN\n",
      "3     2011-02-01     d_4     11101  0         NaN\n",
      "4     2011-02-02     d_5     11101  0         NaN\n",
      "...          ...     ...       ... ..         ...\n",
      "1922  2016-05-04  d_1923     11614  0        8.38\n",
      "1923  2016-05-05  d_1924     11614  2        8.38\n",
      "1924  2016-05-06  d_1925     11614  0        8.38\n",
      "1925  2016-05-07  d_1926     11615  1        8.38\n",
      "1926  2016-05-08  d_1927     11615  0        8.38\n",
      "\n",
      "[1927 rows x 5 columns]\n"
     ]
    },
    {
     "name": "stderr",
     "output_type": "stream",
     "text": [
      "/var/folders/mh/nyq1nwnj337cbkn7t5jhtlq40000gp/T/ipykernel_50531/2171929331.py:7: SettingWithCopyWarning: \n",
      "A value is trying to be set on a copy of a slice from a DataFrame.\n",
      "Try using .loc[row_indexer,col_indexer] = value instead\n",
      "\n",
      "See the caveats in the documentation: https://pandas.pydata.org/pandas-docs/stable/user_guide/indexing.html#returning-a-view-versus-a-copy\n",
      "  df_train['y'] = train.loc[i,'d_1':].values\n"
     ]
    },
    {
     "name": "stdout",
     "output_type": "stream",
     "text": [
      "            date       d  wm_yr_wk  y  sell_price\n",
      "0     2011-01-29     d_1     11101  0         NaN\n",
      "1     2011-01-30     d_2     11101  0         NaN\n",
      "2     2011-01-31     d_3     11101  0         NaN\n",
      "3     2011-02-01     d_4     11101  0         NaN\n",
      "4     2011-02-02     d_5     11101  0         NaN\n",
      "...          ...     ...       ... ..         ...\n",
      "1922  2016-05-04  d_1923     11614  0        8.38\n",
      "1923  2016-05-05  d_1924     11614  1        8.38\n",
      "1924  2016-05-06  d_1925     11614  0        8.38\n",
      "1925  2016-05-07  d_1926     11615  0        8.38\n",
      "1926  2016-05-08  d_1927     11615  0        8.38\n",
      "\n",
      "[1927 rows x 5 columns]\n"
     ]
    },
    {
     "name": "stderr",
     "output_type": "stream",
     "text": [
      "/var/folders/mh/nyq1nwnj337cbkn7t5jhtlq40000gp/T/ipykernel_50531/2171929331.py:7: SettingWithCopyWarning: \n",
      "A value is trying to be set on a copy of a slice from a DataFrame.\n",
      "Try using .loc[row_indexer,col_indexer] = value instead\n",
      "\n",
      "See the caveats in the documentation: https://pandas.pydata.org/pandas-docs/stable/user_guide/indexing.html#returning-a-view-versus-a-copy\n",
      "  df_train['y'] = train.loc[i,'d_1':].values\n"
     ]
    },
    {
     "name": "stdout",
     "output_type": "stream",
     "text": [
      "            date       d  wm_yr_wk  y  sell_price\n",
      "0     2011-01-29     d_1     11101  0         NaN\n",
      "1     2011-01-30     d_2     11101  0         NaN\n",
      "2     2011-01-31     d_3     11101  0         NaN\n",
      "3     2011-02-01     d_4     11101  0         NaN\n",
      "4     2011-02-02     d_5     11101  0         NaN\n",
      "...          ...     ...       ... ..         ...\n",
      "1922  2016-05-04  d_1923     11614  0        8.38\n",
      "1923  2016-05-05  d_1924     11614  1        8.38\n",
      "1924  2016-05-06  d_1925     11614  0        8.38\n",
      "1925  2016-05-07  d_1926     11615  1        8.38\n",
      "1926  2016-05-08  d_1927     11615  5        8.38\n",
      "\n",
      "[1927 rows x 5 columns]\n"
     ]
    },
    {
     "name": "stderr",
     "output_type": "stream",
     "text": [
      "/var/folders/mh/nyq1nwnj337cbkn7t5jhtlq40000gp/T/ipykernel_50531/2171929331.py:7: SettingWithCopyWarning: \n",
      "A value is trying to be set on a copy of a slice from a DataFrame.\n",
      "Try using .loc[row_indexer,col_indexer] = value instead\n",
      "\n",
      "See the caveats in the documentation: https://pandas.pydata.org/pandas-docs/stable/user_guide/indexing.html#returning-a-view-versus-a-copy\n",
      "  df_train['y'] = train.loc[i,'d_1':].values\n"
     ]
    },
    {
     "name": "stdout",
     "output_type": "stream",
     "text": [
      "            date       d  wm_yr_wk  y  sell_price\n",
      "0     2011-01-29     d_1     11101  0         NaN\n",
      "1     2011-01-30     d_2     11101  0         NaN\n",
      "2     2011-01-31     d_3     11101  0         NaN\n",
      "3     2011-02-01     d_4     11101  0         NaN\n",
      "4     2011-02-02     d_5     11101  0         NaN\n",
      "...          ...     ...       ... ..         ...\n",
      "1922  2016-05-04  d_1923     11614  0        8.38\n",
      "1923  2016-05-05  d_1924     11614  1        8.38\n",
      "1924  2016-05-06  d_1925     11614  0        8.38\n",
      "1925  2016-05-07  d_1926     11615  0        8.38\n",
      "1926  2016-05-08  d_1927     11615  0        8.38\n",
      "\n",
      "[1927 rows x 5 columns]\n"
     ]
    },
    {
     "name": "stderr",
     "output_type": "stream",
     "text": [
      "/var/folders/mh/nyq1nwnj337cbkn7t5jhtlq40000gp/T/ipykernel_50531/2171929331.py:7: SettingWithCopyWarning: \n",
      "A value is trying to be set on a copy of a slice from a DataFrame.\n",
      "Try using .loc[row_indexer,col_indexer] = value instead\n",
      "\n",
      "See the caveats in the documentation: https://pandas.pydata.org/pandas-docs/stable/user_guide/indexing.html#returning-a-view-versus-a-copy\n",
      "  df_train['y'] = train.loc[i,'d_1':].values\n"
     ]
    },
    {
     "name": "stdout",
     "output_type": "stream",
     "text": [
      "            date       d  wm_yr_wk  y  sell_price\n",
      "0     2011-01-29     d_1     11101  0         NaN\n",
      "1     2011-01-30     d_2     11101  1         NaN\n",
      "2     2011-01-31     d_3     11101  2         NaN\n",
      "3     2011-02-01     d_4     11101  3         NaN\n",
      "4     2011-02-02     d_5     11101  0         NaN\n",
      "...          ...     ...       ... ..         ...\n",
      "1922  2016-05-04  d_1923     11614  0        8.38\n",
      "1923  2016-05-05  d_1924     11614  2        8.38\n",
      "1924  2016-05-06  d_1925     11614  2        8.38\n",
      "1925  2016-05-07  d_1926     11615  1        8.38\n",
      "1926  2016-05-08  d_1927     11615  0        8.38\n",
      "\n",
      "[1927 rows x 5 columns]\n"
     ]
    },
    {
     "name": "stderr",
     "output_type": "stream",
     "text": [
      "/var/folders/mh/nyq1nwnj337cbkn7t5jhtlq40000gp/T/ipykernel_50531/2171929331.py:7: SettingWithCopyWarning: \n",
      "A value is trying to be set on a copy of a slice from a DataFrame.\n",
      "Try using .loc[row_indexer,col_indexer] = value instead\n",
      "\n",
      "See the caveats in the documentation: https://pandas.pydata.org/pandas-docs/stable/user_guide/indexing.html#returning-a-view-versus-a-copy\n",
      "  df_train['y'] = train.loc[i,'d_1':].values\n"
     ]
    },
    {
     "name": "stdout",
     "output_type": "stream",
     "text": [
      "            date       d  wm_yr_wk  y  sell_price\n",
      "0     2011-01-29     d_1     11101  0         NaN\n",
      "1     2011-01-30     d_2     11101  0         NaN\n",
      "2     2011-01-31     d_3     11101  0         NaN\n",
      "3     2011-02-01     d_4     11101  0         NaN\n",
      "4     2011-02-02     d_5     11101  0         NaN\n",
      "...          ...     ...       ... ..         ...\n",
      "1922  2016-05-04  d_1923     11614  0        8.38\n",
      "1923  2016-05-05  d_1924     11614  0        8.38\n",
      "1924  2016-05-06  d_1925     11614  0        8.38\n",
      "1925  2016-05-07  d_1926     11615  0        8.38\n",
      "1926  2016-05-08  d_1927     11615  0        8.38\n",
      "\n",
      "[1927 rows x 5 columns]\n"
     ]
    },
    {
     "name": "stderr",
     "output_type": "stream",
     "text": [
      "/var/folders/mh/nyq1nwnj337cbkn7t5jhtlq40000gp/T/ipykernel_50531/2171929331.py:7: SettingWithCopyWarning: \n",
      "A value is trying to be set on a copy of a slice from a DataFrame.\n",
      "Try using .loc[row_indexer,col_indexer] = value instead\n",
      "\n",
      "See the caveats in the documentation: https://pandas.pydata.org/pandas-docs/stable/user_guide/indexing.html#returning-a-view-versus-a-copy\n",
      "  df_train['y'] = train.loc[i,'d_1':].values\n"
     ]
    },
    {
     "name": "stdout",
     "output_type": "stream",
     "text": [
      "            date       d  wm_yr_wk  y  sell_price\n",
      "0     2011-01-29     d_1     11101  5         NaN\n",
      "1     2011-01-30     d_2     11101  0         NaN\n",
      "2     2011-01-31     d_3     11101  0         NaN\n",
      "3     2011-02-01     d_4     11101  0         NaN\n",
      "4     2011-02-02     d_5     11101  0         NaN\n",
      "...          ...     ...       ... ..         ...\n",
      "1922  2016-05-04  d_1923     11614  1        8.38\n",
      "1923  2016-05-05  d_1924     11614  0        8.38\n",
      "1924  2016-05-06  d_1925     11614  0        8.38\n",
      "1925  2016-05-07  d_1926     11615  1        8.38\n",
      "1926  2016-05-08  d_1927     11615  3        8.38\n",
      "\n",
      "[1927 rows x 5 columns]\n"
     ]
    },
    {
     "name": "stderr",
     "output_type": "stream",
     "text": [
      "/var/folders/mh/nyq1nwnj337cbkn7t5jhtlq40000gp/T/ipykernel_50531/2171929331.py:7: SettingWithCopyWarning: \n",
      "A value is trying to be set on a copy of a slice from a DataFrame.\n",
      "Try using .loc[row_indexer,col_indexer] = value instead\n",
      "\n",
      "See the caveats in the documentation: https://pandas.pydata.org/pandas-docs/stable/user_guide/indexing.html#returning-a-view-versus-a-copy\n",
      "  df_train['y'] = train.loc[i,'d_1':].values\n"
     ]
    },
    {
     "name": "stdout",
     "output_type": "stream",
     "text": [
      "            date       d  wm_yr_wk  y  sell_price\n",
      "0     2011-01-29     d_1     11101  2         NaN\n",
      "1     2011-01-30     d_2     11101  0         NaN\n",
      "2     2011-01-31     d_3     11101  1         NaN\n",
      "3     2011-02-01     d_4     11101  2         NaN\n",
      "4     2011-02-02     d_5     11101  0         NaN\n",
      "...          ...     ...       ... ..         ...\n",
      "1922  2016-05-04  d_1923     11614  0        8.38\n",
      "1923  2016-05-05  d_1924     11614  0        8.38\n",
      "1924  2016-05-06  d_1925     11614  2        8.38\n",
      "1925  2016-05-07  d_1926     11615  1        8.38\n",
      "1926  2016-05-08  d_1927     11615  1        8.38\n",
      "\n",
      "[1927 rows x 5 columns]\n"
     ]
    },
    {
     "name": "stderr",
     "output_type": "stream",
     "text": [
      "/var/folders/mh/nyq1nwnj337cbkn7t5jhtlq40000gp/T/ipykernel_50531/2171929331.py:7: SettingWithCopyWarning: \n",
      "A value is trying to be set on a copy of a slice from a DataFrame.\n",
      "Try using .loc[row_indexer,col_indexer] = value instead\n",
      "\n",
      "See the caveats in the documentation: https://pandas.pydata.org/pandas-docs/stable/user_guide/indexing.html#returning-a-view-versus-a-copy\n",
      "  df_train['y'] = train.loc[i,'d_1':].values\n"
     ]
    },
    {
     "name": "stdout",
     "output_type": "stream",
     "text": [
      "            date       d  wm_yr_wk  y  sell_price\n",
      "0     2011-01-29     d_1     11101  0         NaN\n",
      "1     2011-01-30     d_2     11101  0         NaN\n",
      "2     2011-01-31     d_3     11101  0         NaN\n",
      "3     2011-02-01     d_4     11101  0         NaN\n",
      "4     2011-02-02     d_5     11101  1         NaN\n",
      "...          ...     ...       ... ..         ...\n",
      "1922  2016-05-04  d_1923     11614  0        8.38\n",
      "1923  2016-05-05  d_1924     11614  0        8.38\n",
      "1924  2016-05-06  d_1925     11614  3        8.38\n",
      "1925  2016-05-07  d_1926     11615  0        8.38\n",
      "1926  2016-05-08  d_1927     11615  5        8.38\n",
      "\n",
      "[1927 rows x 5 columns]\n"
     ]
    },
    {
     "name": "stderr",
     "output_type": "stream",
     "text": [
      "/var/folders/mh/nyq1nwnj337cbkn7t5jhtlq40000gp/T/ipykernel_50531/2171929331.py:7: SettingWithCopyWarning: \n",
      "A value is trying to be set on a copy of a slice from a DataFrame.\n",
      "Try using .loc[row_indexer,col_indexer] = value instead\n",
      "\n",
      "See the caveats in the documentation: https://pandas.pydata.org/pandas-docs/stable/user_guide/indexing.html#returning-a-view-versus-a-copy\n",
      "  df_train['y'] = train.loc[i,'d_1':].values\n"
     ]
    },
    {
     "name": "stdout",
     "output_type": "stream",
     "text": [
      "            date       d  wm_yr_wk  y  sell_price\n",
      "0     2011-01-29     d_1     11101  0         NaN\n",
      "1     2011-01-30     d_2     11101  0         NaN\n",
      "2     2011-01-31     d_3     11101  0         NaN\n",
      "3     2011-02-01     d_4     11101  0         NaN\n",
      "4     2011-02-02     d_5     11101  0         NaN\n",
      "...          ...     ...       ... ..         ...\n",
      "1922  2016-05-04  d_1923     11614  0        8.38\n",
      "1923  2016-05-05  d_1924     11614  2        8.38\n",
      "1924  2016-05-06  d_1925     11614  0        8.38\n",
      "1925  2016-05-07  d_1926     11615  1        8.38\n",
      "1926  2016-05-08  d_1927     11615  0        8.38\n",
      "\n",
      "[1927 rows x 5 columns]\n"
     ]
    },
    {
     "name": "stderr",
     "output_type": "stream",
     "text": [
      "/var/folders/mh/nyq1nwnj337cbkn7t5jhtlq40000gp/T/ipykernel_50531/2171929331.py:7: SettingWithCopyWarning: \n",
      "A value is trying to be set on a copy of a slice from a DataFrame.\n",
      "Try using .loc[row_indexer,col_indexer] = value instead\n",
      "\n",
      "See the caveats in the documentation: https://pandas.pydata.org/pandas-docs/stable/user_guide/indexing.html#returning-a-view-versus-a-copy\n",
      "  df_train['y'] = train.loc[i,'d_1':].values\n"
     ]
    },
    {
     "name": "stdout",
     "output_type": "stream",
     "text": [
      "            date       d  wm_yr_wk  y  sell_price\n",
      "0     2011-01-29     d_1     11101  0         NaN\n",
      "1     2011-01-30     d_2     11101  0         NaN\n",
      "2     2011-01-31     d_3     11101  1         NaN\n",
      "3     2011-02-01     d_4     11101  0         NaN\n",
      "4     2011-02-02     d_5     11101  0         NaN\n",
      "...          ...     ...       ... ..         ...\n",
      "1922  2016-05-04  d_1923     11614  0        8.38\n",
      "1923  2016-05-05  d_1924     11614  2        8.38\n",
      "1924  2016-05-06  d_1925     11614  0        8.38\n",
      "1925  2016-05-07  d_1926     11615  0        8.38\n",
      "1926  2016-05-08  d_1927     11615  0        8.38\n",
      "\n",
      "[1927 rows x 5 columns]\n"
     ]
    },
    {
     "name": "stderr",
     "output_type": "stream",
     "text": [
      "/var/folders/mh/nyq1nwnj337cbkn7t5jhtlq40000gp/T/ipykernel_50531/2171929331.py:7: SettingWithCopyWarning: \n",
      "A value is trying to be set on a copy of a slice from a DataFrame.\n",
      "Try using .loc[row_indexer,col_indexer] = value instead\n",
      "\n",
      "See the caveats in the documentation: https://pandas.pydata.org/pandas-docs/stable/user_guide/indexing.html#returning-a-view-versus-a-copy\n",
      "  df_train['y'] = train.loc[i,'d_1':].values\n"
     ]
    },
    {
     "name": "stdout",
     "output_type": "stream",
     "text": [
      "            date       d  wm_yr_wk  y  sell_price\n",
      "0     2011-01-29     d_1     11101  0         NaN\n",
      "1     2011-01-30     d_2     11101  0         NaN\n",
      "2     2011-01-31     d_3     11101  0         NaN\n",
      "3     2011-02-01     d_4     11101  0         NaN\n",
      "4     2011-02-02     d_5     11101  0         NaN\n",
      "...          ...     ...       ... ..         ...\n",
      "1922  2016-05-04  d_1923     11614  0        8.38\n",
      "1923  2016-05-05  d_1924     11614  2        8.38\n",
      "1924  2016-05-06  d_1925     11614  2        8.38\n",
      "1925  2016-05-07  d_1926     11615  0        8.38\n",
      "1926  2016-05-08  d_1927     11615  0        8.38\n",
      "\n",
      "[1927 rows x 5 columns]\n"
     ]
    },
    {
     "name": "stderr",
     "output_type": "stream",
     "text": [
      "/var/folders/mh/nyq1nwnj337cbkn7t5jhtlq40000gp/T/ipykernel_50531/2171929331.py:7: SettingWithCopyWarning: \n",
      "A value is trying to be set on a copy of a slice from a DataFrame.\n",
      "Try using .loc[row_indexer,col_indexer] = value instead\n",
      "\n",
      "See the caveats in the documentation: https://pandas.pydata.org/pandas-docs/stable/user_guide/indexing.html#returning-a-view-versus-a-copy\n",
      "  df_train['y'] = train.loc[i,'d_1':].values\n"
     ]
    },
    {
     "name": "stdout",
     "output_type": "stream",
     "text": [
      "            date       d  wm_yr_wk  y  sell_price\n",
      "0     2011-01-29     d_1     11101  4         NaN\n",
      "1     2011-01-30     d_2     11101  1         NaN\n",
      "2     2011-01-31     d_3     11101  1         NaN\n",
      "3     2011-02-01     d_4     11101  1         NaN\n",
      "4     2011-02-02     d_5     11101  2         NaN\n",
      "...          ...     ...       ... ..         ...\n",
      "1922  2016-05-04  d_1923     11614  2        8.38\n",
      "1923  2016-05-05  d_1924     11614  0        8.38\n",
      "1924  2016-05-06  d_1925     11614  0        8.38\n",
      "1925  2016-05-07  d_1926     11615  0        8.38\n",
      "1926  2016-05-08  d_1927     11615  0        8.38\n",
      "\n",
      "[1927 rows x 5 columns]\n"
     ]
    },
    {
     "name": "stderr",
     "output_type": "stream",
     "text": [
      "/var/folders/mh/nyq1nwnj337cbkn7t5jhtlq40000gp/T/ipykernel_50531/2171929331.py:7: SettingWithCopyWarning: \n",
      "A value is trying to be set on a copy of a slice from a DataFrame.\n",
      "Try using .loc[row_indexer,col_indexer] = value instead\n",
      "\n",
      "See the caveats in the documentation: https://pandas.pydata.org/pandas-docs/stable/user_guide/indexing.html#returning-a-view-versus-a-copy\n",
      "  df_train['y'] = train.loc[i,'d_1':].values\n"
     ]
    },
    {
     "name": "stdout",
     "output_type": "stream",
     "text": [
      "            date       d  wm_yr_wk  y  sell_price\n",
      "0     2011-01-29     d_1     11101  0         NaN\n",
      "1     2011-01-30     d_2     11101  0         NaN\n",
      "2     2011-01-31     d_3     11101  0         NaN\n",
      "3     2011-02-01     d_4     11101  0         NaN\n",
      "4     2011-02-02     d_5     11101  0         NaN\n",
      "...          ...     ...       ... ..         ...\n",
      "1922  2016-05-04  d_1923     11614  1        8.38\n",
      "1923  2016-05-05  d_1924     11614  0        8.38\n",
      "1924  2016-05-06  d_1925     11614  2        8.38\n",
      "1925  2016-05-07  d_1926     11615  3        8.38\n",
      "1926  2016-05-08  d_1927     11615  0        8.38\n",
      "\n",
      "[1927 rows x 5 columns]\n"
     ]
    },
    {
     "name": "stderr",
     "output_type": "stream",
     "text": [
      "/var/folders/mh/nyq1nwnj337cbkn7t5jhtlq40000gp/T/ipykernel_50531/2171929331.py:7: SettingWithCopyWarning: \n",
      "A value is trying to be set on a copy of a slice from a DataFrame.\n",
      "Try using .loc[row_indexer,col_indexer] = value instead\n",
      "\n",
      "See the caveats in the documentation: https://pandas.pydata.org/pandas-docs/stable/user_guide/indexing.html#returning-a-view-versus-a-copy\n",
      "  df_train['y'] = train.loc[i,'d_1':].values\n"
     ]
    },
    {
     "name": "stdout",
     "output_type": "stream",
     "text": [
      "            date       d  wm_yr_wk  y  sell_price\n",
      "0     2011-01-29     d_1     11101  1         NaN\n",
      "1     2011-01-30     d_2     11101  1         NaN\n",
      "2     2011-01-31     d_3     11101  0         NaN\n",
      "3     2011-02-01     d_4     11101  3         NaN\n",
      "4     2011-02-02     d_5     11101  0         NaN\n",
      "...          ...     ...       ... ..         ...\n",
      "1922  2016-05-04  d_1923     11614  0        8.38\n",
      "1923  2016-05-05  d_1924     11614  0        8.38\n",
      "1924  2016-05-06  d_1925     11614  0        8.38\n",
      "1925  2016-05-07  d_1926     11615  3        8.38\n",
      "1926  2016-05-08  d_1927     11615  3        8.38\n",
      "\n",
      "[1927 rows x 5 columns]\n"
     ]
    },
    {
     "name": "stderr",
     "output_type": "stream",
     "text": [
      "/var/folders/mh/nyq1nwnj337cbkn7t5jhtlq40000gp/T/ipykernel_50531/2171929331.py:7: SettingWithCopyWarning: \n",
      "A value is trying to be set on a copy of a slice from a DataFrame.\n",
      "Try using .loc[row_indexer,col_indexer] = value instead\n",
      "\n",
      "See the caveats in the documentation: https://pandas.pydata.org/pandas-docs/stable/user_guide/indexing.html#returning-a-view-versus-a-copy\n",
      "  df_train['y'] = train.loc[i,'d_1':].values\n"
     ]
    },
    {
     "name": "stdout",
     "output_type": "stream",
     "text": [
      "            date       d  wm_yr_wk  y  sell_price\n",
      "0     2011-01-29     d_1     11101  0         NaN\n",
      "1     2011-01-30     d_2     11101  0         NaN\n",
      "2     2011-01-31     d_3     11101  0         NaN\n",
      "3     2011-02-01     d_4     11101  0         NaN\n",
      "4     2011-02-02     d_5     11101  0         NaN\n",
      "...          ...     ...       ... ..         ...\n",
      "1922  2016-05-04  d_1923     11614  0        8.38\n",
      "1923  2016-05-05  d_1924     11614  0        8.38\n",
      "1924  2016-05-06  d_1925     11614  0        8.38\n",
      "1925  2016-05-07  d_1926     11615  1        8.38\n",
      "1926  2016-05-08  d_1927     11615  2        8.38\n",
      "\n",
      "[1927 rows x 5 columns]\n"
     ]
    },
    {
     "name": "stderr",
     "output_type": "stream",
     "text": [
      "/var/folders/mh/nyq1nwnj337cbkn7t5jhtlq40000gp/T/ipykernel_50531/2171929331.py:7: SettingWithCopyWarning: \n",
      "A value is trying to be set on a copy of a slice from a DataFrame.\n",
      "Try using .loc[row_indexer,col_indexer] = value instead\n",
      "\n",
      "See the caveats in the documentation: https://pandas.pydata.org/pandas-docs/stable/user_guide/indexing.html#returning-a-view-versus-a-copy\n",
      "  df_train['y'] = train.loc[i,'d_1':].values\n"
     ]
    },
    {
     "name": "stdout",
     "output_type": "stream",
     "text": [
      "            date       d  wm_yr_wk  y  sell_price\n",
      "0     2011-01-29     d_1     11101  1         NaN\n",
      "1     2011-01-30     d_2     11101  0         NaN\n",
      "2     2011-01-31     d_3     11101  2         NaN\n",
      "3     2011-02-01     d_4     11101  0         NaN\n",
      "4     2011-02-02     d_5     11101  0         NaN\n",
      "...          ...     ...       ... ..         ...\n",
      "1922  2016-05-04  d_1923     11614  0        8.38\n",
      "1923  2016-05-05  d_1924     11614  0        8.38\n",
      "1924  2016-05-06  d_1925     11614  2        8.38\n",
      "1925  2016-05-07  d_1926     11615  0        8.38\n",
      "1926  2016-05-08  d_1927     11615  3        8.38\n",
      "\n",
      "[1927 rows x 5 columns]\n"
     ]
    },
    {
     "name": "stderr",
     "output_type": "stream",
     "text": [
      "/var/folders/mh/nyq1nwnj337cbkn7t5jhtlq40000gp/T/ipykernel_50531/2171929331.py:7: SettingWithCopyWarning: \n",
      "A value is trying to be set on a copy of a slice from a DataFrame.\n",
      "Try using .loc[row_indexer,col_indexer] = value instead\n",
      "\n",
      "See the caveats in the documentation: https://pandas.pydata.org/pandas-docs/stable/user_guide/indexing.html#returning-a-view-versus-a-copy\n",
      "  df_train['y'] = train.loc[i,'d_1':].values\n"
     ]
    },
    {
     "name": "stdout",
     "output_type": "stream",
     "text": [
      "            date       d  wm_yr_wk  y  sell_price\n",
      "0     2011-01-29     d_1     11101  5         NaN\n",
      "1     2011-01-30     d_2     11101  4         NaN\n",
      "2     2011-01-31     d_3     11101  4         NaN\n",
      "3     2011-02-01     d_4     11101  5         NaN\n",
      "4     2011-02-02     d_5     11101  2         NaN\n",
      "...          ...     ...       ... ..         ...\n",
      "1922  2016-05-04  d_1923     11614  1        8.38\n",
      "1923  2016-05-05  d_1924     11614  4        8.38\n",
      "1924  2016-05-06  d_1925     11614  1        8.38\n",
      "1925  2016-05-07  d_1926     11615  3        8.38\n",
      "1926  2016-05-08  d_1927     11615  3        8.38\n",
      "\n",
      "[1927 rows x 5 columns]\n"
     ]
    },
    {
     "name": "stderr",
     "output_type": "stream",
     "text": [
      "/var/folders/mh/nyq1nwnj337cbkn7t5jhtlq40000gp/T/ipykernel_50531/2171929331.py:7: SettingWithCopyWarning: \n",
      "A value is trying to be set on a copy of a slice from a DataFrame.\n",
      "Try using .loc[row_indexer,col_indexer] = value instead\n",
      "\n",
      "See the caveats in the documentation: https://pandas.pydata.org/pandas-docs/stable/user_guide/indexing.html#returning-a-view-versus-a-copy\n",
      "  df_train['y'] = train.loc[i,'d_1':].values\n"
     ]
    },
    {
     "name": "stdout",
     "output_type": "stream",
     "text": [
      "            date       d  wm_yr_wk   y  sell_price\n",
      "0     2011-01-29     d_1     11101   0         NaN\n",
      "1     2011-01-30     d_2     11101   0         NaN\n",
      "2     2011-01-31     d_3     11101   0         NaN\n",
      "3     2011-02-01     d_4     11101   0         NaN\n",
      "4     2011-02-02     d_5     11101   0         NaN\n",
      "...          ...     ...       ...  ..         ...\n",
      "1922  2016-05-04  d_1923     11614   6        8.38\n",
      "1923  2016-05-05  d_1924     11614   1        8.38\n",
      "1924  2016-05-06  d_1925     11614   4        8.38\n",
      "1925  2016-05-07  d_1926     11615  20        8.38\n",
      "1926  2016-05-08  d_1927     11615   1        8.38\n",
      "\n",
      "[1927 rows x 5 columns]\n"
     ]
    },
    {
     "name": "stderr",
     "output_type": "stream",
     "text": [
      "/var/folders/mh/nyq1nwnj337cbkn7t5jhtlq40000gp/T/ipykernel_50531/2171929331.py:7: SettingWithCopyWarning: \n",
      "A value is trying to be set on a copy of a slice from a DataFrame.\n",
      "Try using .loc[row_indexer,col_indexer] = value instead\n",
      "\n",
      "See the caveats in the documentation: https://pandas.pydata.org/pandas-docs/stable/user_guide/indexing.html#returning-a-view-versus-a-copy\n",
      "  df_train['y'] = train.loc[i,'d_1':].values\n"
     ]
    },
    {
     "name": "stdout",
     "output_type": "stream",
     "text": [
      "            date       d  wm_yr_wk   y  sell_price\n",
      "0     2011-01-29     d_1     11101   0         NaN\n",
      "1     2011-01-30     d_2     11101   0         NaN\n",
      "2     2011-01-31     d_3     11101   0         NaN\n",
      "3     2011-02-01     d_4     11101   0         NaN\n",
      "4     2011-02-02     d_5     11101   0         NaN\n",
      "...          ...     ...       ...  ..         ...\n",
      "1922  2016-05-04  d_1923     11614   2        8.38\n",
      "1923  2016-05-05  d_1924     11614   0        8.38\n",
      "1924  2016-05-06  d_1925     11614   1        8.38\n",
      "1925  2016-05-07  d_1926     11615   0        8.38\n",
      "1926  2016-05-08  d_1927     11615  12        8.38\n",
      "\n",
      "[1927 rows x 5 columns]\n"
     ]
    },
    {
     "name": "stderr",
     "output_type": "stream",
     "text": [
      "/var/folders/mh/nyq1nwnj337cbkn7t5jhtlq40000gp/T/ipykernel_50531/2171929331.py:7: SettingWithCopyWarning: \n",
      "A value is trying to be set on a copy of a slice from a DataFrame.\n",
      "Try using .loc[row_indexer,col_indexer] = value instead\n",
      "\n",
      "See the caveats in the documentation: https://pandas.pydata.org/pandas-docs/stable/user_guide/indexing.html#returning-a-view-versus-a-copy\n",
      "  df_train['y'] = train.loc[i,'d_1':].values\n"
     ]
    },
    {
     "name": "stdout",
     "output_type": "stream",
     "text": [
      "            date       d  wm_yr_wk  y  sell_price\n",
      "0     2011-01-29     d_1     11101  1         NaN\n",
      "1     2011-01-30     d_2     11101  1         NaN\n",
      "2     2011-01-31     d_3     11101  1         NaN\n",
      "3     2011-02-01     d_4     11101  0         NaN\n",
      "4     2011-02-02     d_5     11101  0         NaN\n",
      "...          ...     ...       ... ..         ...\n",
      "1922  2016-05-04  d_1923     11614  0        8.38\n",
      "1923  2016-05-05  d_1924     11614  0        8.38\n",
      "1924  2016-05-06  d_1925     11614  1        8.38\n",
      "1925  2016-05-07  d_1926     11615  0        8.38\n",
      "1926  2016-05-08  d_1927     11615  0        8.38\n",
      "\n",
      "[1927 rows x 5 columns]\n"
     ]
    },
    {
     "name": "stderr",
     "output_type": "stream",
     "text": [
      "/var/folders/mh/nyq1nwnj337cbkn7t5jhtlq40000gp/T/ipykernel_50531/2171929331.py:7: SettingWithCopyWarning: \n",
      "A value is trying to be set on a copy of a slice from a DataFrame.\n",
      "Try using .loc[row_indexer,col_indexer] = value instead\n",
      "\n",
      "See the caveats in the documentation: https://pandas.pydata.org/pandas-docs/stable/user_guide/indexing.html#returning-a-view-versus-a-copy\n",
      "  df_train['y'] = train.loc[i,'d_1':].values\n"
     ]
    },
    {
     "name": "stdout",
     "output_type": "stream",
     "text": [
      "            date       d  wm_yr_wk  y  sell_price\n",
      "0     2011-01-29     d_1     11101  0         NaN\n",
      "1     2011-01-30     d_2     11101  0         NaN\n",
      "2     2011-01-31     d_3     11101  0         NaN\n",
      "3     2011-02-01     d_4     11101  0         NaN\n",
      "4     2011-02-02     d_5     11101  0         NaN\n",
      "...          ...     ...       ... ..         ...\n",
      "1922  2016-05-04  d_1923     11614  0        8.38\n",
      "1923  2016-05-05  d_1924     11614  1        8.38\n",
      "1924  2016-05-06  d_1925     11614  0        8.38\n",
      "1925  2016-05-07  d_1926     11615  0        8.38\n",
      "1926  2016-05-08  d_1927     11615  0        8.38\n",
      "\n",
      "[1927 rows x 5 columns]\n"
     ]
    },
    {
     "name": "stderr",
     "output_type": "stream",
     "text": [
      "/var/folders/mh/nyq1nwnj337cbkn7t5jhtlq40000gp/T/ipykernel_50531/2171929331.py:7: SettingWithCopyWarning: \n",
      "A value is trying to be set on a copy of a slice from a DataFrame.\n",
      "Try using .loc[row_indexer,col_indexer] = value instead\n",
      "\n",
      "See the caveats in the documentation: https://pandas.pydata.org/pandas-docs/stable/user_guide/indexing.html#returning-a-view-versus-a-copy\n",
      "  df_train['y'] = train.loc[i,'d_1':].values\n"
     ]
    },
    {
     "name": "stdout",
     "output_type": "stream",
     "text": [
      "            date       d  wm_yr_wk  y  sell_price\n",
      "0     2011-01-29     d_1     11101  0         NaN\n",
      "1     2011-01-30     d_2     11101  0         NaN\n",
      "2     2011-01-31     d_3     11101  0         NaN\n",
      "3     2011-02-01     d_4     11101  0         NaN\n",
      "4     2011-02-02     d_5     11101  0         NaN\n",
      "...          ...     ...       ... ..         ...\n",
      "1922  2016-05-04  d_1923     11614  0        8.38\n",
      "1923  2016-05-05  d_1924     11614  0        8.38\n",
      "1924  2016-05-06  d_1925     11614  2        8.38\n",
      "1925  2016-05-07  d_1926     11615  1        8.38\n",
      "1926  2016-05-08  d_1927     11615  0        8.38\n",
      "\n",
      "[1927 rows x 5 columns]\n"
     ]
    },
    {
     "name": "stderr",
     "output_type": "stream",
     "text": [
      "/var/folders/mh/nyq1nwnj337cbkn7t5jhtlq40000gp/T/ipykernel_50531/2171929331.py:7: SettingWithCopyWarning: \n",
      "A value is trying to be set on a copy of a slice from a DataFrame.\n",
      "Try using .loc[row_indexer,col_indexer] = value instead\n",
      "\n",
      "See the caveats in the documentation: https://pandas.pydata.org/pandas-docs/stable/user_guide/indexing.html#returning-a-view-versus-a-copy\n",
      "  df_train['y'] = train.loc[i,'d_1':].values\n"
     ]
    },
    {
     "name": "stdout",
     "output_type": "stream",
     "text": [
      "            date       d  wm_yr_wk  y  sell_price\n",
      "0     2011-01-29     d_1     11101  0         NaN\n",
      "1     2011-01-30     d_2     11101  0         NaN\n",
      "2     2011-01-31     d_3     11101  0         NaN\n",
      "3     2011-02-01     d_4     11101  0         NaN\n",
      "4     2011-02-02     d_5     11101  0         NaN\n",
      "...          ...     ...       ... ..         ...\n",
      "1922  2016-05-04  d_1923     11614  0        8.38\n",
      "1923  2016-05-05  d_1924     11614  0        8.38\n",
      "1924  2016-05-06  d_1925     11614  0        8.38\n",
      "1925  2016-05-07  d_1926     11615  0        8.38\n",
      "1926  2016-05-08  d_1927     11615  0        8.38\n",
      "\n",
      "[1927 rows x 5 columns]\n"
     ]
    },
    {
     "name": "stderr",
     "output_type": "stream",
     "text": [
      "/var/folders/mh/nyq1nwnj337cbkn7t5jhtlq40000gp/T/ipykernel_50531/2171929331.py:7: SettingWithCopyWarning: \n",
      "A value is trying to be set on a copy of a slice from a DataFrame.\n",
      "Try using .loc[row_indexer,col_indexer] = value instead\n",
      "\n",
      "See the caveats in the documentation: https://pandas.pydata.org/pandas-docs/stable/user_guide/indexing.html#returning-a-view-versus-a-copy\n",
      "  df_train['y'] = train.loc[i,'d_1':].values\n"
     ]
    },
    {
     "name": "stdout",
     "output_type": "stream",
     "text": [
      "            date       d  wm_yr_wk  y  sell_price\n",
      "0     2011-01-29     d_1     11101  0         NaN\n",
      "1     2011-01-30     d_2     11101  4         NaN\n",
      "2     2011-01-31     d_3     11101  2         NaN\n",
      "3     2011-02-01     d_4     11101  0         NaN\n",
      "4     2011-02-02     d_5     11101  2         NaN\n",
      "...          ...     ...       ... ..         ...\n",
      "1922  2016-05-04  d_1923     11614  0        8.38\n",
      "1923  2016-05-05  d_1924     11614  2        8.38\n",
      "1924  2016-05-06  d_1925     11614  0        8.38\n",
      "1925  2016-05-07  d_1926     11615  0        8.38\n",
      "1926  2016-05-08  d_1927     11615  1        8.38\n",
      "\n",
      "[1927 rows x 5 columns]\n"
     ]
    },
    {
     "name": "stderr",
     "output_type": "stream",
     "text": [
      "/var/folders/mh/nyq1nwnj337cbkn7t5jhtlq40000gp/T/ipykernel_50531/2171929331.py:7: SettingWithCopyWarning: \n",
      "A value is trying to be set on a copy of a slice from a DataFrame.\n",
      "Try using .loc[row_indexer,col_indexer] = value instead\n",
      "\n",
      "See the caveats in the documentation: https://pandas.pydata.org/pandas-docs/stable/user_guide/indexing.html#returning-a-view-versus-a-copy\n",
      "  df_train['y'] = train.loc[i,'d_1':].values\n"
     ]
    },
    {
     "name": "stdout",
     "output_type": "stream",
     "text": [
      "            date       d  wm_yr_wk  y  sell_price\n",
      "0     2011-01-29     d_1     11101  2         NaN\n",
      "1     2011-01-30     d_2     11101  2         NaN\n",
      "2     2011-01-31     d_3     11101  4         NaN\n",
      "3     2011-02-01     d_4     11101  0         NaN\n",
      "4     2011-02-02     d_5     11101  0         NaN\n",
      "...          ...     ...       ... ..         ...\n",
      "1922  2016-05-04  d_1923     11614  0        8.38\n",
      "1923  2016-05-05  d_1924     11614  1        8.38\n",
      "1924  2016-05-06  d_1925     11614  3        8.38\n",
      "1925  2016-05-07  d_1926     11615  1        8.38\n",
      "1926  2016-05-08  d_1927     11615  0        8.38\n",
      "\n",
      "[1927 rows x 5 columns]\n"
     ]
    },
    {
     "name": "stderr",
     "output_type": "stream",
     "text": [
      "/var/folders/mh/nyq1nwnj337cbkn7t5jhtlq40000gp/T/ipykernel_50531/2171929331.py:7: SettingWithCopyWarning: \n",
      "A value is trying to be set on a copy of a slice from a DataFrame.\n",
      "Try using .loc[row_indexer,col_indexer] = value instead\n",
      "\n",
      "See the caveats in the documentation: https://pandas.pydata.org/pandas-docs/stable/user_guide/indexing.html#returning-a-view-versus-a-copy\n",
      "  df_train['y'] = train.loc[i,'d_1':].values\n"
     ]
    },
    {
     "name": "stdout",
     "output_type": "stream",
     "text": [
      "            date       d  wm_yr_wk  y  sell_price\n",
      "0     2011-01-29     d_1     11101  2         NaN\n",
      "1     2011-01-30     d_2     11101  1         NaN\n",
      "2     2011-01-31     d_3     11101  1         NaN\n",
      "3     2011-02-01     d_4     11101  1         NaN\n",
      "4     2011-02-02     d_5     11101  3         NaN\n",
      "...          ...     ...       ... ..         ...\n",
      "1922  2016-05-04  d_1923     11614  0        8.38\n",
      "1923  2016-05-05  d_1924     11614  4        8.38\n",
      "1924  2016-05-06  d_1925     11614  3        8.38\n",
      "1925  2016-05-07  d_1926     11615  1        8.38\n",
      "1926  2016-05-08  d_1927     11615  1        8.38\n",
      "\n",
      "[1927 rows x 5 columns]\n"
     ]
    },
    {
     "name": "stderr",
     "output_type": "stream",
     "text": [
      "/var/folders/mh/nyq1nwnj337cbkn7t5jhtlq40000gp/T/ipykernel_50531/2171929331.py:7: SettingWithCopyWarning: \n",
      "A value is trying to be set on a copy of a slice from a DataFrame.\n",
      "Try using .loc[row_indexer,col_indexer] = value instead\n",
      "\n",
      "See the caveats in the documentation: https://pandas.pydata.org/pandas-docs/stable/user_guide/indexing.html#returning-a-view-versus-a-copy\n",
      "  df_train['y'] = train.loc[i,'d_1':].values\n"
     ]
    },
    {
     "name": "stdout",
     "output_type": "stream",
     "text": [
      "            date       d  wm_yr_wk  y  sell_price\n",
      "0     2011-01-29     d_1     11101  1         NaN\n",
      "1     2011-01-30     d_2     11101  2         NaN\n",
      "2     2011-01-31     d_3     11101  2         NaN\n",
      "3     2011-02-01     d_4     11101  1         NaN\n",
      "4     2011-02-02     d_5     11101  3         NaN\n",
      "...          ...     ...       ... ..         ...\n",
      "1922  2016-05-04  d_1923     11614  2        8.38\n",
      "1923  2016-05-05  d_1924     11614  0        8.38\n",
      "1924  2016-05-06  d_1925     11614  0        8.38\n",
      "1925  2016-05-07  d_1926     11615  1        8.38\n",
      "1926  2016-05-08  d_1927     11615  2        8.38\n",
      "\n",
      "[1927 rows x 5 columns]\n"
     ]
    },
    {
     "name": "stderr",
     "output_type": "stream",
     "text": [
      "/var/folders/mh/nyq1nwnj337cbkn7t5jhtlq40000gp/T/ipykernel_50531/2171929331.py:7: SettingWithCopyWarning: \n",
      "A value is trying to be set on a copy of a slice from a DataFrame.\n",
      "Try using .loc[row_indexer,col_indexer] = value instead\n",
      "\n",
      "See the caveats in the documentation: https://pandas.pydata.org/pandas-docs/stable/user_guide/indexing.html#returning-a-view-versus-a-copy\n",
      "  df_train['y'] = train.loc[i,'d_1':].values\n"
     ]
    },
    {
     "name": "stdout",
     "output_type": "stream",
     "text": [
      "            date       d  wm_yr_wk  y  sell_price\n",
      "0     2011-01-29     d_1     11101  0         NaN\n",
      "1     2011-01-30     d_2     11101  0         NaN\n",
      "2     2011-01-31     d_3     11101  0         NaN\n",
      "3     2011-02-01     d_4     11101  0         NaN\n",
      "4     2011-02-02     d_5     11101  0         NaN\n",
      "...          ...     ...       ... ..         ...\n",
      "1922  2016-05-04  d_1923     11614  1        8.38\n",
      "1923  2016-05-05  d_1924     11614  0        8.38\n",
      "1924  2016-05-06  d_1925     11614  0        8.38\n",
      "1925  2016-05-07  d_1926     11615  0        8.38\n",
      "1926  2016-05-08  d_1927     11615  0        8.38\n",
      "\n",
      "[1927 rows x 5 columns]\n"
     ]
    },
    {
     "name": "stderr",
     "output_type": "stream",
     "text": [
      "/var/folders/mh/nyq1nwnj337cbkn7t5jhtlq40000gp/T/ipykernel_50531/2171929331.py:7: SettingWithCopyWarning: \n",
      "A value is trying to be set on a copy of a slice from a DataFrame.\n",
      "Try using .loc[row_indexer,col_indexer] = value instead\n",
      "\n",
      "See the caveats in the documentation: https://pandas.pydata.org/pandas-docs/stable/user_guide/indexing.html#returning-a-view-versus-a-copy\n",
      "  df_train['y'] = train.loc[i,'d_1':].values\n"
     ]
    },
    {
     "name": "stdout",
     "output_type": "stream",
     "text": [
      "            date       d  wm_yr_wk   y  sell_price\n",
      "0     2011-01-29     d_1     11101  25         NaN\n",
      "1     2011-01-30     d_2     11101   8         NaN\n",
      "2     2011-01-31     d_3     11101   5         NaN\n",
      "3     2011-02-01     d_4     11101  22         NaN\n",
      "4     2011-02-02     d_5     11101   7         NaN\n",
      "...          ...     ...       ...  ..         ...\n",
      "1922  2016-05-04  d_1923     11614   0        8.38\n",
      "1923  2016-05-05  d_1924     11614   3        8.38\n",
      "1924  2016-05-06  d_1925     11614   4        8.38\n",
      "1925  2016-05-07  d_1926     11615   2        8.38\n",
      "1926  2016-05-08  d_1927     11615   0        8.38\n",
      "\n",
      "[1927 rows x 5 columns]\n"
     ]
    },
    {
     "name": "stderr",
     "output_type": "stream",
     "text": [
      "/var/folders/mh/nyq1nwnj337cbkn7t5jhtlq40000gp/T/ipykernel_50531/2171929331.py:7: SettingWithCopyWarning: \n",
      "A value is trying to be set on a copy of a slice from a DataFrame.\n",
      "Try using .loc[row_indexer,col_indexer] = value instead\n",
      "\n",
      "See the caveats in the documentation: https://pandas.pydata.org/pandas-docs/stable/user_guide/indexing.html#returning-a-view-versus-a-copy\n",
      "  df_train['y'] = train.loc[i,'d_1':].values\n"
     ]
    },
    {
     "name": "stdout",
     "output_type": "stream",
     "text": [
      "            date       d  wm_yr_wk  y  sell_price\n",
      "0     2011-01-29     d_1     11101  0         NaN\n",
      "1     2011-01-30     d_2     11101  0         NaN\n",
      "2     2011-01-31     d_3     11101  0         NaN\n",
      "3     2011-02-01     d_4     11101  0         NaN\n",
      "4     2011-02-02     d_5     11101  0         NaN\n",
      "...          ...     ...       ... ..         ...\n",
      "1922  2016-05-04  d_1923     11614  0        8.38\n",
      "1923  2016-05-05  d_1924     11614  0        8.38\n",
      "1924  2016-05-06  d_1925     11614  0        8.38\n",
      "1925  2016-05-07  d_1926     11615  0        8.38\n",
      "1926  2016-05-08  d_1927     11615  0        8.38\n",
      "\n",
      "[1927 rows x 5 columns]\n"
     ]
    },
    {
     "name": "stderr",
     "output_type": "stream",
     "text": [
      "/var/folders/mh/nyq1nwnj337cbkn7t5jhtlq40000gp/T/ipykernel_50531/2171929331.py:7: SettingWithCopyWarning: \n",
      "A value is trying to be set on a copy of a slice from a DataFrame.\n",
      "Try using .loc[row_indexer,col_indexer] = value instead\n",
      "\n",
      "See the caveats in the documentation: https://pandas.pydata.org/pandas-docs/stable/user_guide/indexing.html#returning-a-view-versus-a-copy\n",
      "  df_train['y'] = train.loc[i,'d_1':].values\n"
     ]
    },
    {
     "name": "stdout",
     "output_type": "stream",
     "text": [
      "            date       d  wm_yr_wk  y  sell_price\n",
      "0     2011-01-29     d_1     11101  0         NaN\n",
      "1     2011-01-30     d_2     11101  0         NaN\n",
      "2     2011-01-31     d_3     11101  1         NaN\n",
      "3     2011-02-01     d_4     11101  3         NaN\n",
      "4     2011-02-02     d_5     11101  0         NaN\n",
      "...          ...     ...       ... ..         ...\n",
      "1922  2016-05-04  d_1923     11614  1        8.38\n",
      "1923  2016-05-05  d_1924     11614  1        8.38\n",
      "1924  2016-05-06  d_1925     11614  0        8.38\n",
      "1925  2016-05-07  d_1926     11615  1        8.38\n",
      "1926  2016-05-08  d_1927     11615  1        8.38\n",
      "\n",
      "[1927 rows x 5 columns]\n"
     ]
    },
    {
     "name": "stderr",
     "output_type": "stream",
     "text": [
      "/var/folders/mh/nyq1nwnj337cbkn7t5jhtlq40000gp/T/ipykernel_50531/2171929331.py:7: SettingWithCopyWarning: \n",
      "A value is trying to be set on a copy of a slice from a DataFrame.\n",
      "Try using .loc[row_indexer,col_indexer] = value instead\n",
      "\n",
      "See the caveats in the documentation: https://pandas.pydata.org/pandas-docs/stable/user_guide/indexing.html#returning-a-view-versus-a-copy\n",
      "  df_train['y'] = train.loc[i,'d_1':].values\n"
     ]
    },
    {
     "name": "stdout",
     "output_type": "stream",
     "text": [
      "            date       d  wm_yr_wk  y  sell_price\n",
      "0     2011-01-29     d_1     11101  1         NaN\n",
      "1     2011-01-30     d_2     11101  3         NaN\n",
      "2     2011-01-31     d_3     11101  0         NaN\n",
      "3     2011-02-01     d_4     11101  1         NaN\n",
      "4     2011-02-02     d_5     11101  0         NaN\n",
      "...          ...     ...       ... ..         ...\n",
      "1922  2016-05-04  d_1923     11614  0        8.38\n",
      "1923  2016-05-05  d_1924     11614  0        8.38\n",
      "1924  2016-05-06  d_1925     11614  0        8.38\n",
      "1925  2016-05-07  d_1926     11615  0        8.38\n",
      "1926  2016-05-08  d_1927     11615  0        8.38\n",
      "\n",
      "[1927 rows x 5 columns]\n"
     ]
    },
    {
     "name": "stderr",
     "output_type": "stream",
     "text": [
      "/var/folders/mh/nyq1nwnj337cbkn7t5jhtlq40000gp/T/ipykernel_50531/2171929331.py:7: SettingWithCopyWarning: \n",
      "A value is trying to be set on a copy of a slice from a DataFrame.\n",
      "Try using .loc[row_indexer,col_indexer] = value instead\n",
      "\n",
      "See the caveats in the documentation: https://pandas.pydata.org/pandas-docs/stable/user_guide/indexing.html#returning-a-view-versus-a-copy\n",
      "  df_train['y'] = train.loc[i,'d_1':].values\n"
     ]
    },
    {
     "name": "stdout",
     "output_type": "stream",
     "text": [
      "            date       d  wm_yr_wk  y  sell_price\n",
      "0     2011-01-29     d_1     11101  0         NaN\n",
      "1     2011-01-30     d_2     11101  0         NaN\n",
      "2     2011-01-31     d_3     11101  0         NaN\n",
      "3     2011-02-01     d_4     11101  0         NaN\n",
      "4     2011-02-02     d_5     11101  0         NaN\n",
      "...          ...     ...       ... ..         ...\n",
      "1922  2016-05-04  d_1923     11614  0        8.38\n",
      "1923  2016-05-05  d_1924     11614  0        8.38\n",
      "1924  2016-05-06  d_1925     11614  0        8.38\n",
      "1925  2016-05-07  d_1926     11615  1        8.38\n",
      "1926  2016-05-08  d_1927     11615  0        8.38\n",
      "\n",
      "[1927 rows x 5 columns]\n"
     ]
    },
    {
     "name": "stderr",
     "output_type": "stream",
     "text": [
      "/var/folders/mh/nyq1nwnj337cbkn7t5jhtlq40000gp/T/ipykernel_50531/2171929331.py:7: SettingWithCopyWarning: \n",
      "A value is trying to be set on a copy of a slice from a DataFrame.\n",
      "Try using .loc[row_indexer,col_indexer] = value instead\n",
      "\n",
      "See the caveats in the documentation: https://pandas.pydata.org/pandas-docs/stable/user_guide/indexing.html#returning-a-view-versus-a-copy\n",
      "  df_train['y'] = train.loc[i,'d_1':].values\n"
     ]
    },
    {
     "name": "stdout",
     "output_type": "stream",
     "text": [
      "            date       d  wm_yr_wk  y  sell_price\n",
      "0     2011-01-29     d_1     11101  4         NaN\n",
      "1     2011-01-30     d_2     11101  2         NaN\n",
      "2     2011-01-31     d_3     11101  6         NaN\n",
      "3     2011-02-01     d_4     11101  5         NaN\n",
      "4     2011-02-02     d_5     11101  1         NaN\n",
      "...          ...     ...       ... ..         ...\n",
      "1922  2016-05-04  d_1923     11614  0        8.38\n",
      "1923  2016-05-05  d_1924     11614  1        8.38\n",
      "1924  2016-05-06  d_1925     11614  3        8.38\n",
      "1925  2016-05-07  d_1926     11615  0        8.38\n",
      "1926  2016-05-08  d_1927     11615  0        8.38\n",
      "\n",
      "[1927 rows x 5 columns]\n"
     ]
    },
    {
     "name": "stderr",
     "output_type": "stream",
     "text": [
      "/var/folders/mh/nyq1nwnj337cbkn7t5jhtlq40000gp/T/ipykernel_50531/2171929331.py:7: SettingWithCopyWarning: \n",
      "A value is trying to be set on a copy of a slice from a DataFrame.\n",
      "Try using .loc[row_indexer,col_indexer] = value instead\n",
      "\n",
      "See the caveats in the documentation: https://pandas.pydata.org/pandas-docs/stable/user_guide/indexing.html#returning-a-view-versus-a-copy\n",
      "  df_train['y'] = train.loc[i,'d_1':].values\n"
     ]
    },
    {
     "name": "stdout",
     "output_type": "stream",
     "text": [
      "            date       d  wm_yr_wk  y  sell_price\n",
      "0     2011-01-29     d_1     11101  0         NaN\n",
      "1     2011-01-30     d_2     11101  0         NaN\n",
      "2     2011-01-31     d_3     11101  0         NaN\n",
      "3     2011-02-01     d_4     11101  0         NaN\n",
      "4     2011-02-02     d_5     11101  0         NaN\n",
      "...          ...     ...       ... ..         ...\n",
      "1922  2016-05-04  d_1923     11614  0        8.38\n",
      "1923  2016-05-05  d_1924     11614  0        8.38\n",
      "1924  2016-05-06  d_1925     11614  0        8.38\n",
      "1925  2016-05-07  d_1926     11615  2        8.38\n",
      "1926  2016-05-08  d_1927     11615  1        8.38\n",
      "\n",
      "[1927 rows x 5 columns]\n"
     ]
    },
    {
     "name": "stderr",
     "output_type": "stream",
     "text": [
      "/var/folders/mh/nyq1nwnj337cbkn7t5jhtlq40000gp/T/ipykernel_50531/2171929331.py:7: SettingWithCopyWarning: \n",
      "A value is trying to be set on a copy of a slice from a DataFrame.\n",
      "Try using .loc[row_indexer,col_indexer] = value instead\n",
      "\n",
      "See the caveats in the documentation: https://pandas.pydata.org/pandas-docs/stable/user_guide/indexing.html#returning-a-view-versus-a-copy\n",
      "  df_train['y'] = train.loc[i,'d_1':].values\n"
     ]
    },
    {
     "name": "stdout",
     "output_type": "stream",
     "text": [
      "            date       d  wm_yr_wk  y  sell_price\n",
      "0     2011-01-29     d_1     11101  0         NaN\n",
      "1     2011-01-30     d_2     11101  0         NaN\n",
      "2     2011-01-31     d_3     11101  0         NaN\n",
      "3     2011-02-01     d_4     11101  0         NaN\n",
      "4     2011-02-02     d_5     11101  0         NaN\n",
      "...          ...     ...       ... ..         ...\n",
      "1922  2016-05-04  d_1923     11614  0        8.38\n",
      "1923  2016-05-05  d_1924     11614  0        8.38\n",
      "1924  2016-05-06  d_1925     11614  1        8.38\n",
      "1925  2016-05-07  d_1926     11615  0        8.38\n",
      "1926  2016-05-08  d_1927     11615  0        8.38\n",
      "\n",
      "[1927 rows x 5 columns]\n"
     ]
    },
    {
     "name": "stderr",
     "output_type": "stream",
     "text": [
      "/var/folders/mh/nyq1nwnj337cbkn7t5jhtlq40000gp/T/ipykernel_50531/2171929331.py:7: SettingWithCopyWarning: \n",
      "A value is trying to be set on a copy of a slice from a DataFrame.\n",
      "Try using .loc[row_indexer,col_indexer] = value instead\n",
      "\n",
      "See the caveats in the documentation: https://pandas.pydata.org/pandas-docs/stable/user_guide/indexing.html#returning-a-view-versus-a-copy\n",
      "  df_train['y'] = train.loc[i,'d_1':].values\n"
     ]
    },
    {
     "name": "stdout",
     "output_type": "stream",
     "text": [
      "            date       d  wm_yr_wk  y  sell_price\n",
      "0     2011-01-29     d_1     11101  4         NaN\n",
      "1     2011-01-30     d_2     11101  0         NaN\n",
      "2     2011-01-31     d_3     11101  4         NaN\n",
      "3     2011-02-01     d_4     11101  0         NaN\n",
      "4     2011-02-02     d_5     11101  2         NaN\n",
      "...          ...     ...       ... ..         ...\n",
      "1922  2016-05-04  d_1923     11614  0        8.38\n",
      "1923  2016-05-05  d_1924     11614  0        8.38\n",
      "1924  2016-05-06  d_1925     11614  0        8.38\n",
      "1925  2016-05-07  d_1926     11615  0        8.38\n",
      "1926  2016-05-08  d_1927     11615  0        8.38\n",
      "\n",
      "[1927 rows x 5 columns]\n"
     ]
    },
    {
     "name": "stderr",
     "output_type": "stream",
     "text": [
      "/var/folders/mh/nyq1nwnj337cbkn7t5jhtlq40000gp/T/ipykernel_50531/2171929331.py:7: SettingWithCopyWarning: \n",
      "A value is trying to be set on a copy of a slice from a DataFrame.\n",
      "Try using .loc[row_indexer,col_indexer] = value instead\n",
      "\n",
      "See the caveats in the documentation: https://pandas.pydata.org/pandas-docs/stable/user_guide/indexing.html#returning-a-view-versus-a-copy\n",
      "  df_train['y'] = train.loc[i,'d_1':].values\n"
     ]
    },
    {
     "name": "stdout",
     "output_type": "stream",
     "text": [
      "            date       d  wm_yr_wk  y  sell_price\n",
      "0     2011-01-29     d_1     11101  0         NaN\n",
      "1     2011-01-30     d_2     11101  0         NaN\n",
      "2     2011-01-31     d_3     11101  0         NaN\n",
      "3     2011-02-01     d_4     11101  0         NaN\n",
      "4     2011-02-02     d_5     11101  0         NaN\n",
      "...          ...     ...       ... ..         ...\n",
      "1922  2016-05-04  d_1923     11614  0        8.38\n",
      "1923  2016-05-05  d_1924     11614  0        8.38\n",
      "1924  2016-05-06  d_1925     11614  0        8.38\n",
      "1925  2016-05-07  d_1926     11615  0        8.38\n",
      "1926  2016-05-08  d_1927     11615  0        8.38\n",
      "\n",
      "[1927 rows x 5 columns]\n"
     ]
    },
    {
     "name": "stderr",
     "output_type": "stream",
     "text": [
      "/var/folders/mh/nyq1nwnj337cbkn7t5jhtlq40000gp/T/ipykernel_50531/2171929331.py:7: SettingWithCopyWarning: \n",
      "A value is trying to be set on a copy of a slice from a DataFrame.\n",
      "Try using .loc[row_indexer,col_indexer] = value instead\n",
      "\n",
      "See the caveats in the documentation: https://pandas.pydata.org/pandas-docs/stable/user_guide/indexing.html#returning-a-view-versus-a-copy\n",
      "  df_train['y'] = train.loc[i,'d_1':].values\n"
     ]
    },
    {
     "name": "stdout",
     "output_type": "stream",
     "text": [
      "            date       d  wm_yr_wk  y  sell_price\n",
      "0     2011-01-29     d_1     11101  0         NaN\n",
      "1     2011-01-30     d_2     11101  0         NaN\n",
      "2     2011-01-31     d_3     11101  0         NaN\n",
      "3     2011-02-01     d_4     11101  0         NaN\n",
      "4     2011-02-02     d_5     11101  0         NaN\n",
      "...          ...     ...       ... ..         ...\n",
      "1922  2016-05-04  d_1923     11614  0        8.38\n",
      "1923  2016-05-05  d_1924     11614  0        8.38\n",
      "1924  2016-05-06  d_1925     11614  0        8.38\n",
      "1925  2016-05-07  d_1926     11615  1        8.38\n",
      "1926  2016-05-08  d_1927     11615  0        8.38\n",
      "\n",
      "[1927 rows x 5 columns]\n"
     ]
    },
    {
     "name": "stderr",
     "output_type": "stream",
     "text": [
      "/var/folders/mh/nyq1nwnj337cbkn7t5jhtlq40000gp/T/ipykernel_50531/2171929331.py:7: SettingWithCopyWarning: \n",
      "A value is trying to be set on a copy of a slice from a DataFrame.\n",
      "Try using .loc[row_indexer,col_indexer] = value instead\n",
      "\n",
      "See the caveats in the documentation: https://pandas.pydata.org/pandas-docs/stable/user_guide/indexing.html#returning-a-view-versus-a-copy\n",
      "  df_train['y'] = train.loc[i,'d_1':].values\n"
     ]
    },
    {
     "name": "stdout",
     "output_type": "stream",
     "text": [
      "            date       d  wm_yr_wk  y  sell_price\n",
      "0     2011-01-29     d_1     11101  0         NaN\n",
      "1     2011-01-30     d_2     11101  0         NaN\n",
      "2     2011-01-31     d_3     11101  0         NaN\n",
      "3     2011-02-01     d_4     11101  0         NaN\n",
      "4     2011-02-02     d_5     11101  0         NaN\n",
      "...          ...     ...       ... ..         ...\n",
      "1922  2016-05-04  d_1923     11614  0        8.38\n",
      "1923  2016-05-05  d_1924     11614  0        8.38\n",
      "1924  2016-05-06  d_1925     11614  0        8.38\n",
      "1925  2016-05-07  d_1926     11615  0        8.38\n",
      "1926  2016-05-08  d_1927     11615  0        8.38\n",
      "\n",
      "[1927 rows x 5 columns]\n"
     ]
    },
    {
     "name": "stderr",
     "output_type": "stream",
     "text": [
      "/var/folders/mh/nyq1nwnj337cbkn7t5jhtlq40000gp/T/ipykernel_50531/2171929331.py:7: SettingWithCopyWarning: \n",
      "A value is trying to be set on a copy of a slice from a DataFrame.\n",
      "Try using .loc[row_indexer,col_indexer] = value instead\n",
      "\n",
      "See the caveats in the documentation: https://pandas.pydata.org/pandas-docs/stable/user_guide/indexing.html#returning-a-view-versus-a-copy\n",
      "  df_train['y'] = train.loc[i,'d_1':].values\n"
     ]
    },
    {
     "name": "stdout",
     "output_type": "stream",
     "text": [
      "            date       d  wm_yr_wk  y  sell_price\n",
      "0     2011-01-29     d_1     11101  0         NaN\n",
      "1     2011-01-30     d_2     11101  0         NaN\n",
      "2     2011-01-31     d_3     11101  0         NaN\n",
      "3     2011-02-01     d_4     11101  0         NaN\n",
      "4     2011-02-02     d_5     11101  0         NaN\n",
      "...          ...     ...       ... ..         ...\n",
      "1922  2016-05-04  d_1923     11614  2        8.38\n",
      "1923  2016-05-05  d_1924     11614  0        8.38\n",
      "1924  2016-05-06  d_1925     11614  0        8.38\n",
      "1925  2016-05-07  d_1926     11615  0        8.38\n",
      "1926  2016-05-08  d_1927     11615  5        8.38\n",
      "\n",
      "[1927 rows x 5 columns]\n"
     ]
    },
    {
     "name": "stderr",
     "output_type": "stream",
     "text": [
      "/var/folders/mh/nyq1nwnj337cbkn7t5jhtlq40000gp/T/ipykernel_50531/2171929331.py:7: SettingWithCopyWarning: \n",
      "A value is trying to be set on a copy of a slice from a DataFrame.\n",
      "Try using .loc[row_indexer,col_indexer] = value instead\n",
      "\n",
      "See the caveats in the documentation: https://pandas.pydata.org/pandas-docs/stable/user_guide/indexing.html#returning-a-view-versus-a-copy\n",
      "  df_train['y'] = train.loc[i,'d_1':].values\n"
     ]
    },
    {
     "name": "stdout",
     "output_type": "stream",
     "text": [
      "            date       d  wm_yr_wk  y  sell_price\n",
      "0     2011-01-29     d_1     11101  0         NaN\n",
      "1     2011-01-30     d_2     11101  0         NaN\n",
      "2     2011-01-31     d_3     11101  0         NaN\n",
      "3     2011-02-01     d_4     11101  0         NaN\n",
      "4     2011-02-02     d_5     11101  0         NaN\n",
      "...          ...     ...       ... ..         ...\n",
      "1922  2016-05-04  d_1923     11614  0        8.38\n",
      "1923  2016-05-05  d_1924     11614  0        8.38\n",
      "1924  2016-05-06  d_1925     11614  0        8.38\n",
      "1925  2016-05-07  d_1926     11615  1        8.38\n",
      "1926  2016-05-08  d_1927     11615  1        8.38\n",
      "\n",
      "[1927 rows x 5 columns]\n"
     ]
    },
    {
     "name": "stderr",
     "output_type": "stream",
     "text": [
      "/var/folders/mh/nyq1nwnj337cbkn7t5jhtlq40000gp/T/ipykernel_50531/2171929331.py:7: SettingWithCopyWarning: \n",
      "A value is trying to be set on a copy of a slice from a DataFrame.\n",
      "Try using .loc[row_indexer,col_indexer] = value instead\n",
      "\n",
      "See the caveats in the documentation: https://pandas.pydata.org/pandas-docs/stable/user_guide/indexing.html#returning-a-view-versus-a-copy\n",
      "  df_train['y'] = train.loc[i,'d_1':].values\n"
     ]
    },
    {
     "name": "stdout",
     "output_type": "stream",
     "text": [
      "            date       d  wm_yr_wk  y  sell_price\n",
      "0     2011-01-29     d_1     11101  0         NaN\n",
      "1     2011-01-30     d_2     11101  0         NaN\n",
      "2     2011-01-31     d_3     11101  0         NaN\n",
      "3     2011-02-01     d_4     11101  0         NaN\n",
      "4     2011-02-02     d_5     11101  0         NaN\n",
      "...          ...     ...       ... ..         ...\n",
      "1922  2016-05-04  d_1923     11614  0        8.38\n",
      "1923  2016-05-05  d_1924     11614  1        8.38\n",
      "1924  2016-05-06  d_1925     11614  1        8.38\n",
      "1925  2016-05-07  d_1926     11615  0        8.38\n",
      "1926  2016-05-08  d_1927     11615  0        8.38\n",
      "\n",
      "[1927 rows x 5 columns]\n"
     ]
    },
    {
     "name": "stderr",
     "output_type": "stream",
     "text": [
      "/var/folders/mh/nyq1nwnj337cbkn7t5jhtlq40000gp/T/ipykernel_50531/2171929331.py:7: SettingWithCopyWarning: \n",
      "A value is trying to be set on a copy of a slice from a DataFrame.\n",
      "Try using .loc[row_indexer,col_indexer] = value instead\n",
      "\n",
      "See the caveats in the documentation: https://pandas.pydata.org/pandas-docs/stable/user_guide/indexing.html#returning-a-view-versus-a-copy\n",
      "  df_train['y'] = train.loc[i,'d_1':].values\n"
     ]
    },
    {
     "name": "stdout",
     "output_type": "stream",
     "text": [
      "            date       d  wm_yr_wk  y  sell_price\n",
      "0     2011-01-29     d_1     11101  0         NaN\n",
      "1     2011-01-30     d_2     11101  0         NaN\n",
      "2     2011-01-31     d_3     11101  0         NaN\n",
      "3     2011-02-01     d_4     11101  0         NaN\n",
      "4     2011-02-02     d_5     11101  0         NaN\n",
      "...          ...     ...       ... ..         ...\n",
      "1922  2016-05-04  d_1923     11614  0        8.38\n",
      "1923  2016-05-05  d_1924     11614  0        8.38\n",
      "1924  2016-05-06  d_1925     11614  0        8.38\n",
      "1925  2016-05-07  d_1926     11615  0        8.38\n",
      "1926  2016-05-08  d_1927     11615  0        8.38\n",
      "\n",
      "[1927 rows x 5 columns]\n"
     ]
    },
    {
     "name": "stderr",
     "output_type": "stream",
     "text": [
      "/var/folders/mh/nyq1nwnj337cbkn7t5jhtlq40000gp/T/ipykernel_50531/2171929331.py:7: SettingWithCopyWarning: \n",
      "A value is trying to be set on a copy of a slice from a DataFrame.\n",
      "Try using .loc[row_indexer,col_indexer] = value instead\n",
      "\n",
      "See the caveats in the documentation: https://pandas.pydata.org/pandas-docs/stable/user_guide/indexing.html#returning-a-view-versus-a-copy\n",
      "  df_train['y'] = train.loc[i,'d_1':].values\n"
     ]
    },
    {
     "name": "stdout",
     "output_type": "stream",
     "text": [
      "            date       d  wm_yr_wk  y  sell_price\n",
      "0     2011-01-29     d_1     11101  0         NaN\n",
      "1     2011-01-30     d_2     11101  0         NaN\n",
      "2     2011-01-31     d_3     11101  0         NaN\n",
      "3     2011-02-01     d_4     11101  0         NaN\n",
      "4     2011-02-02     d_5     11101  0         NaN\n",
      "...          ...     ...       ... ..         ...\n",
      "1922  2016-05-04  d_1923     11614  0        8.38\n",
      "1923  2016-05-05  d_1924     11614  0        8.38\n",
      "1924  2016-05-06  d_1925     11614  0        8.38\n",
      "1925  2016-05-07  d_1926     11615  0        8.38\n",
      "1926  2016-05-08  d_1927     11615  2        8.38\n",
      "\n",
      "[1927 rows x 5 columns]\n"
     ]
    },
    {
     "name": "stderr",
     "output_type": "stream",
     "text": [
      "/var/folders/mh/nyq1nwnj337cbkn7t5jhtlq40000gp/T/ipykernel_50531/2171929331.py:7: SettingWithCopyWarning: \n",
      "A value is trying to be set on a copy of a slice from a DataFrame.\n",
      "Try using .loc[row_indexer,col_indexer] = value instead\n",
      "\n",
      "See the caveats in the documentation: https://pandas.pydata.org/pandas-docs/stable/user_guide/indexing.html#returning-a-view-versus-a-copy\n",
      "  df_train['y'] = train.loc[i,'d_1':].values\n"
     ]
    },
    {
     "name": "stdout",
     "output_type": "stream",
     "text": [
      "            date       d  wm_yr_wk  y  sell_price\n",
      "0     2011-01-29     d_1     11101  0         NaN\n",
      "1     2011-01-30     d_2     11101  0         NaN\n",
      "2     2011-01-31     d_3     11101  0         NaN\n",
      "3     2011-02-01     d_4     11101  0         NaN\n",
      "4     2011-02-02     d_5     11101  0         NaN\n",
      "...          ...     ...       ... ..         ...\n",
      "1922  2016-05-04  d_1923     11614  0        8.38\n",
      "1923  2016-05-05  d_1924     11614  0        8.38\n",
      "1924  2016-05-06  d_1925     11614  1        8.38\n",
      "1925  2016-05-07  d_1926     11615  1        8.38\n",
      "1926  2016-05-08  d_1927     11615  2        8.38\n",
      "\n",
      "[1927 rows x 5 columns]\n"
     ]
    },
    {
     "name": "stderr",
     "output_type": "stream",
     "text": [
      "/var/folders/mh/nyq1nwnj337cbkn7t5jhtlq40000gp/T/ipykernel_50531/2171929331.py:7: SettingWithCopyWarning: \n",
      "A value is trying to be set on a copy of a slice from a DataFrame.\n",
      "Try using .loc[row_indexer,col_indexer] = value instead\n",
      "\n",
      "See the caveats in the documentation: https://pandas.pydata.org/pandas-docs/stable/user_guide/indexing.html#returning-a-view-versus-a-copy\n",
      "  df_train['y'] = train.loc[i,'d_1':].values\n"
     ]
    },
    {
     "name": "stdout",
     "output_type": "stream",
     "text": [
      "            date       d  wm_yr_wk  y  sell_price\n",
      "0     2011-01-29     d_1     11101  0         NaN\n",
      "1     2011-01-30     d_2     11101  0         NaN\n",
      "2     2011-01-31     d_3     11101  0         NaN\n",
      "3     2011-02-01     d_4     11101  0         NaN\n",
      "4     2011-02-02     d_5     11101  0         NaN\n",
      "...          ...     ...       ... ..         ...\n",
      "1922  2016-05-04  d_1923     11614  0        8.38\n",
      "1923  2016-05-05  d_1924     11614  0        8.38\n",
      "1924  2016-05-06  d_1925     11614  6        8.38\n",
      "1925  2016-05-07  d_1926     11615  0        8.38\n",
      "1926  2016-05-08  d_1927     11615  0        8.38\n",
      "\n",
      "[1927 rows x 5 columns]\n"
     ]
    },
    {
     "name": "stderr",
     "output_type": "stream",
     "text": [
      "/var/folders/mh/nyq1nwnj337cbkn7t5jhtlq40000gp/T/ipykernel_50531/2171929331.py:7: SettingWithCopyWarning: \n",
      "A value is trying to be set on a copy of a slice from a DataFrame.\n",
      "Try using .loc[row_indexer,col_indexer] = value instead\n",
      "\n",
      "See the caveats in the documentation: https://pandas.pydata.org/pandas-docs/stable/user_guide/indexing.html#returning-a-view-versus-a-copy\n",
      "  df_train['y'] = train.loc[i,'d_1':].values\n"
     ]
    },
    {
     "name": "stdout",
     "output_type": "stream",
     "text": [
      "            date       d  wm_yr_wk  y  sell_price\n",
      "0     2011-01-29     d_1     11101  0         NaN\n",
      "1     2011-01-30     d_2     11101  0         NaN\n",
      "2     2011-01-31     d_3     11101  0         NaN\n",
      "3     2011-02-01     d_4     11101  0         NaN\n",
      "4     2011-02-02     d_5     11101  0         NaN\n",
      "...          ...     ...       ... ..         ...\n",
      "1922  2016-05-04  d_1923     11614  0        8.38\n",
      "1923  2016-05-05  d_1924     11614  7        8.38\n",
      "1924  2016-05-06  d_1925     11614  3        8.38\n",
      "1925  2016-05-07  d_1926     11615  2        8.38\n",
      "1926  2016-05-08  d_1927     11615  0        8.38\n",
      "\n",
      "[1927 rows x 5 columns]\n"
     ]
    },
    {
     "name": "stderr",
     "output_type": "stream",
     "text": [
      "/var/folders/mh/nyq1nwnj337cbkn7t5jhtlq40000gp/T/ipykernel_50531/2171929331.py:7: SettingWithCopyWarning: \n",
      "A value is trying to be set on a copy of a slice from a DataFrame.\n",
      "Try using .loc[row_indexer,col_indexer] = value instead\n",
      "\n",
      "See the caveats in the documentation: https://pandas.pydata.org/pandas-docs/stable/user_guide/indexing.html#returning-a-view-versus-a-copy\n",
      "  df_train['y'] = train.loc[i,'d_1':].values\n"
     ]
    },
    {
     "name": "stdout",
     "output_type": "stream",
     "text": [
      "            date       d  wm_yr_wk  y  sell_price\n",
      "0     2011-01-29     d_1     11101  0         NaN\n",
      "1     2011-01-30     d_2     11101  0         NaN\n",
      "2     2011-01-31     d_3     11101  0         NaN\n",
      "3     2011-02-01     d_4     11101  0         NaN\n",
      "4     2011-02-02     d_5     11101  0         NaN\n",
      "...          ...     ...       ... ..         ...\n",
      "1922  2016-05-04  d_1923     11614  0        8.38\n",
      "1923  2016-05-05  d_1924     11614  0        8.38\n",
      "1924  2016-05-06  d_1925     11614  2        8.38\n",
      "1925  2016-05-07  d_1926     11615  0        8.38\n",
      "1926  2016-05-08  d_1927     11615  0        8.38\n",
      "\n",
      "[1927 rows x 5 columns]\n"
     ]
    },
    {
     "name": "stderr",
     "output_type": "stream",
     "text": [
      "/var/folders/mh/nyq1nwnj337cbkn7t5jhtlq40000gp/T/ipykernel_50531/2171929331.py:7: SettingWithCopyWarning: \n",
      "A value is trying to be set on a copy of a slice from a DataFrame.\n",
      "Try using .loc[row_indexer,col_indexer] = value instead\n",
      "\n",
      "See the caveats in the documentation: https://pandas.pydata.org/pandas-docs/stable/user_guide/indexing.html#returning-a-view-versus-a-copy\n",
      "  df_train['y'] = train.loc[i,'d_1':].values\n"
     ]
    },
    {
     "name": "stdout",
     "output_type": "stream",
     "text": [
      "            date       d  wm_yr_wk  y  sell_price\n",
      "0     2011-01-29     d_1     11101  0         NaN\n",
      "1     2011-01-30     d_2     11101  0         NaN\n",
      "2     2011-01-31     d_3     11101  0         NaN\n",
      "3     2011-02-01     d_4     11101  0         NaN\n",
      "4     2011-02-02     d_5     11101  0         NaN\n",
      "...          ...     ...       ... ..         ...\n",
      "1922  2016-05-04  d_1923     11614  1        8.38\n",
      "1923  2016-05-05  d_1924     11614  2        8.38\n",
      "1924  2016-05-06  d_1925     11614  0        8.38\n",
      "1925  2016-05-07  d_1926     11615  0        8.38\n",
      "1926  2016-05-08  d_1927     11615  2        8.38\n",
      "\n",
      "[1927 rows x 5 columns]\n"
     ]
    },
    {
     "name": "stderr",
     "output_type": "stream",
     "text": [
      "/var/folders/mh/nyq1nwnj337cbkn7t5jhtlq40000gp/T/ipykernel_50531/2171929331.py:7: SettingWithCopyWarning: \n",
      "A value is trying to be set on a copy of a slice from a DataFrame.\n",
      "Try using .loc[row_indexer,col_indexer] = value instead\n",
      "\n",
      "See the caveats in the documentation: https://pandas.pydata.org/pandas-docs/stable/user_guide/indexing.html#returning-a-view-versus-a-copy\n",
      "  df_train['y'] = train.loc[i,'d_1':].values\n"
     ]
    },
    {
     "name": "stdout",
     "output_type": "stream",
     "text": [
      "            date       d  wm_yr_wk  y  sell_price\n",
      "0     2011-01-29     d_1     11101  0         NaN\n",
      "1     2011-01-30     d_2     11101  0         NaN\n",
      "2     2011-01-31     d_3     11101  0         NaN\n",
      "3     2011-02-01     d_4     11101  0         NaN\n",
      "4     2011-02-02     d_5     11101  0         NaN\n",
      "...          ...     ...       ... ..         ...\n",
      "1922  2016-05-04  d_1923     11614  2        8.38\n",
      "1923  2016-05-05  d_1924     11614  0        8.38\n",
      "1924  2016-05-06  d_1925     11614  0        8.38\n",
      "1925  2016-05-07  d_1926     11615  3        8.38\n",
      "1926  2016-05-08  d_1927     11615  1        8.38\n",
      "\n",
      "[1927 rows x 5 columns]\n"
     ]
    },
    {
     "name": "stderr",
     "output_type": "stream",
     "text": [
      "/var/folders/mh/nyq1nwnj337cbkn7t5jhtlq40000gp/T/ipykernel_50531/2171929331.py:7: SettingWithCopyWarning: \n",
      "A value is trying to be set on a copy of a slice from a DataFrame.\n",
      "Try using .loc[row_indexer,col_indexer] = value instead\n",
      "\n",
      "See the caveats in the documentation: https://pandas.pydata.org/pandas-docs/stable/user_guide/indexing.html#returning-a-view-versus-a-copy\n",
      "  df_train['y'] = train.loc[i,'d_1':].values\n"
     ]
    },
    {
     "name": "stdout",
     "output_type": "stream",
     "text": [
      "            date       d  wm_yr_wk  y  sell_price\n",
      "0     2011-01-29     d_1     11101  0         NaN\n",
      "1     2011-01-30     d_2     11101  0         NaN\n",
      "2     2011-01-31     d_3     11101  0         NaN\n",
      "3     2011-02-01     d_4     11101  0         NaN\n",
      "4     2011-02-02     d_5     11101  0         NaN\n",
      "...          ...     ...       ... ..         ...\n",
      "1922  2016-05-04  d_1923     11614  2        8.38\n",
      "1923  2016-05-05  d_1924     11614  2        8.38\n",
      "1924  2016-05-06  d_1925     11614  2        8.38\n",
      "1925  2016-05-07  d_1926     11615  0        8.38\n",
      "1926  2016-05-08  d_1927     11615  0        8.38\n",
      "\n",
      "[1927 rows x 5 columns]\n"
     ]
    },
    {
     "name": "stderr",
     "output_type": "stream",
     "text": [
      "/var/folders/mh/nyq1nwnj337cbkn7t5jhtlq40000gp/T/ipykernel_50531/2171929331.py:7: SettingWithCopyWarning: \n",
      "A value is trying to be set on a copy of a slice from a DataFrame.\n",
      "Try using .loc[row_indexer,col_indexer] = value instead\n",
      "\n",
      "See the caveats in the documentation: https://pandas.pydata.org/pandas-docs/stable/user_guide/indexing.html#returning-a-view-versus-a-copy\n",
      "  df_train['y'] = train.loc[i,'d_1':].values\n"
     ]
    },
    {
     "name": "stdout",
     "output_type": "stream",
     "text": [
      "            date       d  wm_yr_wk  y  sell_price\n",
      "0     2011-01-29     d_1     11101  1         NaN\n",
      "1     2011-01-30     d_2     11101  3         NaN\n",
      "2     2011-01-31     d_3     11101  0         NaN\n",
      "3     2011-02-01     d_4     11101  0         NaN\n",
      "4     2011-02-02     d_5     11101  0         NaN\n",
      "...          ...     ...       ... ..         ...\n",
      "1922  2016-05-04  d_1923     11614  0        8.38\n",
      "1923  2016-05-05  d_1924     11614  2        8.38\n",
      "1924  2016-05-06  d_1925     11614  2        8.38\n",
      "1925  2016-05-07  d_1926     11615  0        8.38\n",
      "1926  2016-05-08  d_1927     11615  0        8.38\n",
      "\n",
      "[1927 rows x 5 columns]\n"
     ]
    },
    {
     "name": "stderr",
     "output_type": "stream",
     "text": [
      "/var/folders/mh/nyq1nwnj337cbkn7t5jhtlq40000gp/T/ipykernel_50531/2171929331.py:7: SettingWithCopyWarning: \n",
      "A value is trying to be set on a copy of a slice from a DataFrame.\n",
      "Try using .loc[row_indexer,col_indexer] = value instead\n",
      "\n",
      "See the caveats in the documentation: https://pandas.pydata.org/pandas-docs/stable/user_guide/indexing.html#returning-a-view-versus-a-copy\n",
      "  df_train['y'] = train.loc[i,'d_1':].values\n"
     ]
    },
    {
     "ename": "KeyboardInterrupt",
     "evalue": "",
     "output_type": "error",
     "traceback": [
      "\u001b[0;31m---------------------------------------------------------------------------\u001b[0m",
      "\u001b[0;31mKeyboardInterrupt\u001b[0m                         Traceback (most recent call last)",
      "\u001b[1;32m/Users/symfonia/Github/chronolog/code/m5.ipynb Cell 10\u001b[0m line \u001b[0;36m8\n\u001b[1;32m      <a href='vscode-notebook-cell:/Users/symfonia/Github/chronolog/code/m5.ipynb#X12sZmlsZQ%3D%3D?line=4'>5</a>\u001b[0m \u001b[39m#print(df_train)\u001b[39;00m\n\u001b[1;32m      <a href='vscode-notebook-cell:/Users/symfonia/Github/chronolog/code/m5.ipynb#X12sZmlsZQ%3D%3D?line=5'>6</a>\u001b[0m \u001b[39m#print(df_test)\u001b[39;00m\n\u001b[1;32m      <a href='vscode-notebook-cell:/Users/symfonia/Github/chronolog/code/m5.ipynb#X12sZmlsZQ%3D%3D?line=6'>7</a>\u001b[0m df_train[\u001b[39m'\u001b[39m\u001b[39my\u001b[39m\u001b[39m'\u001b[39m] \u001b[39m=\u001b[39m train\u001b[39m.\u001b[39mloc[i,\u001b[39m'\u001b[39m\u001b[39md_1\u001b[39m\u001b[39m'\u001b[39m:]\u001b[39m.\u001b[39mvalues\n\u001b[0;32m----> <a href='vscode-notebook-cell:/Users/symfonia/Github/chronolog/code/m5.ipynb#X12sZmlsZQ%3D%3D?line=7'>8</a>\u001b[0m df_train \u001b[39m=\u001b[39m pd\u001b[39m.\u001b[39mmerge(df_train, price[(price[\u001b[39m'\u001b[39;49m\u001b[39mstore_id\u001b[39;49m\u001b[39m'\u001b[39;49m] \u001b[39m==\u001b[39;49m train\u001b[39m.\u001b[39;49mloc[i,\u001b[39m'\u001b[39;49m\u001b[39mstore_id\u001b[39;49m\u001b[39m'\u001b[39;49m]) \u001b[39m&\u001b[39m (price[\u001b[39m'\u001b[39m\u001b[39mitem_id\u001b[39m\u001b[39m'\u001b[39m] \u001b[39m==\u001b[39m train\u001b[39m.\u001b[39mloc[\u001b[39m0\u001b[39m,\u001b[39m'\u001b[39m\u001b[39mitem_id\u001b[39m\u001b[39m'\u001b[39m])][[\u001b[39m'\u001b[39m\u001b[39mwm_yr_wk\u001b[39m\u001b[39m'\u001b[39m, \u001b[39m'\u001b[39m\u001b[39msell_price\u001b[39m\u001b[39m'\u001b[39m]], how\u001b[39m=\u001b[39m\u001b[39m'\u001b[39m\u001b[39mleft\u001b[39m\u001b[39m'\u001b[39m, on\u001b[39m=\u001b[39m[\u001b[39m'\u001b[39m\u001b[39mwm_yr_wk\u001b[39m\u001b[39m'\u001b[39m])\n\u001b[1;32m      <a href='vscode-notebook-cell:/Users/symfonia/Github/chronolog/code/m5.ipynb#X12sZmlsZQ%3D%3D?line=8'>9</a>\u001b[0m \u001b[39mprint\u001b[39m(df_train)\n\u001b[1;32m     <a href='vscode-notebook-cell:/Users/symfonia/Github/chronolog/code/m5.ipynb#X12sZmlsZQ%3D%3D?line=9'>10</a>\u001b[0m df_train\u001b[39m.\u001b[39mto_csv(\u001b[39m'\u001b[39m\u001b[39mdf_train\u001b[39m\u001b[39m'\u001b[39m \u001b[39m+\u001b[39m \u001b[39mstr\u001b[39m(i) \u001b[39m+\u001b[39m \u001b[39m'\u001b[39m\u001b[39m.csv\u001b[39m\u001b[39m'\u001b[39m, index\u001b[39m=\u001b[39m\u001b[39mFalse\u001b[39;00m)\n",
      "File \u001b[0;32m~/Github/chronolog/.venv/lib/python3.11/site-packages/pandas/core/ops/common.py:76\u001b[0m, in \u001b[0;36m_unpack_zerodim_and_defer.<locals>.new_method\u001b[0;34m(self, other)\u001b[0m\n\u001b[1;32m     72\u001b[0m             \u001b[39mreturn\u001b[39;00m \u001b[39mNotImplemented\u001b[39m\n\u001b[1;32m     74\u001b[0m other \u001b[39m=\u001b[39m item_from_zerodim(other)\n\u001b[0;32m---> 76\u001b[0m \u001b[39mreturn\u001b[39;00m method(\u001b[39mself\u001b[39;49m, other)\n",
      "File \u001b[0;32m~/Github/chronolog/.venv/lib/python3.11/site-packages/pandas/core/arraylike.py:40\u001b[0m, in \u001b[0;36mOpsMixin.__eq__\u001b[0;34m(self, other)\u001b[0m\n\u001b[1;32m     38\u001b[0m \u001b[39m@unpack_zerodim_and_defer\u001b[39m(\u001b[39m\"\u001b[39m\u001b[39m__eq__\u001b[39m\u001b[39m\"\u001b[39m)\n\u001b[1;32m     39\u001b[0m \u001b[39mdef\u001b[39;00m \u001b[39m__eq__\u001b[39m(\u001b[39mself\u001b[39m, other):\n\u001b[0;32m---> 40\u001b[0m     \u001b[39mreturn\u001b[39;00m \u001b[39mself\u001b[39;49m\u001b[39m.\u001b[39;49m_cmp_method(other, operator\u001b[39m.\u001b[39;49meq)\n",
      "File \u001b[0;32m~/Github/chronolog/.venv/lib/python3.11/site-packages/pandas/core/series.py:5799\u001b[0m, in \u001b[0;36mSeries._cmp_method\u001b[0;34m(self, other, op)\u001b[0m\n\u001b[1;32m   5796\u001b[0m lvalues \u001b[39m=\u001b[39m \u001b[39mself\u001b[39m\u001b[39m.\u001b[39m_values\n\u001b[1;32m   5797\u001b[0m rvalues \u001b[39m=\u001b[39m extract_array(other, extract_numpy\u001b[39m=\u001b[39m\u001b[39mTrue\u001b[39;00m, extract_range\u001b[39m=\u001b[39m\u001b[39mTrue\u001b[39;00m)\n\u001b[0;32m-> 5799\u001b[0m res_values \u001b[39m=\u001b[39m ops\u001b[39m.\u001b[39;49mcomparison_op(lvalues, rvalues, op)\n\u001b[1;32m   5801\u001b[0m \u001b[39mreturn\u001b[39;00m \u001b[39mself\u001b[39m\u001b[39m.\u001b[39m_construct_result(res_values, name\u001b[39m=\u001b[39mres_name)\n",
      "File \u001b[0;32m~/Github/chronolog/.venv/lib/python3.11/site-packages/pandas/core/ops/array_ops.py:346\u001b[0m, in \u001b[0;36mcomparison_op\u001b[0;34m(left, right, op)\u001b[0m\n\u001b[1;32m    343\u001b[0m     \u001b[39mreturn\u001b[39;00m invalid_comparison(lvalues, rvalues, op)\n\u001b[1;32m    345\u001b[0m \u001b[39melif\u001b[39;00m lvalues\u001b[39m.\u001b[39mdtype \u001b[39m==\u001b[39m \u001b[39mobject\u001b[39m \u001b[39mor\u001b[39;00m \u001b[39misinstance\u001b[39m(rvalues, \u001b[39mstr\u001b[39m):\n\u001b[0;32m--> 346\u001b[0m     res_values \u001b[39m=\u001b[39m comp_method_OBJECT_ARRAY(op, lvalues, rvalues)\n\u001b[1;32m    348\u001b[0m \u001b[39melse\u001b[39;00m:\n\u001b[1;32m    349\u001b[0m     res_values \u001b[39m=\u001b[39m _na_arithmetic_op(lvalues, rvalues, op, is_cmp\u001b[39m=\u001b[39m\u001b[39mTrue\u001b[39;00m)\n",
      "File \u001b[0;32m~/Github/chronolog/.venv/lib/python3.11/site-packages/pandas/core/ops/array_ops.py:131\u001b[0m, in \u001b[0;36mcomp_method_OBJECT_ARRAY\u001b[0;34m(op, x, y)\u001b[0m\n\u001b[1;32m    129\u001b[0m     result \u001b[39m=\u001b[39m libops\u001b[39m.\u001b[39mvec_compare(x\u001b[39m.\u001b[39mravel(), y\u001b[39m.\u001b[39mravel(), op)\n\u001b[1;32m    130\u001b[0m \u001b[39melse\u001b[39;00m:\n\u001b[0;32m--> 131\u001b[0m     result \u001b[39m=\u001b[39m libops\u001b[39m.\u001b[39;49mscalar_compare(x\u001b[39m.\u001b[39;49mravel(), y, op)\n\u001b[1;32m    132\u001b[0m \u001b[39mreturn\u001b[39;00m result\u001b[39m.\u001b[39mreshape(x\u001b[39m.\u001b[39mshape)\n",
      "\u001b[0;31mKeyboardInterrupt\u001b[0m: "
     ]
    }
   ],
   "source": [
    "for i in range(train.shape[0]):\n",
    "    df = pd.DataFrame(calendar[['date', 'd', 'wm_yr_wk']])\n",
    "    df_train =  df.loc[0:1926]\n",
    "    df_test = df.loc[1927:]\n",
    "    #print(df_train)\n",
    "    #print(df_test)\n",
    "    df_train['y'] = train.loc[i,'d_1':].values\n",
    "    df_train = pd.merge(df_train, price[(price['store_id'] == train.loc[i,'store_id']) & (price['item_id'] == train.loc[0,'item_id'])][['wm_yr_wk', 'sell_price']], how='left', on=['wm_yr_wk'])\n",
    "    print(df_train)\n",
    "    #df_train.to_csv('df_train' + str(i) + '.csv', index=False)"
   ]
  },
  {
   "cell_type": "code",
   "execution_count": null,
   "metadata": {},
   "outputs": [],
   "source": []
  }
 ],
 "metadata": {
  "kernelspec": {
   "display_name": ".venv",
   "language": "python",
   "name": "python3"
  },
  "language_info": {
   "codemirror_mode": {
    "name": "ipython",
    "version": 3
   },
   "file_extension": ".py",
   "mimetype": "text/x-python",
   "name": "python",
   "nbconvert_exporter": "python",
   "pygments_lexer": "ipython3",
   "version": "3.11.3"
  }
 },
 "nbformat": 4,
 "nbformat_minor": 2
}
