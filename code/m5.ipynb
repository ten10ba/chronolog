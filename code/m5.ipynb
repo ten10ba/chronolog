{
 "cells": [
  {
   "cell_type": "code",
<<<<<<< HEAD
   "execution_count": 2,
=======
   "execution_count": 4,
>>>>>>> main
   "metadata": {},
   "outputs": [
    {
     "ename": "ModuleNotFoundError",
     "evalue": "No module named 'optuna'",
     "output_type": "error",
     "traceback": [
      "\u001b[1;31m---------------------------------------------------------------------------\u001b[0m",
      "\u001b[1;31mModuleNotFoundError\u001b[0m                       Traceback (most recent call last)",
      "Input \u001b[1;32mIn [4]\u001b[0m, in \u001b[0;36m<cell line: 8>\u001b[1;34m()\u001b[0m\n\u001b[0;32m      6\u001b[0m \u001b[38;5;28;01mimport\u001b[39;00m \u001b[38;5;21;01mmatplotlib\u001b[39;00m\u001b[38;5;21;01m.\u001b[39;00m\u001b[38;5;21;01mticker\u001b[39;00m \u001b[38;5;28;01mas\u001b[39;00m \u001b[38;5;21;01mmtick\u001b[39;00m\n\u001b[0;32m      7\u001b[0m \u001b[38;5;28;01mimport\u001b[39;00m \u001b[38;5;21;01mmatplotlib\u001b[39;00m\u001b[38;5;21;01m.\u001b[39;00m\u001b[38;5;21;01mimage\u001b[39;00m \u001b[38;5;28;01mas\u001b[39;00m \u001b[38;5;21;01mmpimg\u001b[39;00m\n\u001b[1;32m----> 8\u001b[0m \u001b[38;5;28;01mimport\u001b[39;00m \u001b[38;5;21;01moptuna\u001b[39;00m\n\u001b[0;32m      9\u001b[0m \u001b[38;5;28;01mfrom\u001b[39;00m \u001b[38;5;21;01mitertools\u001b[39;00m \u001b[38;5;28;01mimport\u001b[39;00m cycle\n\u001b[0;32m     10\u001b[0m \u001b[38;5;28;01mimport\u001b[39;00m \u001b[38;5;21;01mseaborn\u001b[39;00m \u001b[38;5;28;01mas\u001b[39;00m \u001b[38;5;21;01msns\u001b[39;00m\n",
      "\u001b[1;31mModuleNotFoundError\u001b[0m: No module named 'optuna'"
     ]
    }
   ],
   "source": [
    "import os\n",
    "import numpy\n",
    "import pandas as pd\n",
    "import matplotlib\n",
    "import matplotlib.pyplot as plt\n",
    "import matplotlib.ticker as mtick\n",
    "import matplotlib.image as mpimg\n",
    "import optuna\n",
    "from itertools import cycle\n",
    "import seaborn as sns\n",
    "import statsmodels.api as sm \n",
    "from scipy.interpolate import interp1d\n",
    "from prophet import Prophet\n",
    "\n",
    "pd.set_option('display.max_columns', 50)\n",
    "plt.style.use('bmh')\n",
    "color_cycle = cycle(plt.rcParams['axes.prop_cycle'].by_key()['color'])"
   ]
  },
  {
   "cell_type": "code",
   "execution_count": 3,
   "metadata": {},
   "outputs": [
    {
     "name": "stdout",
     "output_type": "stream",
     "text": [
<<<<<<< HEAD
      "CPU times: user 9.1 s, sys: 2.19 s, total: 11.3 s\n",
      "Wall time: 16.8 s\n"
=======
      "CPU times: total: 3.09 s\n",
      "Wall time: 7.67 s\n"
>>>>>>> main
     ]
    }
   ],
   "source": [
    "%%time\n",
    "oj = os.path.join\n",
    "INPUT_DIR = '../input/m5-forecasting-accuracy/'\n",
    "train = pd.read_csv(oj(INPUT_DIR, 'trainset.csv'))\n",
    "price = pd.read_csv(oj(INPUT_DIR, 'sell_prices.csv'))\n",
    "calendar = pd.read_csv(oj(INPUT_DIR, 'calendar.csv'))\n",
    "\n",
    "sample_submit = pd.read_csv(oj(INPUT_DIR, 'submit.csv'))"
   ]
  },
  {
   "cell_type": "code",
<<<<<<< HEAD
   "execution_count": 4,
   "metadata": {},
   "outputs": [
    {
     "name": "stdout",
     "output_type": "stream",
     "text": [
      "[nan 'SuperBowl' 'ValentinesDay' 'PresidentsDay' 'LentStart' 'LentWeek2'\n",
      " 'StPatricksDay' 'Purim End' 'OrthodoxEaster' 'Pesach End' 'Cinco De Mayo'\n",
      " \"Mother's day\" 'MemorialDay' 'NBAFinalsStart' 'NBAFinalsEnd'\n",
      " \"Father's day\" 'IndependenceDay' 'Ramadan starts' 'Eid al-Fitr'\n",
      " 'LaborDay' 'ColumbusDay' 'Halloween' 'EidAlAdha' 'VeteransDay'\n",
      " 'Thanksgiving' 'Christmas' 'Chanukah End' 'NewYear' 'OrthodoxChristmas'\n",
      " 'MartinLutherKingDay' 'Easter']\n"
     ]
    }
   ],
   "source": [
    "print(calendar['event_name_1'].unique())"
   ]
  },
  {
   "cell_type": "code",
   "execution_count": 5,
   "metadata": {},
   "outputs": [
    {
     "name": "stdout",
     "output_type": "stream",
     "text": [
      "[nan 'Sporting' 'Cultural' 'National' 'Religious']\n"
     ]
    }
   ],
=======
   "execution_count": null,
   "metadata": {},
   "outputs": [],
>>>>>>> main
   "source": [
    "print(calendar['event_type_1'].unique())"
   ]
  },
  {
   "cell_type": "code",
<<<<<<< HEAD
   "execution_count": 6,
=======
   "execution_count": null,
>>>>>>> main
   "metadata": {},
   "outputs": [],
   "source": [
    "print(calendar['event_name_2'].unique())"
   ]
  },
  {
   "cell_type": "code",
<<<<<<< HEAD
   "execution_count": 7,
=======
   "execution_count": null,
>>>>>>> main
   "metadata": {},
   "outputs": [],
   "source": [
    "print(calendar['event_type_2'].unique())"
   ]
  },
  {
   "cell_type": "code",
<<<<<<< HEAD
   "execution_count": 8,
=======
   "execution_count": null,
>>>>>>> main
   "metadata": {},
   "outputs": [],
   "source": [
    "print(price.head())\n",
    "print(price.shape)"
   ]
  },
  {
   "cell_type": "code",
   "execution_count": null,
   "metadata": {},
   "outputs": [],
<<<<<<< HEAD
   "source": []
  },
  {
   "cell_type": "code",
   "execution_count": 9,
   "metadata": {},
   "outputs": [
    {
     "name": "stdout",
     "output_type": "stream",
     "text": [
      "(30490, 1933)\n"
     ]
    }
   ],
=======
>>>>>>> main
   "source": [
    "print(train.shape)"
   ]
  },
  {
   "cell_type": "code",
   "execution_count": 12,
   "metadata": {},
   "outputs": [
    {
     "name": "stdout",
     "output_type": "stream",
     "text": [
      "           ds  lower_window  upper_window        holiday\n",
      "0  2011-02-06             0             1      SuperBowl\n",
      "1  2011-02-14             0             1  ValentinesDay\n",
      "2  2011-02-21             0             1  PresidentsDay\n",
      "3  2011-03-09             0             1      LentStart\n",
      "4  2011-03-16             0             1      LentWeek2\n"
     ]
    }
   ],
   "source": [
    "holidays = calendar[['date', 'event_name_1', 'event_type_1', 'event_name_2', 'event_type_2']]\n",
    "holidays = holidays.rename(columns={'date': 'ds'})\n",
    "holidays['lower_window'] = 0\n",
    "holidays['upper_window'] = 1\n",
    "holidays1 = holidays.dropna(subset = ['event_name_1'])\n",
    "holidays2 = holidays.dropna(subset = ['event_name_2'])\n",
    "holidays1 = holidays1[['ds', 'lower_window', 'upper_window', 'event_name_1']]\n",
    "holidays1 = holidays1.rename(columns={'event_name_1': 'holiday'})\n",
    "holidays2 = holidays2[['ds', 'lower_window', 'upper_window', 'event_name_2']]\n",
    "holidays2 = holidays2.rename(columns={'event_name_2': 'holiday'})\n",
    "holidays = pd.concat((holidays1, holidays2))\n",
    "holidays = holidays.reset_index(drop=True)\n",
<<<<<<< HEAD
    "print(holidays.head())\n",
    "\n"
=======
    "print(holidays.head())\n"
>>>>>>> main
   ]
  },
  {
   "cell_type": "code",
   "execution_count": 1,
   "metadata": {},
   "outputs": [
    {
     "ename": "NameError",
     "evalue": "name 'pd' is not defined",
     "output_type": "error",
     "traceback": [
      "\u001b[1;31m---------------------------------------------------------------------------\u001b[0m",
      "\u001b[1;31mNameError\u001b[0m                                 Traceback (most recent call last)",
      "Input \u001b[1;32mIn [1]\u001b[0m, in \u001b[0;36m<cell line: 1>\u001b[1;34m()\u001b[0m\n\u001b[0;32m      1\u001b[0m \u001b[38;5;28;01mfor\u001b[39;00m i \u001b[38;5;129;01min\u001b[39;00m \u001b[38;5;28mrange\u001b[39m(\u001b[38;5;241m10\u001b[39m):\n\u001b[1;32m----> 2\u001b[0m     df \u001b[38;5;241m=\u001b[39m \u001b[43mpd\u001b[49m\u001b[38;5;241m.\u001b[39mDataFrame(calendar[[\u001b[38;5;124m'\u001b[39m\u001b[38;5;124mdate\u001b[39m\u001b[38;5;124m'\u001b[39m, \u001b[38;5;124m'\u001b[39m\u001b[38;5;124md\u001b[39m\u001b[38;5;124m'\u001b[39m, \u001b[38;5;124m'\u001b[39m\u001b[38;5;124mwm_yr_wk\u001b[39m\u001b[38;5;124m'\u001b[39m, \u001b[38;5;124m'\u001b[39m\u001b[38;5;124mevent_name_1\u001b[39m\u001b[38;5;124m'\u001b[39m, \u001b[38;5;124m'\u001b[39m\u001b[38;5;124mevent_type_1\u001b[39m\u001b[38;5;124m'\u001b[39m, \u001b[38;5;124m'\u001b[39m\u001b[38;5;124mevent_name_2\u001b[39m\u001b[38;5;124m'\u001b[39m, \u001b[38;5;124m'\u001b[39m\u001b[38;5;124mevent_type_2\u001b[39m\u001b[38;5;124m'\u001b[39m]])\n\u001b[0;32m      3\u001b[0m     df_train \u001b[38;5;241m=\u001b[39m  df\u001b[38;5;241m.\u001b[39mloc[\u001b[38;5;241m0\u001b[39m:\u001b[38;5;241m1926\u001b[39m]\n\u001b[0;32m      4\u001b[0m     df_test \u001b[38;5;241m=\u001b[39m df\u001b[38;5;241m.\u001b[39mloc[\u001b[38;5;241m1927\u001b[39m:]\n",
      "\u001b[1;31mNameError\u001b[0m: name 'pd' is not defined"
     ]
    }
   ],
   "source": [
    "submit_df = pd.DataFrame()\n",
    "for i in range(10):\n",
    "    df = pd.DataFrame(calendar[['date', 'd', 'wm_yr_wk', 'event_name_1', 'event_type_1', 'event_name_2', 'event_type_2']])\n",
    "    df_train =  df.loc[0:1926]\n",
    "    df_test = df.loc[1927:]\n",
    "\n",
    "    df_train['y'] = train.loc[i,'d_1':].values\n",
    "    print(df_train)\n",
    "    df_train = pd.merge(df_train, price[(price['store_id'] == train.loc[i,'store_id']) \\\n",
    "                & (price['item_id'] == train.loc[0,'item_id'])]\\\n",
    "                [['wm_yr_wk', 'sell_price']], how='left', on=['wm_yr_wk'])\n",
    "    \n",
    "    df_train = df_train.rename(columns={'date': 'ds'})\n",
    "\n",
    "    print(df_train)\n",
    "    df_train = df_train.fillna({\"sell_price\":9999999999})\n",
    "    print(\"-------------------\")\n",
    "    print(df_train)\n",
    "    print(\"-------------------\")\n",
    "    \n",
    "    model = Prophet(weekly_seasonality=True, yearly_seasonality=True, holidays=holidays)\n",
    "    # model = Prophet(weekly_seasonality=True, yearly_seasonality=True)\n",
    "    model.add_seasonality(name=\"monthly\", period=30.5, fourier_order=7)\n",
    "    model.add_seasonality(name=\"yearly\", period=365, fourier_order=10)\n",
    "    \n",
    "    model.add_regressor('sell_price')\n",
    "    model.fit(df_train)\n",
    "    future = model.make_future_dataframe(periods=14)\n",
    "    future[\"wm_yr_wk\"] = calendar[:len(future)][\"wm_yr_wk\"]\n",
    "    #future = future.rename(columns={'ds': 'date'})\n",
    "    print(future)\n",
    "   \n",
    "    future = pd.merge(future, price[(price['store_id'] == train.loc[i,'store_id'])\\\n",
    "                    & (price['item_id'] == train.loc[0,'item_id'])] \\\n",
    "                    [['wm_yr_wk',\"sell_price\"]], how='left', on=['wm_yr_wk'])\n",
    "    future = future.fillna({\"sell_price\":9999999999})\n",
    "    print(future)\n",
    "    #future[\"sell_price\"] = df_train[\"sell_price\"]\n",
    "    print(future)\n",
    "    forecast = model.predict(future)\n",
    "    #print(forecast.tail(14))\n",
    "    #model.plot(forecast.tail(14))\n",
    "    model.plot(forecast)\n",
    "    plt.show()\n",
    "    #df_train.to_csv('df_train' + str(i) + '.csv', index=False)\n",
    "    yhat_tenchi = forecast[['yhat']].tail(14).T.round(0)\n",
    "    submit_df = pd.concat([submit_df, yhat_tenchi.reset_index(drop=True)], ignore_index=True)\n",
    "for i, row in enumerate(submit_df.itertuples(index=False), start=0):\n",
    "    # start=2 はsample_submitの2行目から始まるため\n",
    "    # 7列目から始めて、行の各要素を置換する\n",
    "    for j, value in enumerate(row, start=6):\n",
    "        sample_submit.iat[i, j] = value\n",
    "\n",
    "sample_submit.to_csv('submit_edited.csv', index=False)\n"
   ]
  },
  {
   "cell_type": "code",
   "execution_count": null,
   "metadata": {},
   "outputs": [],
   "source": []
  }
 ],
 "metadata": {
  "kernelspec": {
   "display_name": ".venv",
   "language": "python",
   "name": "python3"
  },
  "language_info": {
   "codemirror_mode": {
    "name": "ipython",
    "version": 3
   },
   "file_extension": ".py",
   "mimetype": "text/x-python",
   "name": "python",
   "nbconvert_exporter": "python",
   "pygments_lexer": "ipython3",
   "version": "3.9.7"
  }
 },
 "nbformat": 4,
 "nbformat_minor": 2
}
