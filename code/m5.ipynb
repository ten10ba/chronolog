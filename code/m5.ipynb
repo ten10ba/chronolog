{
 "cells": [
  {
   "cell_type": "code",
   "execution_count": 1,
   "metadata": {},
   "outputs": [],
   "source": [
    "import os\n",
    "import numpy\n",
    "import pandas as pd\n",
    "import matplotlib\n",
    "import matplotlib.pyplot as plt\n",
    "import matplotlib.ticker as mtick\n",
    "import matplotlib.image as mpimg\n",
    "import optuna\n",
    "from itertools import cycle\n",
    "import seaborn as sns\n",
    "import statsmodels.api as sm \n",
    "from scipy.interpolate import interp1d\n",
    "from prophet import Prophet\n",
    "\n",
    "pd.set_option('display.max_columns', 50)\n",
    "plt.style.use('bmh')\n",
    "color_cycle = cycle(plt.rcParams['axes.prop_cycle'].by_key()['color'])"
   ]
  },
  {
   "cell_type": "code",
   "execution_count": 2,
   "metadata": {},
   "outputs": [
    {
     "name": "stdout",
     "output_type": "stream",
     "text": [
      "CPU times: total: 3.09 s\n",
      "Wall time: 7.67 s\n"
     ]
    }
   ],
   "source": [
    "%%time\n",
    "oj = os.path.join\n",
    "INPUT_DIR = '../input/m5-forecasting-accuracy/'\n",
    "train = pd.read_csv(oj(INPUT_DIR, 'trainset.csv'))\n",
    "price = pd.read_csv(oj(INPUT_DIR, 'sell_prices.csv'))\n",
    "calendar = pd.read_csv(oj(INPUT_DIR, 'calendar.csv'))\n",
    "\n",
    "sample_submit = pd.read_csv(oj(INPUT_DIR, 'submit.csv'))"
   ]
  },
  {
   "cell_type": "code",
   "execution_count": null,
   "metadata": {},
   "outputs": [],
   "source": [
    "print(calendar['event_type_1'].unique())"
   ]
  },
  {
   "cell_type": "code",
   "execution_count": null,
   "metadata": {},
   "outputs": [],
   "source": [
    "print(calendar['event_name_2'].unique())"
   ]
  },
  {
   "cell_type": "code",
   "execution_count": null,
   "metadata": {},
   "outputs": [],
   "source": [
    "print(calendar['event_type_2'].unique())"
   ]
  },
  {
   "cell_type": "code",
   "execution_count": null,
   "metadata": {},
   "outputs": [],
   "source": [
    "print(price.head())\n",
    "print(price.shape)"
   ]
  },
  {
   "cell_type": "code",
   "execution_count": null,
   "metadata": {},
   "outputs": [],
   "source": [
    "print(train.shape)"
   ]
  },
  {
   "cell_type": "code",
   "execution_count": null,
   "metadata": {},
   "outputs": [],
   "source": [
    "holidays = calendar[['date', 'event_name_1', 'event_type_1', 'event_name_2', 'event_type_2']]\n",
    "holidays = holidays.rename(columns={'date': 'ds'})\n",
    "holidays['lower_window'] = 0\n",
    "holidays['upper_window'] = 1\n",
    "holidays1 = holidays.dropna(subset = ['event_name_1'])\n",
    "holidays2 = holidays.dropna(subset = ['event_name_2'])\n",
    "holidays1 = holidays1[['ds', 'lower_window', 'upper_window', 'event_name_1']]\n",
    "holidays1 = holidays1.rename(columns={'event_name_1': 'holiday'})\n",
    "holidays2 = holidays2[['ds', 'lower_window', 'upper_window', 'event_name_2']]\n",
    "holidays2 = holidays2.rename(columns={'event_name_2': 'holiday'})\n",
    "holidays = pd.concat((holidays1, holidays2))\n",
    "holidays = holidays.reset_index(drop=True)\n",
    "print(holidays.head())\n"
   ]
  },
  {
   "cell_type": "code",
   "execution_count": null,
   "metadata": {},
   "outputs": [],
   "source": [
    "for i in range(train.shape[0]):\n",
    "    df = pd.DataFrame(calendar[['date', 'd', 'wm_yr_wk', 'event_name_1', 'event_type_1', 'event_name_2', 'event_type_2']])\n",
    "    df_train =  df.loc[0:1926]\n",
    "    df_test = df.loc[1927:]\n",
    "\n",
    "    df_train['y'] = train.loc[i,'d_1':].values\n",
    "    print(df_train)\n",
    "    df_train = pd.merge(df_train, price[(price['store_id'] == train.loc[i,'store_id']) \\\n",
    "                & (price['item_id'] == train.loc[0,'item_id'])]\\\n",
    "                [['wm_yr_wk', 'sell_price']], how='left', on=['wm_yr_wk'])\n",
    "    \n",
    "    df_train = df_train.rename(columns={'date': 'ds'})\n",
    "\n",
    "    print(df_train)\n",
    "    df_train = df_train.fillna({\"sell_price\":9999999999})\n",
    "    print(\"-------------------\")\n",
    "    print(df_train)\n",
    "    print(\"-------------------\")\n",
    "    \n",
    "    model = Prophet(weekly_seasonality=True, yearly_seasonality=True, holidays=holidays)\n",
    "    # model = Prophet(weekly_seasonality=True, yearly_seasonality=True)\n",
    "    model.add_seasonality(name=\"monthly\", period=30.5, fourier_order=7)\n",
    "    model.add_seasonality(name=\"yearly\", period=365, fourier_order=10)\n",
    "    \n",
    "    model.add_regressor('sell_price')\n",
    "    model.fit(df_train)\n",
    "    future = model.make_future_dataframe(periods=14)\n",
    "    future[\"wm_yr_wk\"] = calendar[:len(future)][\"wm_yr_wk\"]\n",
    "    #future = future.rename(columns={'ds': 'date'})\n",
    "    print(future)\n",
    "   \n",
    "    future = pd.merge(future, price[(price['store_id'] == train.loc[i,'store_id'])\\\n",
    "                    & (price['item_id'] == train.loc[0,'item_id'])] \\\n",
    "                    [['wm_yr_wk',\"sell_price\"]], how='left', on=['wm_yr_wk'])\n",
    "    future = future.fillna({\"sell_price\":9999999999})\n",
    "    print(future)\n",
    "    #future[\"sell_price\"] = df_train[\"sell_price\"]\n",
    "    print(future)\n",
    "    forecast = model.predict(future)\n",
    "    #print(forecast.tail(14))\n",
    "    #model.plot(forecast.tail(14))\n",
    "    model.plot(forecast)\n",
    "    plt.show()\n",
    "    #df_train.to_csv('df_train' + str(i) + '.csv', index=False)",

    "    yhat_tenchi = forecast[['yhat']].tail(14).T.round(0)\n",
    "    submit_df = pd.concat([submit_df, yhat_tenchi.reset_index(drop=True)], ignore_index=True)\n",

    "for i, row in enumerate(submit_df.itertuples(index=False), start=0):\n",
    "    # start=2 はsample_submitの2行目から始まるため\n",
    "    # 7列目から始めて、行の各要素を置換する\n",
    "    for j, value in enumerate(row, start=6):\n",
    "        sample_submit.iat[i, j] = value\n",
    "\n",
    "sample_submit.to_csv('submit_edited.csv', index=False)\n"
   ]
  },
  {
   "cell_type": "code",
   "execution_count": null,
   "metadata": {},
   "outputs": [],
   "source": []
  }
 ],
 "metadata": {
  "kernelspec": {
   "display_name": ".venv",
   "language": "python",
   "name": "python3"
  },
  "language_info": {
   "codemirror_mode": {
    "name": "ipython",
    "version": 3
   },
   "file_extension": ".py",
   "mimetype": "text/x-python",
   "name": "python",
   "nbconvert_exporter": "python",
   "pygments_lexer": "ipython3",
   "version": "3.9.7"
  }
 },
 "nbformat": 4,
 "nbformat_minor": 2
}
