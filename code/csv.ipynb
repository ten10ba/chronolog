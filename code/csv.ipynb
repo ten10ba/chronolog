{
 "cells": [
  {
   "cell_type": "markdown",
   "metadata": {},
   "source": [
    "# csv処理"
   ]
  },
  {
   "cell_type": "code",
   "execution_count": 4,
   "metadata": {},
   "outputs": [],
   "source": [
    "import os\n",
    "import numpy as np\n",
    "import pandas as pd\n",
    "import matplotlib\n",
    "import matplotlib.pyplot as plt\n",
    "import matplotlib.ticker as mtick\n",
    "import matplotlib.image as mpimg\n",
    "import optuna\n",
    "from itertools import cycle\n",
    "import seaborn as sns\n",
    "import statsmodels.api as sm \n",
    "from scipy.interpolate import interp1d\n",
    "from prophet import Prophet\n",
    "from prophet.plot import add_changepoints_to_plot\n",
    "from sklearn.metrics import mean_squared_error\n",
    "import time\n",
    "\n",
    "pd.set_option('display.max_columns', 50)\n",
    "plt.style.use('bmh')\n",
    "color_cycle = cycle(plt.rcParams['axes.prop_cycle'].by_key()['color'])"
   ]
  },
  {
   "cell_type": "code",
   "execution_count": 5,
   "metadata": {},
   "outputs": [
    {
     "name": "stdout",
     "output_type": "stream",
     "text": [
      "CPU times: user 8.58 s, sys: 1.89 s, total: 10.5 s\n",
      "Wall time: 12.6 s\n"
     ]
    }
   ],
   "source": [
    "%%time\n",
    "oj = os.path.join\n",
    "INPUT_DIR = '../input/m5-forecasting-accuracy/'\n",
    "train = pd.read_csv(oj(INPUT_DIR, 'trainset.csv'))\n",
    "price = pd.read_csv(oj(INPUT_DIR, 'sell_prices.csv'))\n",
    "calendar = pd.read_csv(oj(INPUT_DIR, 'calendar.csv'))\n",
    "\n",
    "sample_submit = pd.read_csv(oj(INPUT_DIR, 'submit.csv'))"
   ]
  },
  {
   "cell_type": "code",
   "execution_count": 15,
   "metadata": {},
   "outputs": [
    {
     "name": "stdout",
     "output_type": "stream",
     "text": [
      "             d_1928        d_1929        d_1930        d_1931        d_1932  \\\n",
      "count  10164.000000  10164.000000  10164.000000  10164.000000  10164.000000   \n",
      "mean       1.120917      0.970091      0.936934      0.944116      1.053621   \n",
      "std        2.858058      2.341900      2.262916      2.293016      2.639846   \n",
      "min       -5.000000     -7.000000     -6.000000     -5.000000     -7.000000   \n",
      "25%        0.000000      0.000000      0.000000      0.000000      0.000000   \n",
      "50%        0.000000      0.000000      0.000000      0.000000      0.000000   \n",
      "75%        1.000000      1.000000      1.000000      1.000000      1.000000   \n",
      "max       85.000000     67.000000     67.000000     69.000000     86.000000   \n",
      "\n",
      "             d_1933        d_1934        d_1935        d_1936        d_1937  \\\n",
      "count  10164.000000  10164.000000  10164.000000  10164.000000  10164.000000   \n",
      "mean       1.249902      1.321921      1.078217      0.981700      0.957104   \n",
      "std        3.189006      3.217809      2.565923      2.436775      2.410726   \n",
      "min       -8.000000    -10.000000    -12.000000    -13.000000    -14.000000   \n",
      "25%        0.000000      0.000000      0.000000      0.000000      0.000000   \n",
      "50%        1.000000      1.000000      0.000000      0.000000      0.000000   \n",
      "75%        1.000000      1.000000      1.000000      1.000000      1.000000   \n",
      "max      111.000000    109.000000     76.000000     71.000000     71.000000   \n",
      "\n",
      "             d_1938        d_1939        d_1940        d_1941  \n",
      "count  10164.000000  10164.000000  10164.000000  10164.000000  \n",
      "mean       0.962318      1.036895      1.223632      1.261905  \n",
      "std        2.496530      2.772299      3.234157      3.241271  \n",
      "min      -15.000000    -17.000000    -17.000000    -17.000000  \n",
      "25%        0.000000      0.000000      0.000000      0.000000  \n",
      "50%        0.000000      0.000000      1.000000      1.000000  \n",
      "75%        1.000000      1.000000      1.000000      1.000000  \n",
      "max       74.000000     90.000000    110.000000    107.000000  \n"
     ]
    }
   ],
   "source": [
    "OUTPUT_DIR = '../output/'\n",
    "df = pd.read_csv(oj(OUTPUT_DIR, 'submit1_edited.csv'))\n",
    "print(df.describe())"
   ]
  },
  {
   "cell_type": "code",
   "execution_count": 16,
   "metadata": {},
   "outputs": [
    {
     "name": "stdout",
     "output_type": "stream",
     "text": [
      "['d_1928', 'd_1929', 'd_1930', 'd_1931', 'd_1932', 'd_1933', 'd_1934', 'd_1935', 'd_1936', 'd_1937', 'd_1938', 'd_1939', 'd_1940', 'd_1941']\n",
      "                                id          item_id      dept_id     cat_id  \\\n",
      "0  HOUSEHOLD_1_462_CA_4_evaluation  HOUSEHOLD_1_462  HOUSEHOLD_1  HOUSEHOLD   \n",
      "1  HOUSEHOLD_1_463_CA_4_evaluation  HOUSEHOLD_1_463  HOUSEHOLD_1  HOUSEHOLD   \n",
      "2  HOUSEHOLD_1_464_CA_4_evaluation  HOUSEHOLD_1_464  HOUSEHOLD_1  HOUSEHOLD   \n",
      "3  HOUSEHOLD_1_465_CA_4_evaluation  HOUSEHOLD_1_465  HOUSEHOLD_1  HOUSEHOLD   \n",
      "4  HOUSEHOLD_1_466_CA_4_evaluation  HOUSEHOLD_1_466  HOUSEHOLD_1  HOUSEHOLD   \n",
      "\n",
      "  store_id state_id  d_1928  d_1929  d_1930  d_1931  d_1932  d_1933  d_1934  \\\n",
      "0     CA_4       CA       0       1       0       0       0       1       1   \n",
      "1     CA_4       CA       0       0       0       0       0       0       0   \n",
      "2     CA_4       CA       0       0       0       0       0       0       0   \n",
      "3     CA_4       CA       3       2       2       2       2       3       3   \n",
      "4     CA_4       CA       0       0       0       0       0       0       0   \n",
      "\n",
      "   d_1935  d_1936  d_1937  d_1938  d_1939  d_1940  d_1941  \n",
      "0       1       1       0       0       1       1       1  \n",
      "1       0       0       0       0       0       0       0  \n",
      "2       0       0       0       0       0       0       0  \n",
      "3       2       2       2       2       2       3       3  \n",
      "4       0       0       0       0       0       0       0  \n",
      "             d_1928        d_1929        d_1930        d_1931        d_1932  \\\n",
      "count  10164.000000  10164.000000  10164.000000  10164.000000  10164.000000   \n",
      "mean       1.135675      0.978158      0.946576      0.955333      1.063853   \n",
      "std        2.847702      2.334751      2.254539      2.282639      2.630956   \n",
      "min        0.000000      0.000000      0.000000      0.000000      0.000000   \n",
      "25%        0.000000      0.000000      0.000000      0.000000      0.000000   \n",
      "50%        0.000000      0.000000      0.000000      0.000000      0.000000   \n",
      "75%        1.000000      1.000000      1.000000      1.000000      1.000000   \n",
      "max       85.000000     67.000000     67.000000     69.000000     86.000000   \n",
      "\n",
      "             d_1933        d_1934        d_1935        d_1936        d_1937  \\\n",
      "count  10164.000000  10164.000000  10164.000000  10164.000000  10164.000000   \n",
      "mean       1.260134      1.333137      1.093270      0.999311      0.975699   \n",
      "std        3.179782      3.205114      2.544334      2.411373      2.382143   \n",
      "min        0.000000      0.000000      0.000000      0.000000      0.000000   \n",
      "25%        0.000000      0.000000      0.000000      0.000000      0.000000   \n",
      "50%        1.000000      1.000000      0.000000      0.000000      0.000000   \n",
      "75%        1.000000      1.000000      1.000000      1.000000      1.000000   \n",
      "max      111.000000    109.000000     76.000000     71.000000     71.000000   \n",
      "\n",
      "             d_1938        d_1939        d_1940        d_1941  \n",
      "count  10164.000000  10164.000000  10164.000000  10164.000000  \n",
      "mean       0.982389      1.056966      1.242424      1.282566  \n",
      "std        2.464145      2.743522      3.204479      3.206042  \n",
      "min        0.000000      0.000000      0.000000      0.000000  \n",
      "25%        0.000000      0.000000      0.000000      0.000000  \n",
      "50%        0.000000      0.000000      1.000000      1.000000  \n",
      "75%        1.000000      1.000000      1.000000      1.000000  \n",
      "max       74.000000     90.000000    110.000000    107.000000  \n"
     ]
    }
   ],
   "source": [
    "result_column_names = df.columns[df.columns.get_loc('d_1928'):].to_list()\n",
    "print(result_column_names)\n",
    "df[result_column_names] = df[result_column_names].map(lambda x: max(0, x))\n",
    "\n",
    "print(df.head())\n",
    "print(df.describe())"
   ]
  }
 ],
 "metadata": {
  "kernelspec": {
   "display_name": ".venv",
   "language": "python",
   "name": "python3"
  },
  "language_info": {
   "codemirror_mode": {
    "name": "ipython",
    "version": 3
   },
   "file_extension": ".py",
   "mimetype": "text/x-python",
   "name": "python",
   "nbconvert_exporter": "python",
   "pygments_lexer": "ipython3",
   "version": "3.11.3"
  }
 },
 "nbformat": 4,
 "nbformat_minor": 2
}
